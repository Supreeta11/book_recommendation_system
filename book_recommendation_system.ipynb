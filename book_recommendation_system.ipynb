{
  "nbformat": 4,
  "nbformat_minor": 0,
  "metadata": {
    "colab": {
      "provenance": [],
      "authorship_tag": "ABX9TyMl5jPDuIieWMPNrZwvmxaq",
      "include_colab_link": true
    },
    "kernelspec": {
      "name": "python3",
      "display_name": "Python 3"
    },
    "language_info": {
      "name": "python"
    }
  },
  "cells": [
    {
      "cell_type": "markdown",
      "metadata": {
        "id": "view-in-github",
        "colab_type": "text"
      },
      "source": [
        "<a href=\"https://colab.research.google.com/github/Supreeta11/book_recommendation_system/blob/main/book_recommendation_system.ipynb\" target=\"_parent\"><img src=\"https://colab.research.google.com/assets/colab-badge.svg\" alt=\"Open In Colab\"/></a>"
      ]
    },
    {
      "cell_type": "code",
      "execution_count": null,
      "metadata": {
        "id": "r6TYHNcnajo0"
      },
      "outputs": [],
      "source": []
    },
    {
      "cell_type": "code",
      "metadata": {
        "id": "m2w_ho8y-Nko"
      },
      "source": [
        "#Importing modules\n",
        "import pandas as pd\n",
        "import sys\n",
        "import numpy as np\n",
        "import matplotlib.pyplot as plt\n",
        "import seaborn as sns\n",
        "import random\n",
        "# This is to supress the warning messages (if any) generated in our code\n",
        "import warnings\n",
        "warnings.filterwarnings('ignore')\n"
      ],
      "execution_count": 1,
      "outputs": []
    },
    {
      "cell_type": "code",
      "source": [],
      "metadata": {
        "id": "sVMBh8aTavdH"
      },
      "execution_count": null,
      "outputs": []
    },
    {
      "cell_type": "code",
      "metadata": {
        "colab": {
          "base_uri": "https://localhost:8080/"
        },
        "id": "e_Ek1L8tw21x",
        "outputId": "0b873711-b4db-447c-cd22-c0fed1c8346f"
      },
      "source": [
        "from google.colab import drive\n",
        "drive.mount('/content/drive')"
      ],
      "execution_count": 2,
      "outputs": [
        {
          "output_type": "stream",
          "name": "stdout",
          "text": [
            "Mounted at /content/drive\n"
          ]
        }
      ]
    },
    {
      "cell_type": "code",
      "source": [],
      "metadata": {
        "id": "EmgztlVia8su"
      },
      "execution_count": null,
      "outputs": []
    },
    {
      "cell_type": "code",
      "metadata": {
        "colab": {
          "base_uri": "https://localhost:8080/",
          "height": 206
        },
        "id": "SlnxEfeq-h61",
        "outputId": "2753339a-98fc-472b-feb5-ecd256754df7"
      },
      "source": [
        "#Loading data\n",
        "path='/content/drive/My Drive/ml_project/book_recommendation_system/'\n",
        "users=pd.read_csv(path+'Users.csv')\n",
        "users.head()"
      ],
      "execution_count": 9,
      "outputs": [
        {
          "output_type": "execute_result",
          "data": {
            "text/plain": [
              "   User-ID                            Location   Age\n",
              "0        1                  nyc, new york, usa   NaN\n",
              "1        2           stockton, california, usa  18.0\n",
              "2        3     moscow, yukon territory, russia   NaN\n",
              "3        4           porto, v.n.gaia, portugal  17.0\n",
              "4        5  farnborough, hants, united kingdom   NaN"
            ],
            "text/html": [
              "\n",
              "  <div id=\"df-d74c7312-3af5-423f-bc2c-0874d2d30999\">\n",
              "    <div class=\"colab-df-container\">\n",
              "      <div>\n",
              "<style scoped>\n",
              "    .dataframe tbody tr th:only-of-type {\n",
              "        vertical-align: middle;\n",
              "    }\n",
              "\n",
              "    .dataframe tbody tr th {\n",
              "        vertical-align: top;\n",
              "    }\n",
              "\n",
              "    .dataframe thead th {\n",
              "        text-align: right;\n",
              "    }\n",
              "</style>\n",
              "<table border=\"1\" class=\"dataframe\">\n",
              "  <thead>\n",
              "    <tr style=\"text-align: right;\">\n",
              "      <th></th>\n",
              "      <th>User-ID</th>\n",
              "      <th>Location</th>\n",
              "      <th>Age</th>\n",
              "    </tr>\n",
              "  </thead>\n",
              "  <tbody>\n",
              "    <tr>\n",
              "      <th>0</th>\n",
              "      <td>1</td>\n",
              "      <td>nyc, new york, usa</td>\n",
              "      <td>NaN</td>\n",
              "    </tr>\n",
              "    <tr>\n",
              "      <th>1</th>\n",
              "      <td>2</td>\n",
              "      <td>stockton, california, usa</td>\n",
              "      <td>18.0</td>\n",
              "    </tr>\n",
              "    <tr>\n",
              "      <th>2</th>\n",
              "      <td>3</td>\n",
              "      <td>moscow, yukon territory, russia</td>\n",
              "      <td>NaN</td>\n",
              "    </tr>\n",
              "    <tr>\n",
              "      <th>3</th>\n",
              "      <td>4</td>\n",
              "      <td>porto, v.n.gaia, portugal</td>\n",
              "      <td>17.0</td>\n",
              "    </tr>\n",
              "    <tr>\n",
              "      <th>4</th>\n",
              "      <td>5</td>\n",
              "      <td>farnborough, hants, united kingdom</td>\n",
              "      <td>NaN</td>\n",
              "    </tr>\n",
              "  </tbody>\n",
              "</table>\n",
              "</div>\n",
              "      <button class=\"colab-df-convert\" onclick=\"convertToInteractive('df-d74c7312-3af5-423f-bc2c-0874d2d30999')\"\n",
              "              title=\"Convert this dataframe to an interactive table.\"\n",
              "              style=\"display:none;\">\n",
              "        \n",
              "  <svg xmlns=\"http://www.w3.org/2000/svg\" height=\"24px\"viewBox=\"0 0 24 24\"\n",
              "       width=\"24px\">\n",
              "    <path d=\"M0 0h24v24H0V0z\" fill=\"none\"/>\n",
              "    <path d=\"M18.56 5.44l.94 2.06.94-2.06 2.06-.94-2.06-.94-.94-2.06-.94 2.06-2.06.94zm-11 1L8.5 8.5l.94-2.06 2.06-.94-2.06-.94L8.5 2.5l-.94 2.06-2.06.94zm10 10l.94 2.06.94-2.06 2.06-.94-2.06-.94-.94-2.06-.94 2.06-2.06.94z\"/><path d=\"M17.41 7.96l-1.37-1.37c-.4-.4-.92-.59-1.43-.59-.52 0-1.04.2-1.43.59L10.3 9.45l-7.72 7.72c-.78.78-.78 2.05 0 2.83L4 21.41c.39.39.9.59 1.41.59.51 0 1.02-.2 1.41-.59l7.78-7.78 2.81-2.81c.8-.78.8-2.07 0-2.86zM5.41 20L4 18.59l7.72-7.72 1.47 1.35L5.41 20z\"/>\n",
              "  </svg>\n",
              "      </button>\n",
              "      \n",
              "  <style>\n",
              "    .colab-df-container {\n",
              "      display:flex;\n",
              "      flex-wrap:wrap;\n",
              "      gap: 12px;\n",
              "    }\n",
              "\n",
              "    .colab-df-convert {\n",
              "      background-color: #E8F0FE;\n",
              "      border: none;\n",
              "      border-radius: 50%;\n",
              "      cursor: pointer;\n",
              "      display: none;\n",
              "      fill: #1967D2;\n",
              "      height: 32px;\n",
              "      padding: 0 0 0 0;\n",
              "      width: 32px;\n",
              "    }\n",
              "\n",
              "    .colab-df-convert:hover {\n",
              "      background-color: #E2EBFA;\n",
              "      box-shadow: 0px 1px 2px rgba(60, 64, 67, 0.3), 0px 1px 3px 1px rgba(60, 64, 67, 0.15);\n",
              "      fill: #174EA6;\n",
              "    }\n",
              "\n",
              "    [theme=dark] .colab-df-convert {\n",
              "      background-color: #3B4455;\n",
              "      fill: #D2E3FC;\n",
              "    }\n",
              "\n",
              "    [theme=dark] .colab-df-convert:hover {\n",
              "      background-color: #434B5C;\n",
              "      box-shadow: 0px 1px 3px 1px rgba(0, 0, 0, 0.15);\n",
              "      filter: drop-shadow(0px 1px 2px rgba(0, 0, 0, 0.3));\n",
              "      fill: #FFFFFF;\n",
              "    }\n",
              "  </style>\n",
              "\n",
              "      <script>\n",
              "        const buttonEl =\n",
              "          document.querySelector('#df-d74c7312-3af5-423f-bc2c-0874d2d30999 button.colab-df-convert');\n",
              "        buttonEl.style.display =\n",
              "          google.colab.kernel.accessAllowed ? 'block' : 'none';\n",
              "\n",
              "        async function convertToInteractive(key) {\n",
              "          const element = document.querySelector('#df-d74c7312-3af5-423f-bc2c-0874d2d30999');\n",
              "          const dataTable =\n",
              "            await google.colab.kernel.invokeFunction('convertToInteractive',\n",
              "                                                     [key], {});\n",
              "          if (!dataTable) return;\n",
              "\n",
              "          const docLinkHtml = 'Like what you see? Visit the ' +\n",
              "            '<a target=\"_blank\" href=https://colab.research.google.com/notebooks/data_table.ipynb>data table notebook</a>'\n",
              "            + ' to learn more about interactive tables.';\n",
              "          element.innerHTML = '';\n",
              "          dataTable['output_type'] = 'display_data';\n",
              "          await google.colab.output.renderOutput(dataTable, element);\n",
              "          const docLink = document.createElement('div');\n",
              "          docLink.innerHTML = docLinkHtml;\n",
              "          element.appendChild(docLink);\n",
              "        }\n",
              "      </script>\n",
              "    </div>\n",
              "  </div>\n",
              "  "
            ]
          },
          "metadata": {},
          "execution_count": 9
        }
      ]
    },
    {
      "cell_type": "code",
      "source": [],
      "metadata": {
        "id": "4C_KKSIzdO_g"
      },
      "execution_count": null,
      "outputs": []
    },
    {
      "cell_type": "code",
      "metadata": {
        "colab": {
          "base_uri": "https://localhost:8080/",
          "height": 478
        },
        "id": "KOvBgzwR_F0c",
        "outputId": "d0d7c79a-250e-40ac-b568-7add1261a4d0"
      },
      "source": [
        "#Books data\n",
        "books=pd.read_csv(path+'Books.csv')\n",
        "books.head()"
      ],
      "execution_count": 12,
      "outputs": [
        {
          "output_type": "execute_result",
          "data": {
            "text/plain": [
              "         ISBN                                         Book-Title  \\\n",
              "0  0195153448                                Classical Mythology   \n",
              "1  0002005018                                       Clara Callan   \n",
              "2  0060973129                               Decision in Normandy   \n",
              "3  0374157065  Flu: The Story of the Great Influenza Pandemic...   \n",
              "4  0393045218                             The Mummies of Urumchi   \n",
              "\n",
              "            Book-Author Year-Of-Publication                   Publisher  \\\n",
              "0    Mark P. O. Morford                2002     Oxford University Press   \n",
              "1  Richard Bruce Wright                2001       HarperFlamingo Canada   \n",
              "2          Carlo D'Este                1991             HarperPerennial   \n",
              "3      Gina Bari Kolata                1999        Farrar Straus Giroux   \n",
              "4       E. J. W. Barber                1999  W. W. Norton &amp; Company   \n",
              "\n",
              "                                         Image-URL-S  \\\n",
              "0  http://images.amazon.com/images/P/0195153448.0...   \n",
              "1  http://images.amazon.com/images/P/0002005018.0...   \n",
              "2  http://images.amazon.com/images/P/0060973129.0...   \n",
              "3  http://images.amazon.com/images/P/0374157065.0...   \n",
              "4  http://images.amazon.com/images/P/0393045218.0...   \n",
              "\n",
              "                                         Image-URL-M  \\\n",
              "0  http://images.amazon.com/images/P/0195153448.0...   \n",
              "1  http://images.amazon.com/images/P/0002005018.0...   \n",
              "2  http://images.amazon.com/images/P/0060973129.0...   \n",
              "3  http://images.amazon.com/images/P/0374157065.0...   \n",
              "4  http://images.amazon.com/images/P/0393045218.0...   \n",
              "\n",
              "                                         Image-URL-L  \n",
              "0  http://images.amazon.com/images/P/0195153448.0...  \n",
              "1  http://images.amazon.com/images/P/0002005018.0...  \n",
              "2  http://images.amazon.com/images/P/0060973129.0...  \n",
              "3  http://images.amazon.com/images/P/0374157065.0...  \n",
              "4  http://images.amazon.com/images/P/0393045218.0...  "
            ],
            "text/html": [
              "\n",
              "  <div id=\"df-ab30ace7-e4af-4f5e-b902-132e1ffc79a8\">\n",
              "    <div class=\"colab-df-container\">\n",
              "      <div>\n",
              "<style scoped>\n",
              "    .dataframe tbody tr th:only-of-type {\n",
              "        vertical-align: middle;\n",
              "    }\n",
              "\n",
              "    .dataframe tbody tr th {\n",
              "        vertical-align: top;\n",
              "    }\n",
              "\n",
              "    .dataframe thead th {\n",
              "        text-align: right;\n",
              "    }\n",
              "</style>\n",
              "<table border=\"1\" class=\"dataframe\">\n",
              "  <thead>\n",
              "    <tr style=\"text-align: right;\">\n",
              "      <th></th>\n",
              "      <th>ISBN</th>\n",
              "      <th>Book-Title</th>\n",
              "      <th>Book-Author</th>\n",
              "      <th>Year-Of-Publication</th>\n",
              "      <th>Publisher</th>\n",
              "      <th>Image-URL-S</th>\n",
              "      <th>Image-URL-M</th>\n",
              "      <th>Image-URL-L</th>\n",
              "    </tr>\n",
              "  </thead>\n",
              "  <tbody>\n",
              "    <tr>\n",
              "      <th>0</th>\n",
              "      <td>0195153448</td>\n",
              "      <td>Classical Mythology</td>\n",
              "      <td>Mark P. O. Morford</td>\n",
              "      <td>2002</td>\n",
              "      <td>Oxford University Press</td>\n",
              "      <td>http://images.amazon.com/images/P/0195153448.0...</td>\n",
              "      <td>http://images.amazon.com/images/P/0195153448.0...</td>\n",
              "      <td>http://images.amazon.com/images/P/0195153448.0...</td>\n",
              "    </tr>\n",
              "    <tr>\n",
              "      <th>1</th>\n",
              "      <td>0002005018</td>\n",
              "      <td>Clara Callan</td>\n",
              "      <td>Richard Bruce Wright</td>\n",
              "      <td>2001</td>\n",
              "      <td>HarperFlamingo Canada</td>\n",
              "      <td>http://images.amazon.com/images/P/0002005018.0...</td>\n",
              "      <td>http://images.amazon.com/images/P/0002005018.0...</td>\n",
              "      <td>http://images.amazon.com/images/P/0002005018.0...</td>\n",
              "    </tr>\n",
              "    <tr>\n",
              "      <th>2</th>\n",
              "      <td>0060973129</td>\n",
              "      <td>Decision in Normandy</td>\n",
              "      <td>Carlo D'Este</td>\n",
              "      <td>1991</td>\n",
              "      <td>HarperPerennial</td>\n",
              "      <td>http://images.amazon.com/images/P/0060973129.0...</td>\n",
              "      <td>http://images.amazon.com/images/P/0060973129.0...</td>\n",
              "      <td>http://images.amazon.com/images/P/0060973129.0...</td>\n",
              "    </tr>\n",
              "    <tr>\n",
              "      <th>3</th>\n",
              "      <td>0374157065</td>\n",
              "      <td>Flu: The Story of the Great Influenza Pandemic...</td>\n",
              "      <td>Gina Bari Kolata</td>\n",
              "      <td>1999</td>\n",
              "      <td>Farrar Straus Giroux</td>\n",
              "      <td>http://images.amazon.com/images/P/0374157065.0...</td>\n",
              "      <td>http://images.amazon.com/images/P/0374157065.0...</td>\n",
              "      <td>http://images.amazon.com/images/P/0374157065.0...</td>\n",
              "    </tr>\n",
              "    <tr>\n",
              "      <th>4</th>\n",
              "      <td>0393045218</td>\n",
              "      <td>The Mummies of Urumchi</td>\n",
              "      <td>E. J. W. Barber</td>\n",
              "      <td>1999</td>\n",
              "      <td>W. W. Norton &amp;amp; Company</td>\n",
              "      <td>http://images.amazon.com/images/P/0393045218.0...</td>\n",
              "      <td>http://images.amazon.com/images/P/0393045218.0...</td>\n",
              "      <td>http://images.amazon.com/images/P/0393045218.0...</td>\n",
              "    </tr>\n",
              "  </tbody>\n",
              "</table>\n",
              "</div>\n",
              "      <button class=\"colab-df-convert\" onclick=\"convertToInteractive('df-ab30ace7-e4af-4f5e-b902-132e1ffc79a8')\"\n",
              "              title=\"Convert this dataframe to an interactive table.\"\n",
              "              style=\"display:none;\">\n",
              "        \n",
              "  <svg xmlns=\"http://www.w3.org/2000/svg\" height=\"24px\"viewBox=\"0 0 24 24\"\n",
              "       width=\"24px\">\n",
              "    <path d=\"M0 0h24v24H0V0z\" fill=\"none\"/>\n",
              "    <path d=\"M18.56 5.44l.94 2.06.94-2.06 2.06-.94-2.06-.94-.94-2.06-.94 2.06-2.06.94zm-11 1L8.5 8.5l.94-2.06 2.06-.94-2.06-.94L8.5 2.5l-.94 2.06-2.06.94zm10 10l.94 2.06.94-2.06 2.06-.94-2.06-.94-.94-2.06-.94 2.06-2.06.94z\"/><path d=\"M17.41 7.96l-1.37-1.37c-.4-.4-.92-.59-1.43-.59-.52 0-1.04.2-1.43.59L10.3 9.45l-7.72 7.72c-.78.78-.78 2.05 0 2.83L4 21.41c.39.39.9.59 1.41.59.51 0 1.02-.2 1.41-.59l7.78-7.78 2.81-2.81c.8-.78.8-2.07 0-2.86zM5.41 20L4 18.59l7.72-7.72 1.47 1.35L5.41 20z\"/>\n",
              "  </svg>\n",
              "      </button>\n",
              "      \n",
              "  <style>\n",
              "    .colab-df-container {\n",
              "      display:flex;\n",
              "      flex-wrap:wrap;\n",
              "      gap: 12px;\n",
              "    }\n",
              "\n",
              "    .colab-df-convert {\n",
              "      background-color: #E8F0FE;\n",
              "      border: none;\n",
              "      border-radius: 50%;\n",
              "      cursor: pointer;\n",
              "      display: none;\n",
              "      fill: #1967D2;\n",
              "      height: 32px;\n",
              "      padding: 0 0 0 0;\n",
              "      width: 32px;\n",
              "    }\n",
              "\n",
              "    .colab-df-convert:hover {\n",
              "      background-color: #E2EBFA;\n",
              "      box-shadow: 0px 1px 2px rgba(60, 64, 67, 0.3), 0px 1px 3px 1px rgba(60, 64, 67, 0.15);\n",
              "      fill: #174EA6;\n",
              "    }\n",
              "\n",
              "    [theme=dark] .colab-df-convert {\n",
              "      background-color: #3B4455;\n",
              "      fill: #D2E3FC;\n",
              "    }\n",
              "\n",
              "    [theme=dark] .colab-df-convert:hover {\n",
              "      background-color: #434B5C;\n",
              "      box-shadow: 0px 1px 3px 1px rgba(0, 0, 0, 0.15);\n",
              "      filter: drop-shadow(0px 1px 2px rgba(0, 0, 0, 0.3));\n",
              "      fill: #FFFFFF;\n",
              "    }\n",
              "  </style>\n",
              "\n",
              "      <script>\n",
              "        const buttonEl =\n",
              "          document.querySelector('#df-ab30ace7-e4af-4f5e-b902-132e1ffc79a8 button.colab-df-convert');\n",
              "        buttonEl.style.display =\n",
              "          google.colab.kernel.accessAllowed ? 'block' : 'none';\n",
              "\n",
              "        async function convertToInteractive(key) {\n",
              "          const element = document.querySelector('#df-ab30ace7-e4af-4f5e-b902-132e1ffc79a8');\n",
              "          const dataTable =\n",
              "            await google.colab.kernel.invokeFunction('convertToInteractive',\n",
              "                                                     [key], {});\n",
              "          if (!dataTable) return;\n",
              "\n",
              "          const docLinkHtml = 'Like what you see? Visit the ' +\n",
              "            '<a target=\"_blank\" href=https://colab.research.google.com/notebooks/data_table.ipynb>data table notebook</a>'\n",
              "            + ' to learn more about interactive tables.';\n",
              "          element.innerHTML = '';\n",
              "          dataTable['output_type'] = 'display_data';\n",
              "          await google.colab.output.renderOutput(dataTable, element);\n",
              "          const docLink = document.createElement('div');\n",
              "          docLink.innerHTML = docLinkHtml;\n",
              "          element.appendChild(docLink);\n",
              "        }\n",
              "      </script>\n",
              "    </div>\n",
              "  </div>\n",
              "  "
            ]
          },
          "metadata": {},
          "execution_count": 12
        }
      ]
    },
    {
      "cell_type": "code",
      "metadata": {
        "colab": {
          "base_uri": "https://localhost:8080/",
          "height": 206
        },
        "id": "3jQSNc-1_a7j",
        "outputId": "b7f7ae04-6f7e-4ead-9fca-b8c4ef254a12"
      },
      "source": [
        "#Ratings Data\n",
        "ratings=pd.read_csv(path+'Ratings.csv')\n",
        "ratings.head()"
      ],
      "execution_count": 11,
      "outputs": [
        {
          "output_type": "execute_result",
          "data": {
            "text/plain": [
              "   User-ID        ISBN  Book-Rating\n",
              "0   276725  034545104X            0\n",
              "1   276726   155061224            5\n",
              "2   276727   446520802            0\n",
              "3   276729  052165615X            3\n",
              "4   276729   521795028            6"
            ],
            "text/html": [
              "\n",
              "  <div id=\"df-7b8521f1-2d3c-4c78-9f64-28ea4f141059\">\n",
              "    <div class=\"colab-df-container\">\n",
              "      <div>\n",
              "<style scoped>\n",
              "    .dataframe tbody tr th:only-of-type {\n",
              "        vertical-align: middle;\n",
              "    }\n",
              "\n",
              "    .dataframe tbody tr th {\n",
              "        vertical-align: top;\n",
              "    }\n",
              "\n",
              "    .dataframe thead th {\n",
              "        text-align: right;\n",
              "    }\n",
              "</style>\n",
              "<table border=\"1\" class=\"dataframe\">\n",
              "  <thead>\n",
              "    <tr style=\"text-align: right;\">\n",
              "      <th></th>\n",
              "      <th>User-ID</th>\n",
              "      <th>ISBN</th>\n",
              "      <th>Book-Rating</th>\n",
              "    </tr>\n",
              "  </thead>\n",
              "  <tbody>\n",
              "    <tr>\n",
              "      <th>0</th>\n",
              "      <td>276725</td>\n",
              "      <td>034545104X</td>\n",
              "      <td>0</td>\n",
              "    </tr>\n",
              "    <tr>\n",
              "      <th>1</th>\n",
              "      <td>276726</td>\n",
              "      <td>155061224</td>\n",
              "      <td>5</td>\n",
              "    </tr>\n",
              "    <tr>\n",
              "      <th>2</th>\n",
              "      <td>276727</td>\n",
              "      <td>446520802</td>\n",
              "      <td>0</td>\n",
              "    </tr>\n",
              "    <tr>\n",
              "      <th>3</th>\n",
              "      <td>276729</td>\n",
              "      <td>052165615X</td>\n",
              "      <td>3</td>\n",
              "    </tr>\n",
              "    <tr>\n",
              "      <th>4</th>\n",
              "      <td>276729</td>\n",
              "      <td>521795028</td>\n",
              "      <td>6</td>\n",
              "    </tr>\n",
              "  </tbody>\n",
              "</table>\n",
              "</div>\n",
              "      <button class=\"colab-df-convert\" onclick=\"convertToInteractive('df-7b8521f1-2d3c-4c78-9f64-28ea4f141059')\"\n",
              "              title=\"Convert this dataframe to an interactive table.\"\n",
              "              style=\"display:none;\">\n",
              "        \n",
              "  <svg xmlns=\"http://www.w3.org/2000/svg\" height=\"24px\"viewBox=\"0 0 24 24\"\n",
              "       width=\"24px\">\n",
              "    <path d=\"M0 0h24v24H0V0z\" fill=\"none\"/>\n",
              "    <path d=\"M18.56 5.44l.94 2.06.94-2.06 2.06-.94-2.06-.94-.94-2.06-.94 2.06-2.06.94zm-11 1L8.5 8.5l.94-2.06 2.06-.94-2.06-.94L8.5 2.5l-.94 2.06-2.06.94zm10 10l.94 2.06.94-2.06 2.06-.94-2.06-.94-.94-2.06-.94 2.06-2.06.94z\"/><path d=\"M17.41 7.96l-1.37-1.37c-.4-.4-.92-.59-1.43-.59-.52 0-1.04.2-1.43.59L10.3 9.45l-7.72 7.72c-.78.78-.78 2.05 0 2.83L4 21.41c.39.39.9.59 1.41.59.51 0 1.02-.2 1.41-.59l7.78-7.78 2.81-2.81c.8-.78.8-2.07 0-2.86zM5.41 20L4 18.59l7.72-7.72 1.47 1.35L5.41 20z\"/>\n",
              "  </svg>\n",
              "      </button>\n",
              "      \n",
              "  <style>\n",
              "    .colab-df-container {\n",
              "      display:flex;\n",
              "      flex-wrap:wrap;\n",
              "      gap: 12px;\n",
              "    }\n",
              "\n",
              "    .colab-df-convert {\n",
              "      background-color: #E8F0FE;\n",
              "      border: none;\n",
              "      border-radius: 50%;\n",
              "      cursor: pointer;\n",
              "      display: none;\n",
              "      fill: #1967D2;\n",
              "      height: 32px;\n",
              "      padding: 0 0 0 0;\n",
              "      width: 32px;\n",
              "    }\n",
              "\n",
              "    .colab-df-convert:hover {\n",
              "      background-color: #E2EBFA;\n",
              "      box-shadow: 0px 1px 2px rgba(60, 64, 67, 0.3), 0px 1px 3px 1px rgba(60, 64, 67, 0.15);\n",
              "      fill: #174EA6;\n",
              "    }\n",
              "\n",
              "    [theme=dark] .colab-df-convert {\n",
              "      background-color: #3B4455;\n",
              "      fill: #D2E3FC;\n",
              "    }\n",
              "\n",
              "    [theme=dark] .colab-df-convert:hover {\n",
              "      background-color: #434B5C;\n",
              "      box-shadow: 0px 1px 3px 1px rgba(0, 0, 0, 0.15);\n",
              "      filter: drop-shadow(0px 1px 2px rgba(0, 0, 0, 0.3));\n",
              "      fill: #FFFFFF;\n",
              "    }\n",
              "  </style>\n",
              "\n",
              "      <script>\n",
              "        const buttonEl =\n",
              "          document.querySelector('#df-7b8521f1-2d3c-4c78-9f64-28ea4f141059 button.colab-df-convert');\n",
              "        buttonEl.style.display =\n",
              "          google.colab.kernel.accessAllowed ? 'block' : 'none';\n",
              "\n",
              "        async function convertToInteractive(key) {\n",
              "          const element = document.querySelector('#df-7b8521f1-2d3c-4c78-9f64-28ea4f141059');\n",
              "          const dataTable =\n",
              "            await google.colab.kernel.invokeFunction('convertToInteractive',\n",
              "                                                     [key], {});\n",
              "          if (!dataTable) return;\n",
              "\n",
              "          const docLinkHtml = 'Like what you see? Visit the ' +\n",
              "            '<a target=\"_blank\" href=https://colab.research.google.com/notebooks/data_table.ipynb>data table notebook</a>'\n",
              "            + ' to learn more about interactive tables.';\n",
              "          element.innerHTML = '';\n",
              "          dataTable['output_type'] = 'display_data';\n",
              "          await google.colab.output.renderOutput(dataTable, element);\n",
              "          const docLink = document.createElement('div');\n",
              "          docLink.innerHTML = docLinkHtml;\n",
              "          element.appendChild(docLink);\n",
              "        }\n",
              "      </script>\n",
              "    </div>\n",
              "  </div>\n",
              "  "
            ]
          },
          "metadata": {},
          "execution_count": 11
        }
      ]
    },
    {
      "cell_type": "code",
      "metadata": {
        "colab": {
          "base_uri": "https://localhost:8080/"
        },
        "id": "shISmHyOKeQo",
        "outputId": "a35b9862-cfec-4fa9-c647-ca736360575e"
      },
      "source": [
        "# dimension of dataset\n",
        "print(f'''\\t  Book_df shape is {books.shape}\n",
        "          Ratings_df shape is {ratings.shape}\n",
        "          Users_df shape is {users.shape}''')"
      ],
      "execution_count": 13,
      "outputs": [
        {
          "output_type": "stream",
          "name": "stdout",
          "text": [
            "\t  Book_df shape is (271360, 8)\n",
            "          Ratings_df shape is (1048575, 3)\n",
            "          Users_df shape is (278858, 3)\n"
          ]
        }
      ]
    },
    {
      "cell_type": "code",
      "source": [],
      "metadata": {
        "id": "Ua20oF9cfcBl"
      },
      "execution_count": null,
      "outputs": []
    },
    {
      "cell_type": "code",
      "metadata": {
        "id": "179x0PsPPDGa"
      },
      "source": [
        "def missing_values(df):\n",
        "    mis_val=df.isnull().sum()\n",
        "    mis_val_percent=round(df.isnull().mean().mul(100),2)\n",
        "    mz_table=pd.concat([mis_val,mis_val_percent],axis=1)\n",
        "    mz_table=mz_table.rename(\n",
        "    columns={df.index.name:'col_name',0:'Missing Values',1:'% of Total Values'})\n",
        "    mz_table['Data_type']=df.dtypes\n",
        "    mz_table=mz_table.sort_values('% of Total Values',ascending=False)\n",
        "    return mz_table.reset_index()"
      ],
      "execution_count": 14,
      "outputs": []
    },
    {
      "cell_type": "code",
      "metadata": {
        "colab": {
          "base_uri": "https://localhost:8080/",
          "height": 143
        },
        "id": "uT7dtSeFPDEZ",
        "outputId": "44e24277-b706-412b-f8e3-5aba1146ef4f"
      },
      "source": [
        "missing_values(users)"
      ],
      "execution_count": 15,
      "outputs": [
        {
          "output_type": "execute_result",
          "data": {
            "text/plain": [
              "      index  Missing Values  % of Total Values Data_type\n",
              "0       Age          110762              39.72   float64\n",
              "1   User-ID               0               0.00     int64\n",
              "2  Location               0               0.00    object"
            ],
            "text/html": [
              "\n",
              "  <div id=\"df-7177f3da-695a-4b75-951c-5278ec3342f8\">\n",
              "    <div class=\"colab-df-container\">\n",
              "      <div>\n",
              "<style scoped>\n",
              "    .dataframe tbody tr th:only-of-type {\n",
              "        vertical-align: middle;\n",
              "    }\n",
              "\n",
              "    .dataframe tbody tr th {\n",
              "        vertical-align: top;\n",
              "    }\n",
              "\n",
              "    .dataframe thead th {\n",
              "        text-align: right;\n",
              "    }\n",
              "</style>\n",
              "<table border=\"1\" class=\"dataframe\">\n",
              "  <thead>\n",
              "    <tr style=\"text-align: right;\">\n",
              "      <th></th>\n",
              "      <th>index</th>\n",
              "      <th>Missing Values</th>\n",
              "      <th>% of Total Values</th>\n",
              "      <th>Data_type</th>\n",
              "    </tr>\n",
              "  </thead>\n",
              "  <tbody>\n",
              "    <tr>\n",
              "      <th>0</th>\n",
              "      <td>Age</td>\n",
              "      <td>110762</td>\n",
              "      <td>39.72</td>\n",
              "      <td>float64</td>\n",
              "    </tr>\n",
              "    <tr>\n",
              "      <th>1</th>\n",
              "      <td>User-ID</td>\n",
              "      <td>0</td>\n",
              "      <td>0.00</td>\n",
              "      <td>int64</td>\n",
              "    </tr>\n",
              "    <tr>\n",
              "      <th>2</th>\n",
              "      <td>Location</td>\n",
              "      <td>0</td>\n",
              "      <td>0.00</td>\n",
              "      <td>object</td>\n",
              "    </tr>\n",
              "  </tbody>\n",
              "</table>\n",
              "</div>\n",
              "      <button class=\"colab-df-convert\" onclick=\"convertToInteractive('df-7177f3da-695a-4b75-951c-5278ec3342f8')\"\n",
              "              title=\"Convert this dataframe to an interactive table.\"\n",
              "              style=\"display:none;\">\n",
              "        \n",
              "  <svg xmlns=\"http://www.w3.org/2000/svg\" height=\"24px\"viewBox=\"0 0 24 24\"\n",
              "       width=\"24px\">\n",
              "    <path d=\"M0 0h24v24H0V0z\" fill=\"none\"/>\n",
              "    <path d=\"M18.56 5.44l.94 2.06.94-2.06 2.06-.94-2.06-.94-.94-2.06-.94 2.06-2.06.94zm-11 1L8.5 8.5l.94-2.06 2.06-.94-2.06-.94L8.5 2.5l-.94 2.06-2.06.94zm10 10l.94 2.06.94-2.06 2.06-.94-2.06-.94-.94-2.06-.94 2.06-2.06.94z\"/><path d=\"M17.41 7.96l-1.37-1.37c-.4-.4-.92-.59-1.43-.59-.52 0-1.04.2-1.43.59L10.3 9.45l-7.72 7.72c-.78.78-.78 2.05 0 2.83L4 21.41c.39.39.9.59 1.41.59.51 0 1.02-.2 1.41-.59l7.78-7.78 2.81-2.81c.8-.78.8-2.07 0-2.86zM5.41 20L4 18.59l7.72-7.72 1.47 1.35L5.41 20z\"/>\n",
              "  </svg>\n",
              "      </button>\n",
              "      \n",
              "  <style>\n",
              "    .colab-df-container {\n",
              "      display:flex;\n",
              "      flex-wrap:wrap;\n",
              "      gap: 12px;\n",
              "    }\n",
              "\n",
              "    .colab-df-convert {\n",
              "      background-color: #E8F0FE;\n",
              "      border: none;\n",
              "      border-radius: 50%;\n",
              "      cursor: pointer;\n",
              "      display: none;\n",
              "      fill: #1967D2;\n",
              "      height: 32px;\n",
              "      padding: 0 0 0 0;\n",
              "      width: 32px;\n",
              "    }\n",
              "\n",
              "    .colab-df-convert:hover {\n",
              "      background-color: #E2EBFA;\n",
              "      box-shadow: 0px 1px 2px rgba(60, 64, 67, 0.3), 0px 1px 3px 1px rgba(60, 64, 67, 0.15);\n",
              "      fill: #174EA6;\n",
              "    }\n",
              "\n",
              "    [theme=dark] .colab-df-convert {\n",
              "      background-color: #3B4455;\n",
              "      fill: #D2E3FC;\n",
              "    }\n",
              "\n",
              "    [theme=dark] .colab-df-convert:hover {\n",
              "      background-color: #434B5C;\n",
              "      box-shadow: 0px 1px 3px 1px rgba(0, 0, 0, 0.15);\n",
              "      filter: drop-shadow(0px 1px 2px rgba(0, 0, 0, 0.3));\n",
              "      fill: #FFFFFF;\n",
              "    }\n",
              "  </style>\n",
              "\n",
              "      <script>\n",
              "        const buttonEl =\n",
              "          document.querySelector('#df-7177f3da-695a-4b75-951c-5278ec3342f8 button.colab-df-convert');\n",
              "        buttonEl.style.display =\n",
              "          google.colab.kernel.accessAllowed ? 'block' : 'none';\n",
              "\n",
              "        async function convertToInteractive(key) {\n",
              "          const element = document.querySelector('#df-7177f3da-695a-4b75-951c-5278ec3342f8');\n",
              "          const dataTable =\n",
              "            await google.colab.kernel.invokeFunction('convertToInteractive',\n",
              "                                                     [key], {});\n",
              "          if (!dataTable) return;\n",
              "\n",
              "          const docLinkHtml = 'Like what you see? Visit the ' +\n",
              "            '<a target=\"_blank\" href=https://colab.research.google.com/notebooks/data_table.ipynb>data table notebook</a>'\n",
              "            + ' to learn more about interactive tables.';\n",
              "          element.innerHTML = '';\n",
              "          dataTable['output_type'] = 'display_data';\n",
              "          await google.colab.output.renderOutput(dataTable, element);\n",
              "          const docLink = document.createElement('div');\n",
              "          docLink.innerHTML = docLinkHtml;\n",
              "          element.appendChild(docLink);\n",
              "        }\n",
              "      </script>\n",
              "    </div>\n",
              "  </div>\n",
              "  "
            ]
          },
          "metadata": {},
          "execution_count": 15
        }
      ]
    },
    {
      "cell_type": "code",
      "metadata": {
        "colab": {
          "base_uri": "https://localhost:8080/",
          "height": 310
        },
        "id": "j7i4E5ldYZ6N",
        "outputId": "f451a2c1-8495-46c2-c71e-36d65d5a1451"
      },
      "source": [
        "users.Age.hist(bins=[0, 10, 20, 30, 40, 50, 100])\n",
        "plt.title('Age Distribution\\n')\n",
        "plt.xlabel('Age')\n",
        "plt.ylabel('Count')\n",
        "plt.show()"
      ],
      "execution_count": 16,
      "outputs": [
        {
          "output_type": "display_data",
          "data": {
            "text/plain": [
              "<Figure size 432x288 with 1 Axes>"
            ],
            "image/png": "[encoded data removed]"
          },
          "metadata": {
            "needs_background": "light"
          }
        }
      ]
    },
    {
      "cell_type": "code",
      "metadata": {
        "colab": {
          "base_uri": "https://localhost:8080/",
          "height": 285
        },
        "id": "CJYKBc60PC_p",
        "outputId": "4188e974-51fd-4034-951f-1d915aa23621"
      },
      "source": [
        "sns.boxplot(y='Age', data=users)\n",
        "plt.title('Find outlier data in Age column')"
      ],
      "execution_count": 17,
      "outputs": [
        {
          "output_type": "execute_result",
          "data": {
            "text/plain": [
              "Text(0.5, 1.0, 'Find outlier data in Age column')"
            ]
          },
          "metadata": {},
          "execution_count": 17
        },
        {
          "output_type": "display_data",
          "data": {
            "text/plain": [
              "<Figure size 432x288 with 1 Axes>"
            ],
            "image/png": "[encoded data removed]"
          },
          "metadata": {
            "needs_background": "light"
          }
        }
      ]
    },
    {
      "cell_type": "code",
      "metadata": {
        "colab": {
          "base_uri": "https://localhost:8080/"
        },
        "id": "-v6Z3mDVPDBe",
        "outputId": "23d48416-e7cb-4fdd-9172-2a11e38ed368"
      },
      "source": [
        "print(sorted(users.Age.unique()))"
      ],
      "execution_count": 18,
      "outputs": [
        {
          "output_type": "stream",
          "name": "stdout",
          "text": [
            "[nan, 0.0, 1.0, 2.0, 3.0, 4.0, 5.0, 6.0, 7.0, 8.0, 9.0, 10.0, 11.0, 12.0, 13.0, 14.0, 15.0, 16.0, 17.0, 18.0, 19.0, 20.0, 21.0, 22.0, 23.0, 24.0, 25.0, 26.0, 27.0, 28.0, 29.0, 30.0, 31.0, 32.0, 33.0, 34.0, 35.0, 36.0, 37.0, 38.0, 39.0, 40.0, 41.0, 42.0, 43.0, 44.0, 45.0, 46.0, 47.0, 48.0, 49.0, 50.0, 51.0, 52.0, 53.0, 54.0, 55.0, 56.0, 57.0, 58.0, 59.0, 60.0, 61.0, 62.0, 63.0, 64.0, 65.0, 66.0, 67.0, 68.0, 69.0, 70.0, 71.0, 72.0, 73.0, 74.0, 75.0, 76.0, 77.0, 78.0, 79.0, 80.0, 81.0, 82.0, 83.0, 84.0, 85.0, 86.0, 87.0, 88.0, 89.0, 90.0, 91.0, 92.0, 93.0, 94.0, 95.0, 96.0, 97.0, 98.0, 99.0, 100.0, 101.0, 102.0, 103.0, 104.0, 105.0, 106.0, 107.0, 108.0, 109.0, 110.0, 111.0, 113.0, 114.0, 115.0, 116.0, 118.0, 119.0, 123.0, 124.0, 127.0, 128.0, 132.0, 133.0, 136.0, 137.0, 138.0, 140.0, 141.0, 143.0, 146.0, 147.0, 148.0, 151.0, 152.0, 156.0, 157.0, 159.0, 162.0, 168.0, 172.0, 175.0, 183.0, 186.0, 189.0, 199.0, 200.0, 201.0, 204.0, 207.0, 208.0, 209.0, 210.0, 212.0, 219.0, 220.0, 223.0, 226.0, 228.0, 229.0, 230.0, 231.0, 237.0, 239.0, 244.0]\n"
          ]
        }
      ]
    },
    {
      "cell_type": "code",
      "metadata": {
        "colab": {
          "base_uri": "https://localhost:8080/"
        },
        "id": "drWdHA7VPC9f",
        "outputId": "c2f00850-2076-40f9-9e84-330a7bcc1cbb"
      },
      "source": [
        "users.Location.unique()"
      ],
      "execution_count": 19,
      "outputs": [
        {
          "output_type": "execute_result",
          "data": {
            "text/plain": [
              "array(['nyc, new york, usa', 'stockton, california, usa',\n",
              "       'moscow, yukon territory, russia', ...,\n",
              "       'sergnano, lombardia, italy', 'stranraer, n/a, united kingdom',\n",
              "       'tacoma, washington, united kingdom'], dtype=object)"
            ]
          },
          "metadata": {},
          "execution_count": 19
        }
      ]
    },
    {
      "cell_type": "code",
      "metadata": {
        "colab": {
          "base_uri": "https://localhost:8080/"
        },
        "id": "vDv2XqK1PChB",
        "outputId": "b933704c-74d0-40ee-a237-c4d953cfe4ab"
      },
      "source": [
        "users.Location.nunique()"
      ],
      "execution_count": 20,
      "outputs": [
        {
          "output_type": "execute_result",
          "data": {
            "text/plain": [
              "57339"
            ]
          },
          "metadata": {},
          "execution_count": 20
        }
      ]
    },
    {
      "cell_type": "code",
      "metadata": {
        "id": "5I3IeN6QEdW7"
      },
      "source": [
        "for i in users:\n",
        "    users['Country']=users.Location.str.extract(r'\\,+\\s?(\\w*\\s?\\w*)\\\"*$')   "
      ],
      "execution_count": 21,
      "outputs": []
    },
    {
      "cell_type": "code",
      "metadata": {
        "colab": {
          "base_uri": "https://localhost:8080/"
        },
        "id": "O8BXhVnmQXgv",
        "outputId": "eb8cd6da-48c2-4090-e5d8-4260cefff83b"
      },
      "source": [
        "users.Country.nunique()"
      ],
      "execution_count": 22,
      "outputs": [
        {
          "output_type": "execute_result",
          "data": {
            "text/plain": [
              "529"
            ]
          },
          "metadata": {},
          "execution_count": 22
        }
      ]
    },
    {
      "cell_type": "code",
      "metadata": {
        "id": "Hz89lOj_AkBD"
      },
      "source": [
        "#drop location column\n",
        "users.drop('Location',axis=1,inplace=True)"
      ],
      "execution_count": 23,
      "outputs": []
    },
    {
      "cell_type": "code",
      "metadata": {
        "colab": {
          "base_uri": "https://localhost:8080/",
          "height": 112
        },
        "id": "k1QqrydnCbGe",
        "outputId": "cc0f9374-8325-47dc-edf0-20fb9af5b839"
      },
      "source": [
        "users.head(2)"
      ],
      "execution_count": 24,
      "outputs": [
        {
          "output_type": "execute_result",
          "data": {
            "text/plain": [
              "   User-ID   Age Country\n",
              "0        1   NaN     usa\n",
              "1        2  18.0     usa"
            ],
            "text/html": [
              "\n",
              "  <div id=\"df-496a3e12-a848-4545-8bd7-76fe6c382151\">\n",
              "    <div class=\"colab-df-container\">\n",
              "      <div>\n",
              "<style scoped>\n",
              "    .dataframe tbody tr th:only-of-type {\n",
              "        vertical-align: middle;\n",
              "    }\n",
              "\n",
              "    .dataframe tbody tr th {\n",
              "        vertical-align: top;\n",
              "    }\n",
              "\n",
              "    .dataframe thead th {\n",
              "        text-align: right;\n",
              "    }\n",
              "</style>\n",
              "<table border=\"1\" class=\"dataframe\">\n",
              "  <thead>\n",
              "    <tr style=\"text-align: right;\">\n",
              "      <th></th>\n",
              "      <th>User-ID</th>\n",
              "      <th>Age</th>\n",
              "      <th>Country</th>\n",
              "    </tr>\n",
              "  </thead>\n",
              "  <tbody>\n",
              "    <tr>\n",
              "      <th>0</th>\n",
              "      <td>1</td>\n",
              "      <td>NaN</td>\n",
              "      <td>usa</td>\n",
              "    </tr>\n",
              "    <tr>\n",
              "      <th>1</th>\n",
              "      <td>2</td>\n",
              "      <td>18.0</td>\n",
              "      <td>usa</td>\n",
              "    </tr>\n",
              "  </tbody>\n",
              "</table>\n",
              "</div>\n",
              "      <button class=\"colab-df-convert\" onclick=\"convertToInteractive('df-496a3e12-a848-4545-8bd7-76fe6c382151')\"\n",
              "              title=\"Convert this dataframe to an interactive table.\"\n",
              "              style=\"display:none;\">\n",
              "        \n",
              "  <svg xmlns=\"http://www.w3.org/2000/svg\" height=\"24px\"viewBox=\"0 0 24 24\"\n",
              "       width=\"24px\">\n",
              "    <path d=\"M0 0h24v24H0V0z\" fill=\"none\"/>\n",
              "    <path d=\"M18.56 5.44l.94 2.06.94-2.06 2.06-.94-2.06-.94-.94-2.06-.94 2.06-2.06.94zm-11 1L8.5 8.5l.94-2.06 2.06-.94-2.06-.94L8.5 2.5l-.94 2.06-2.06.94zm10 10l.94 2.06.94-2.06 2.06-.94-2.06-.94-.94-2.06-.94 2.06-2.06.94z\"/><path d=\"M17.41 7.96l-1.37-1.37c-.4-.4-.92-.59-1.43-.59-.52 0-1.04.2-1.43.59L10.3 9.45l-7.72 7.72c-.78.78-.78 2.05 0 2.83L4 21.41c.39.39.9.59 1.41.59.51 0 1.02-.2 1.41-.59l7.78-7.78 2.81-2.81c.8-.78.8-2.07 0-2.86zM5.41 20L4 18.59l7.72-7.72 1.47 1.35L5.41 20z\"/>\n",
              "  </svg>\n",
              "      </button>\n",
              "      \n",
              "  <style>\n",
              "    .colab-df-container {\n",
              "      display:flex;\n",
              "      flex-wrap:wrap;\n",
              "      gap: 12px;\n",
              "    }\n",
              "\n",
              "    .colab-df-convert {\n",
              "      background-color: #E8F0FE;\n",
              "      border: none;\n",
              "      border-radius: 50%;\n",
              "      cursor: pointer;\n",
              "      display: none;\n",
              "      fill: #1967D2;\n",
              "      height: 32px;\n",
              "      padding: 0 0 0 0;\n",
              "      width: 32px;\n",
              "    }\n",
              "\n",
              "    .colab-df-convert:hover {\n",
              "      background-color: #E2EBFA;\n",
              "      box-shadow: 0px 1px 2px rgba(60, 64, 67, 0.3), 0px 1px 3px 1px rgba(60, 64, 67, 0.15);\n",
              "      fill: #174EA6;\n",
              "    }\n",
              "\n",
              "    [theme=dark] .colab-df-convert {\n",
              "      background-color: #3B4455;\n",
              "      fill: #D2E3FC;\n",
              "    }\n",
              "\n",
              "    [theme=dark] .colab-df-convert:hover {\n",
              "      background-color: #434B5C;\n",
              "      box-shadow: 0px 1px 3px 1px rgba(0, 0, 0, 0.15);\n",
              "      filter: drop-shadow(0px 1px 2px rgba(0, 0, 0, 0.3));\n",
              "      fill: #FFFFFF;\n",
              "    }\n",
              "  </style>\n",
              "\n",
              "      <script>\n",
              "        const buttonEl =\n",
              "          document.querySelector('#df-496a3e12-a848-4545-8bd7-76fe6c382151 button.colab-df-convert');\n",
              "        buttonEl.style.display =\n",
              "          google.colab.kernel.accessAllowed ? 'block' : 'none';\n",
              "\n",
              "        async function convertToInteractive(key) {\n",
              "          const element = document.querySelector('#df-496a3e12-a848-4545-8bd7-76fe6c382151');\n",
              "          const dataTable =\n",
              "            await google.colab.kernel.invokeFunction('convertToInteractive',\n",
              "                                                     [key], {});\n",
              "          if (!dataTable) return;\n",
              "\n",
              "          const docLinkHtml = 'Like what you see? Visit the ' +\n",
              "            '<a target=\"_blank\" href=https://colab.research.google.com/notebooks/data_table.ipynb>data table notebook</a>'\n",
              "            + ' to learn more about interactive tables.';\n",
              "          element.innerHTML = '';\n",
              "          dataTable['output_type'] = 'display_data';\n",
              "          await google.colab.output.renderOutput(dataTable, element);\n",
              "          const docLink = document.createElement('div');\n",
              "          docLink.innerHTML = docLinkHtml;\n",
              "          element.appendChild(docLink);\n",
              "        }\n",
              "      </script>\n",
              "    </div>\n",
              "  </div>\n",
              "  "
            ]
          },
          "metadata": {},
          "execution_count": 24
        }
      ]
    },
    {
      "cell_type": "code",
      "metadata": {
        "colab": {
          "base_uri": "https://localhost:8080/"
        },
        "id": "vb1nF_3aJqB-",
        "outputId": "667168fa-0196-4098-99e5-e7eec5da4e8b"
      },
      "source": [
        "users.isnull().sum()"
      ],
      "execution_count": 25,
      "outputs": [
        {
          "output_type": "execute_result",
          "data": {
            "text/plain": [
              "User-ID         0\n",
              "Age        110762\n",
              "Country       369\n",
              "dtype: int64"
            ]
          },
          "metadata": {},
          "execution_count": 25
        }
      ]
    },
    {
      "cell_type": "code",
      "metadata": {
        "id": "HUvqIhWgGnFB"
      },
      "source": [
        "users['Country']=users['Country'].astype('str')"
      ],
      "execution_count": 26,
      "outputs": []
    },
    {
      "cell_type": "code",
      "metadata": {
        "colab": {
          "base_uri": "https://localhost:8080/"
        },
        "id": "qtj-GdJODSx4",
        "outputId": "f55c0ea4-c371-4b7d-fb69-e1a7df86dd53"
      },
      "source": [
        "a=list(users.Country.unique())\n",
        "a=set(a)\n",
        "a=list(a)\n",
        "a = [x for x in a if x is not None]\n",
        "a.sort()\n",
        "print(a)"
      ],
      "execution_count": 27,
      "outputs": [
        {
          "output_type": "stream",
          "name": "stdout",
          "text": [
            "['', '01776', '02458', '19104', '23232', '30064', '85021', '87510', '_ brasil', 'a', 'aaa', 'adsgfdr', 'afghanistan', 'ahrensburg', 'alachua', 'albania', 'alderney', 'algeria', 'algérie', 'allen', 'ama lurra', 'america', 'american samoa', 'andorra', 'angola', 'antarctica', 'aotearoa', 'argentina', 'armenia', 'aroostook', 'aruba', 'asturies', 'auckland', 'austbritania', 'australia', 'australii', 'austria', 'autralia', 'az', 'azerbaijan', 'bademn würtemberg', 'bahamas', 'bahrain', 'baltimore', 'bangladesh', 'barbados', 'basilicata', 'basque country', 'bavaria', 'baxter', 'bbbzzzzz', 'belarus', 'belgi', 'belgique', 'belgium', 'belize', 'bell', 'benin', 'berguedà', 'bermuda', 'bernalillo', 'bfe', 'bhutan', 'bih', 'bkk', 'bladen', 'bolivia', 'bosnia', 'botswana', 'brasil', 'brazil', 'brunei', 'brunei darussalam', 'bucks', 'bulgaria', 'buncombe', 'burkina faso', 'burkinafasu', 'burlington', 'burma', 'butler', 'c', 'cadd0', 'calabria', 'california', 'cambodia', 'camden', 'cameroon', 'can', 'canada', 'canada eh', 'cananda', 'canda', 'cape may', 'cape town', 'cape verde', 'caribbean sea', 'carter', 'cass', 'catalonia', 'catalunya', 'catalunya spain', 'cayman islands', 'chad', 'channel islands', 'cherokee', 'chian', 'chile', 'china', 'china öð¹ú', 'chinaöð¹ú', 'clackamas', 'clinton', 'cn', 'cnina', 'collin', 'colombia', 'comoros', 'congo', 'cook', 'copenhagen', 'costa rica', 'country', 'courtenay', 'croatia', 'csa', 'cuba', 'cyprus', 'czech republic', 'côte d', 'dauphin', 'davidson', 'de', 'dekalb', 'denmark', 'der', 'deutsches reich', 'deutschland', 'dfg', 'distrito federal', 'diy', 'djibouti', 'dominica', 'dominican republic', 'doodedoo', 'dublin', 'east africa', 'ecuador', 'effingham', 'egypt', 'el salvador', 'england', 'england uk', 'english', 'equatorial geuinea', 'eritrea', 'españa', 'essex', 'estonia', 'ethiopia', 'europa', 'europe', 'euskadi', 'euskal herria', 'evil empire', 'fairyland', 'faroe islands', 'ferrara', 'fifi', 'fiji', 'finland', 'fontana', 'fort bend', 'fortaleza', 'framingham', 'france', 'fred', 'frome', 'fulton', 'gabon', 'galiza', 'galiza neghra', 'gb', 'geermany', 'georgia', 'germany', 'germay', 'ghana', 'goteborg', 'granville', 'greece', 'grenada', 'guam', 'guatemala', 'guernsey', 'guinea', 'guyana', 'haiti', 'hamilton', 'hampden', 'harvatija', 'heaven', 'hennipen', 'henry', 'hernando', 'hidalgo', 'hillsborough', 'holland', 'holy see', 'honduras', 'hong kong', 'hongkong', 'hornyonic', 'houston', 'hungary', 'iceland', 'id', 'il canada', 'in', 'india', 'indiai', 'indonesia', 'input error', 'iran', 'iraq', 'ireland', 'israel', 'isreal', 'italia', 'italien', 'italy', 'itlay', 'jackson', 'jamaica', 'japan', 'jersey', 'johnson', 'jordan', 'k1c7b1', 'kazakhstan', 'kenya', 'kern', 'kiribati', 'korea', 'kosovo', 'ksa', 'kuwait', 'kyrgyzstan', 'kz', 'l', 'la argentina', 'la belgique', 'la france', 'la suisse', 'la svizzera', 'lake', 'lane', 'laos', 'latvia', 'lazio', 'le canada', 'le madagascar', 'lebanon', 'lecce', 'lee', 'lesotho', 'liaoning', 'liberia', 'libya', 'lithuania', 'liushi', 'livingston', 'lj', 'lkjlj', 'lleida', 'lombardia', 'london', 'lornsenland', 'luxembourg', 'macau', 'macedonia', 'madagascar', 'madrid', 'maine', 'malawi', 'malaysia', 'malaysian', 'maldives', 'mali', 'malta', 'maracopa', 'maricopa', 'maroc', 'marrion', 'marshall islands', 'mauritania', 'mauritius', 'mexico', 'micronesia', 'milano', 'minnehaha', 'missouri', 'moldova', 'monaco', 'mongolia', 'monroe', 'monterrey', 'mordor', 'morgan', 'morocco', 'mozambique', 'moçambique', 'my', 'myanmar', 'mérida', 'méxico', 'namibia', 'nan', 'nederlands', 'nepal', 'netherlands', 'netherlands antilles', 'neverland', 'new london', 'new zealand', 'newzealand', 'nh', 'nicaragua', 'niger', 'nigeria', 'nl', 'no more', 'none', 'north carolina', 'north korea', 'northern ireland', 'norway', 'nowhere', 'nrw', 'nyc', 'nyhamnsläge', 'nz', 'oakland', 'ohio', 'oman', 'onondaga nation', 'orange co', 'orense', 'osceola', 'ouranos', 'pa', 'pakistan', 'palau', 'palestine', 'palm beach', 'panama', 'paraguay', 'pasco', 'pender', 'peru', 'perãº', 'petrolwar nation', 'phila', 'philippine', 'philippines', 'philippinies', 'phillipines', 'phils', 'phippines', 'pinallas', 'pippo', 'pistlavakia', 'poland', 'polk', 'polska', 'portugal', 'pr', 'prc', 'prince william', 'pueblo', 'puerto rico', 'qatar', 'queensland', 'queenspark', 'quit', 'rapides', 'rice', 'richmond country', 'rmi', 'roma', 'romania', 'rosario', 'rosello', 'rsa', 'russia', 'russian federation', 'rutherford', 'rwanda', 'saint loius', 'saint lucia', 'saint luica', 'samoa', 'san bernardino', 'san franicsco', 'san marino', 'san mateo', 'santa barbara', 'sardegna', 'sardinia', 'saudi arabia', 'saudia arabia', 'scotland', 'senegal', 'serbia', 'shelby', 'sicilia', 'sierra leone', 'singapore', 'slo', 'slovak republik', 'slovakia', 'slovenia', 'smith', 'solano', 'solomon islands', 'somalia', 'somewherein space', 'south africa', 'south korea', 'space', 'spain', 'spotsylvania', 'sri lanka', 'srilanka', 'strongbadia', 'sudan', 'suisse', 'suriname', 'swaziland', 'swazilandia', 'sweden', 'switzerland', 'syria', 'taiwan', 'tajikistan', 'tanzania', 'tdzimi', 'texas', 'thailand', 'thailoand', 'the', 'the gambia', 'the netherlands', 'the philippines', 'thing', 'tobago', 'togo', 'tonga', 'toscana', 'travelling', 'trinidad', 'tunisia', 'turkei', 'turkey', 'turkmenistan', 'tyrtyrt', 'türkiye', 'u', 'u k', 'ua', 'uae', 'uganda', 'uk', 'ukrain', 'ukraine', 'unit', 'unite states', 'united kindgdom', 'united kindgonm', 'united kingdom', 'united sates', 'united staes', 'united state', 'united statea', 'united stated', 'united states', 'universe', 'unknown', 'urugua', 'uruguay', 'us', 'usa', 'ussurfing', 'ust', 'uusa', 'uyo', 'uzbekistan', 'valtesse', 'van wert', 'vanuatu', 'vatican city', 'venezuela', 'ventura', 'ventura county', 'vicenza', 'victoria', 'vietnam', 'vorce', 'wales', 'washtenaw', 'west yorkshire', 'whatcom', 'windham', 'wonderful usa', 'wood', 'worcester', 'x', 'xinyu', 'xxxxxx', 'yakima', 'yanhill', 'yemen', 'ysa', 'yugoslavia', 'yunling', 'z', 'zambia', 'zhengjiang', 'zimbabwe', 'öð¹ú']\n"
          ]
        }
      ]
    },
    {
      "cell_type": "code",
      "metadata": {
        "id": "08pPo0YCHoT-"
      },
      "source": [
        "users['Country'].replace(['','01776','02458','19104','23232','30064','85021','87510','alachua','america','austria','autralia','cananda','geermany','italia','united kindgonm','united sates','united staes','united state','united states','us'],\n",
        "                           ['other','usa','usa','usa','usa','usa','usa','usa','usa','usa','australia','australia','canada','germany','italy','united kingdom','usa','usa','usa','usa','usa'],inplace=True)"
      ],
      "execution_count": 28,
      "outputs": []
    },
    {
      "cell_type": "code",
      "metadata": {
        "colab": {
          "base_uri": "https://localhost:8080/",
          "height": 450
        },
        "id": "7tWv_OdSI7TW",
        "outputId": "bb1165c4-f786-44e2-ce6a-aad984489e7e"
      },
      "source": [
        "plt.figure(figsize=(15,7))\n",
        "sns.countplot(y='Country',data=users,order=pd.value_counts(users['Country']).iloc[:10].index)\n",
        "plt.title('Count of users Country wise')"
      ],
      "execution_count": 29,
      "outputs": [
        {
          "output_type": "execute_result",
          "data": {
            "text/plain": [
              "Text(0.5, 1.0, 'Count of users Country wise')"
            ]
          },
          "metadata": {},
          "execution_count": 29
        },
        {
          "output_type": "display_data",
          "data": {
            "text/plain": [
              "<Figure size 1080x504 with 1 Axes>"
            ],
            "image/png": "[encoded data removed]"
          },
          "metadata": {
            "needs_background": "light"
          }
        }
      ]
    },
    {
      "cell_type": "code",
      "metadata": {
        "colab": {
          "base_uri": "https://localhost:8080/",
          "height": 312
        },
        "id": "6U6o5VHZN8F5",
        "outputId": "c90305f1-539d-4ff6-82a1-c83c141274f4"
      },
      "source": [
        "sns.distplot(users.Age)\n",
        "plt.title('Age Distribution Plot')"
      ],
      "execution_count": 30,
      "outputs": [
        {
          "output_type": "execute_result",
          "data": {
            "text/plain": [
              "Text(0.5, 1.0, 'Age Distribution Plot')"
            ]
          },
          "metadata": {},
          "execution_count": 30
        },
        {
          "output_type": "display_data",
          "data": {
            "text/plain": [
              "<Figure size 432x288 with 1 Axes>"
            ],
            "image/png": "[encoded data removed]"
          },
          "metadata": {
            "needs_background": "light"
          }
        }
      ]
    },
    {
      "cell_type": "code",
      "metadata": {
        "id": "Qqd7j7PxOGOn"
      },
      "source": [
        "# outlier data became NaN\n",
        "users.loc[(users.Age > 100) | (users.Age < 5), 'Age'] = np.nan"
      ],
      "execution_count": 31,
      "outputs": []
    },
    {
      "cell_type": "code",
      "metadata": {
        "colab": {
          "base_uri": "https://localhost:8080/"
        },
        "id": "rxuFQN2iW5Ps",
        "outputId": "c0c9df3e-3e00-4d2d-86b5-08204a08b29b"
      },
      "source": [
        "users.isna().sum()"
      ],
      "execution_count": 32,
      "outputs": [
        {
          "output_type": "execute_result",
          "data": {
            "text/plain": [
              "User-ID         0\n",
              "Age        112010\n",
              "Country         0\n",
              "dtype: int64"
            ]
          },
          "metadata": {},
          "execution_count": 32
        }
      ]
    },
    {
      "cell_type": "code",
      "metadata": {
        "id": "_v3v-dzqOF9B"
      },
      "source": [
        "users['Age'] = users['Age'].fillna(users.groupby('Country')['Age'].transform('median'))"
      ],
      "execution_count": 33,
      "outputs": []
    },
    {
      "cell_type": "code",
      "metadata": {
        "colab": {
          "base_uri": "https://localhost:8080/"
        },
        "id": "ax2IR0ZfWtgT",
        "outputId": "10993b07-135b-4ca5-f894-d70e71ed867d"
      },
      "source": [
        "users.isna().sum()"
      ],
      "execution_count": 34,
      "outputs": [
        {
          "output_type": "execute_result",
          "data": {
            "text/plain": [
              "User-ID      0\n",
              "Age        276\n",
              "Country      0\n",
              "dtype: int64"
            ]
          },
          "metadata": {},
          "execution_count": 34
        }
      ]
    },
    {
      "cell_type": "markdown",
      "metadata": {
        "id": "eJEgWReDXIRk"
      },
      "source": [
        "<font color='blue'>Still we have 276 Nan values let's fill them with mean"
      ]
    },
    {
      "cell_type": "code",
      "metadata": {
        "id": "H-c78VbJXGoW"
      },
      "source": [
        "users['Age'].fillna(users.Age.mean(),inplace=True)"
      ],
      "execution_count": 35,
      "outputs": []
    },
    {
      "cell_type": "code",
      "metadata": {
        "colab": {
          "base_uri": "https://localhost:8080/"
        },
        "id": "NGI-WpyKXqat",
        "outputId": "1c0f8a61-b6c3-4196-ff66-f761defc0253"
      },
      "source": [
        "users.isna().sum()"
      ],
      "execution_count": 36,
      "outputs": [
        {
          "output_type": "execute_result",
          "data": {
            "text/plain": [
              "User-ID    0\n",
              "Age        0\n",
              "Country    0\n",
              "dtype: int64"
            ]
          },
          "metadata": {},
          "execution_count": 36
        }
      ]
    },
    {
      "cell_type": "markdown",
      "metadata": {
        "id": "GDgwVVAfZCvX"
      },
      "source": [
        "#<font color='blue'>**2.)Books_Dataset**"
      ]
    },
    {
      "cell_type": "code",
      "metadata": {
        "colab": {
          "base_uri": "https://localhost:8080/",
          "height": 263
        },
        "id": "kT-MU-UgZCZX",
        "outputId": "807dc6ea-47ee-4a34-cba0-abe2fa6e342a"
      },
      "source": [
        "books.head(2)"
      ],
      "execution_count": 37,
      "outputs": [
        {
          "output_type": "execute_result",
          "data": {
            "text/plain": [
              "         ISBN           Book-Title           Book-Author Year-Of-Publication  \\\n",
              "0  0195153448  Classical Mythology    Mark P. O. Morford                2002   \n",
              "1  0002005018         Clara Callan  Richard Bruce Wright                2001   \n",
              "\n",
              "                 Publisher                                        Image-URL-S  \\\n",
              "0  Oxford University Press  http://images.amazon.com/images/P/0195153448.0...   \n",
              "1    HarperFlamingo Canada  http://images.amazon.com/images/P/0002005018.0...   \n",
              "\n",
              "                                         Image-URL-M  \\\n",
              "0  http://images.amazon.com/images/P/0195153448.0...   \n",
              "1  http://images.amazon.com/images/P/0002005018.0...   \n",
              "\n",
              "                                         Image-URL-L  \n",
              "0  http://images.amazon.com/images/P/0195153448.0...  \n",
              "1  http://images.amazon.com/images/P/0002005018.0...  "
            ],
            "text/html": [
              "\n",
              "  <div id=\"df-88fc25d5-0d45-4a33-9a60-1bd14bc7a5b2\">\n",
              "    <div class=\"colab-df-container\">\n",
              "      <div>\n",
              "<style scoped>\n",
              "    .dataframe tbody tr th:only-of-type {\n",
              "        vertical-align: middle;\n",
              "    }\n",
              "\n",
              "    .dataframe tbody tr th {\n",
              "        vertical-align: top;\n",
              "    }\n",
              "\n",
              "    .dataframe thead th {\n",
              "        text-align: right;\n",
              "    }\n",
              "</style>\n",
              "<table border=\"1\" class=\"dataframe\">\n",
              "  <thead>\n",
              "    <tr style=\"text-align: right;\">\n",
              "      <th></th>\n",
              "      <th>ISBN</th>\n",
              "      <th>Book-Title</th>\n",
              "      <th>Book-Author</th>\n",
              "      <th>Year-Of-Publication</th>\n",
              "      <th>Publisher</th>\n",
              "      <th>Image-URL-S</th>\n",
              "      <th>Image-URL-M</th>\n",
              "      <th>Image-URL-L</th>\n",
              "    </tr>\n",
              "  </thead>\n",
              "  <tbody>\n",
              "    <tr>\n",
              "      <th>0</th>\n",
              "      <td>0195153448</td>\n",
              "      <td>Classical Mythology</td>\n",
              "      <td>Mark P. O. Morford</td>\n",
              "      <td>2002</td>\n",
              "      <td>Oxford University Press</td>\n",
              "      <td>http://images.amazon.com/images/P/0195153448.0...</td>\n",
              "      <td>http://images.amazon.com/images/P/0195153448.0...</td>\n",
              "      <td>http://images.amazon.com/images/P/0195153448.0...</td>\n",
              "    </tr>\n",
              "    <tr>\n",
              "      <th>1</th>\n",
              "      <td>0002005018</td>\n",
              "      <td>Clara Callan</td>\n",
              "      <td>Richard Bruce Wright</td>\n",
              "      <td>2001</td>\n",
              "      <td>HarperFlamingo Canada</td>\n",
              "      <td>http://images.amazon.com/images/P/0002005018.0...</td>\n",
              "      <td>http://images.amazon.com/images/P/0002005018.0...</td>\n",
              "      <td>http://images.amazon.com/images/P/0002005018.0...</td>\n",
              "    </tr>\n",
              "  </tbody>\n",
              "</table>\n",
              "</div>\n",
              "      <button class=\"colab-df-convert\" onclick=\"convertToInteractive('df-88fc25d5-0d45-4a33-9a60-1bd14bc7a5b2')\"\n",
              "              title=\"Convert this dataframe to an interactive table.\"\n",
              "              style=\"display:none;\">\n",
              "        \n",
              "  <svg xmlns=\"http://www.w3.org/2000/svg\" height=\"24px\"viewBox=\"0 0 24 24\"\n",
              "       width=\"24px\">\n",
              "    <path d=\"M0 0h24v24H0V0z\" fill=\"none\"/>\n",
              "    <path d=\"M18.56 5.44l.94 2.06.94-2.06 2.06-.94-2.06-.94-.94-2.06-.94 2.06-2.06.94zm-11 1L8.5 8.5l.94-2.06 2.06-.94-2.06-.94L8.5 2.5l-.94 2.06-2.06.94zm10 10l.94 2.06.94-2.06 2.06-.94-2.06-.94-.94-2.06-.94 2.06-2.06.94z\"/><path d=\"M17.41 7.96l-1.37-1.37c-.4-.4-.92-.59-1.43-.59-.52 0-1.04.2-1.43.59L10.3 9.45l-7.72 7.72c-.78.78-.78 2.05 0 2.83L4 21.41c.39.39.9.59 1.41.59.51 0 1.02-.2 1.41-.59l7.78-7.78 2.81-2.81c.8-.78.8-2.07 0-2.86zM5.41 20L4 18.59l7.72-7.72 1.47 1.35L5.41 20z\"/>\n",
              "  </svg>\n",
              "      </button>\n",
              "      \n",
              "  <style>\n",
              "    .colab-df-container {\n",
              "      display:flex;\n",
              "      flex-wrap:wrap;\n",
              "      gap: 12px;\n",
              "    }\n",
              "\n",
              "    .colab-df-convert {\n",
              "      background-color: #E8F0FE;\n",
              "      border: none;\n",
              "      border-radius: 50%;\n",
              "      cursor: pointer;\n",
              "      display: none;\n",
              "      fill: #1967D2;\n",
              "      height: 32px;\n",
              "      padding: 0 0 0 0;\n",
              "      width: 32px;\n",
              "    }\n",
              "\n",
              "    .colab-df-convert:hover {\n",
              "      background-color: #E2EBFA;\n",
              "      box-shadow: 0px 1px 2px rgba(60, 64, 67, 0.3), 0px 1px 3px 1px rgba(60, 64, 67, 0.15);\n",
              "      fill: #174EA6;\n",
              "    }\n",
              "\n",
              "    [theme=dark] .colab-df-convert {\n",
              "      background-color: #3B4455;\n",
              "      fill: #D2E3FC;\n",
              "    }\n",
              "\n",
              "    [theme=dark] .colab-df-convert:hover {\n",
              "      background-color: #434B5C;\n",
              "      box-shadow: 0px 1px 3px 1px rgba(0, 0, 0, 0.15);\n",
              "      filter: drop-shadow(0px 1px 2px rgba(0, 0, 0, 0.3));\n",
              "      fill: #FFFFFF;\n",
              "    }\n",
              "  </style>\n",
              "\n",
              "      <script>\n",
              "        const buttonEl =\n",
              "          document.querySelector('#df-88fc25d5-0d45-4a33-9a60-1bd14bc7a5b2 button.colab-df-convert');\n",
              "        buttonEl.style.display =\n",
              "          google.colab.kernel.accessAllowed ? 'block' : 'none';\n",
              "\n",
              "        async function convertToInteractive(key) {\n",
              "          const element = document.querySelector('#df-88fc25d5-0d45-4a33-9a60-1bd14bc7a5b2');\n",
              "          const dataTable =\n",
              "            await google.colab.kernel.invokeFunction('convertToInteractive',\n",
              "                                                     [key], {});\n",
              "          if (!dataTable) return;\n",
              "\n",
              "          const docLinkHtml = 'Like what you see? Visit the ' +\n",
              "            '<a target=\"_blank\" href=https://colab.research.google.com/notebooks/data_table.ipynb>data table notebook</a>'\n",
              "            + ' to learn more about interactive tables.';\n",
              "          element.innerHTML = '';\n",
              "          dataTable['output_type'] = 'display_data';\n",
              "          await google.colab.output.renderOutput(dataTable, element);\n",
              "          const docLink = document.createElement('div');\n",
              "          docLink.innerHTML = docLinkHtml;\n",
              "          element.appendChild(docLink);\n",
              "        }\n",
              "      </script>\n",
              "    </div>\n",
              "  </div>\n",
              "  "
            ]
          },
          "metadata": {},
          "execution_count": 37
        }
      ]
    },
    {
      "cell_type": "markdown",
      "metadata": {
        "id": "FTaAL22famEf"
      },
      "source": [
        "<font color='blue'>Top 10 Authors which have written the most books."
      ]
    },
    {
      "cell_type": "code",
      "metadata": {
        "colab": {
          "base_uri": "https://localhost:8080/",
          "height": 439
        },
        "id": "ax2yMAvZZcVL",
        "outputId": "787ef59b-9b49-4739-c622-4966cb06842c"
      },
      "source": [
        "plt.figure(figsize=(15,7))\n",
        "sns.countplot(y='Book-Author',data=books,order=pd.value_counts(books['Book-Author']).iloc[:10].index)\n",
        "plt.title('Top 10 Authors')"
      ],
      "execution_count": 38,
      "outputs": [
        {
          "output_type": "execute_result",
          "data": {
            "text/plain": [
              "Text(0.5, 1.0, 'Top 10 Authors')"
            ]
          },
          "metadata": {},
          "execution_count": 38
        },
        {
          "output_type": "display_data",
          "data": {
            "text/plain": [
              "<Figure size 1080x504 with 1 Axes>"
            ],
            "image/png": "[encoded data removed]"
          },
          "metadata": {
            "needs_background": "light"
          }
        }
      ]
    },
    {
      "cell_type": "markdown",
      "metadata": {
        "id": "icPwIR_WbntA"
      },
      "source": [
        "<font color='blue'>Top 10 Publisher which have published the most books."
      ]
    },
    {
      "cell_type": "code",
      "metadata": {
        "colab": {
          "base_uri": "https://localhost:8080/",
          "height": 430
        },
        "id": "iDqUIosnZcS_",
        "outputId": "89b21eb7-c561-4005-b07f-a9e6a36f9007"
      },
      "source": [
        "plt.figure(figsize=(15,7))\n",
        "sns.countplot(y='Publisher',data=books,order=pd.value_counts(books['Publisher']).iloc[:10].index)\n",
        "plt.title('Top 10 Publishers')"
      ],
      "execution_count": 39,
      "outputs": [
        {
          "output_type": "execute_result",
          "data": {
            "text/plain": [
              "Text(0.5, 1.0, 'Top 10 Publishers')"
            ]
          },
          "metadata": {},
          "execution_count": 39
        },
        {
          "output_type": "display_data",
          "data": {
            "text/plain": [
              "<Figure size 1080x504 with 1 Axes>"
            ],
            "image/png": "[encoded data removed]"
          },
          "metadata": {
            "needs_background": "light"
          }
        }
      ]
    },
    {
      "cell_type": "code",
      "metadata": {
        "colab": {
          "base_uri": "https://localhost:8080/"
        },
        "id": "3QBzuvDtZcQy",
        "outputId": "7498abbd-ca4d-4f69-abae-f9745492bbc4"
      },
      "source": [
        "books['Year-Of-Publication']=books['Year-Of-Publication'].astype('str')\n",
        "a=list(books['Year-Of-Publication'].unique())\n",
        "a=set(a)\n",
        "a=list(a)\n",
        "a = [x for x in a if x is not None]\n",
        "a.sort()\n",
        "print(a)"
      ],
      "execution_count": 40,
      "outputs": [
        {
          "output_type": "stream",
          "name": "stdout",
          "text": [
            "['0', '1376', '1378', '1806', '1897', '1900', '1901', '1902', '1904', '1906', '1908', '1909', '1910', '1911', '1914', '1917', '1919', '1920', '1921', '1922', '1923', '1924', '1925', '1926', '1927', '1928', '1929', '1930', '1931', '1932', '1933', '1934', '1935', '1936', '1937', '1938', '1939', '1940', '1941', '1942', '1943', '1944', '1945', '1946', '1947', '1948', '1949', '1950', '1951', '1952', '1953', '1954', '1955', '1956', '1957', '1958', '1959', '1960', '1961', '1962', '1963', '1964', '1965', '1966', '1967', '1968', '1969', '1970', '1971', '1972', '1973', '1974', '1975', '1976', '1977', '1978', '1979', '1980', '1981', '1982', '1983', '1984', '1985', '1986', '1987', '1988', '1989', '1990', '1991', '1992', '1993', '1994', '1995', '1996', '1997', '1998', '1999', '2000', '2001', '2002', '2003', '2004', '2005', '2006', '2008', '2010', '2011', '2012', '2020', '2021', '2024', '2026', '2030', '2037', '2038', '2050', 'DK Publishing Inc', 'Gallimard']\n"
          ]
        }
      ]
    },
    {
      "cell_type": "code",
      "metadata": {
        "colab": {
          "base_uri": "https://localhost:8080/",
          "height": 419
        },
        "id": "lh_ud6IRfaQR",
        "outputId": "290e81a6-5371-4d76-9572-5c53ca913cb0"
      },
      "source": [
        "#investigating the rows having 'DK Publishing Inc' as yearOfPublication\n",
        "books.loc[books['Year-Of-Publication'] == 'DK Publishing Inc',:]"
      ],
      "execution_count": 41,
      "outputs": [
        {
          "output_type": "execute_result",
          "data": {
            "text/plain": [
              "              ISBN                                         Book-Title  \\\n",
              "209538  078946697X  DK Readers: Creating the X-Men, How It All Beg...   \n",
              "221678  0789466953  DK Readers: Creating the X-Men, How Comic Book...   \n",
              "\n",
              "       Book-Author Year-Of-Publication  \\\n",
              "209538        2000   DK Publishing Inc   \n",
              "221678        2000   DK Publishing Inc   \n",
              "\n",
              "                                                Publisher  \\\n",
              "209538  http://images.amazon.com/images/P/078946697X.0...   \n",
              "221678  http://images.amazon.com/images/P/0789466953.0...   \n",
              "\n",
              "                                              Image-URL-S  \\\n",
              "209538  http://images.amazon.com/images/P/078946697X.0...   \n",
              "221678  http://images.amazon.com/images/P/0789466953.0...   \n",
              "\n",
              "                                              Image-URL-M Image-URL-L  \n",
              "209538  http://images.amazon.com/images/P/078946697X.0...         NaN  \n",
              "221678  http://images.amazon.com/images/P/0789466953.0...         NaN  "
            ],
            "text/html": [
              "\n",
              "  <div id=\"df-8c88ac76-0d30-4e3b-a0fb-0c4b270bbe03\">\n",
              "    <div class=\"colab-df-container\">\n",
              "      <div>\n",
              "<style scoped>\n",
              "    .dataframe tbody tr th:only-of-type {\n",
              "        vertical-align: middle;\n",
              "    }\n",
              "\n",
              "    .dataframe tbody tr th {\n",
              "        vertical-align: top;\n",
              "    }\n",
              "\n",
              "    .dataframe thead th {\n",
              "        text-align: right;\n",
              "    }\n",
              "</style>\n",
              "<table border=\"1\" class=\"dataframe\">\n",
              "  <thead>\n",
              "    <tr style=\"text-align: right;\">\n",
              "      <th></th>\n",
              "      <th>ISBN</th>\n",
              "      <th>Book-Title</th>\n",
              "      <th>Book-Author</th>\n",
              "      <th>Year-Of-Publication</th>\n",
              "      <th>Publisher</th>\n",
              "      <th>Image-URL-S</th>\n",
              "      <th>Image-URL-M</th>\n",
              "      <th>Image-URL-L</th>\n",
              "    </tr>\n",
              "  </thead>\n",
              "  <tbody>\n",
              "    <tr>\n",
              "      <th>209538</th>\n",
              "      <td>078946697X</td>\n",
              "      <td>DK Readers: Creating the X-Men, How It All Beg...</td>\n",
              "      <td>2000</td>\n",
              "      <td>DK Publishing Inc</td>\n",
              "      <td>http://images.amazon.com/images/P/078946697X.0...</td>\n",
              "      <td>http://images.amazon.com/images/P/078946697X.0...</td>\n",
              "      <td>http://images.amazon.com/images/P/078946697X.0...</td>\n",
              "      <td>NaN</td>\n",
              "    </tr>\n",
              "    <tr>\n",
              "      <th>221678</th>\n",
              "      <td>0789466953</td>\n",
              "      <td>DK Readers: Creating the X-Men, How Comic Book...</td>\n",
              "      <td>2000</td>\n",
              "      <td>DK Publishing Inc</td>\n",
              "      <td>http://images.amazon.com/images/P/0789466953.0...</td>\n",
              "      <td>http://images.amazon.com/images/P/0789466953.0...</td>\n",
              "      <td>http://images.amazon.com/images/P/0789466953.0...</td>\n",
              "      <td>NaN</td>\n",
              "    </tr>\n",
              "  </tbody>\n",
              "</table>\n",
              "</div>\n",
              "      <button class=\"colab-df-convert\" onclick=\"convertToInteractive('df-8c88ac76-0d30-4e3b-a0fb-0c4b270bbe03')\"\n",
              "              title=\"Convert this dataframe to an interactive table.\"\n",
              "              style=\"display:none;\">\n",
              "        \n",
              "  <svg xmlns=\"http://www.w3.org/2000/svg\" height=\"24px\"viewBox=\"0 0 24 24\"\n",
              "       width=\"24px\">\n",
              "    <path d=\"M0 0h24v24H0V0z\" fill=\"none\"/>\n",
              "    <path d=\"M18.56 5.44l.94 2.06.94-2.06 2.06-.94-2.06-.94-.94-2.06-.94 2.06-2.06.94zm-11 1L8.5 8.5l.94-2.06 2.06-.94-2.06-.94L8.5 2.5l-.94 2.06-2.06.94zm10 10l.94 2.06.94-2.06 2.06-.94-2.06-.94-.94-2.06-.94 2.06-2.06.94z\"/><path d=\"M17.41 7.96l-1.37-1.37c-.4-.4-.92-.59-1.43-.59-.52 0-1.04.2-1.43.59L10.3 9.45l-7.72 7.72c-.78.78-.78 2.05 0 2.83L4 21.41c.39.39.9.59 1.41.59.51 0 1.02-.2 1.41-.59l7.78-7.78 2.81-2.81c.8-.78.8-2.07 0-2.86zM5.41 20L4 18.59l7.72-7.72 1.47 1.35L5.41 20z\"/>\n",
              "  </svg>\n",
              "      </button>\n",
              "      \n",
              "  <style>\n",
              "    .colab-df-container {\n",
              "      display:flex;\n",
              "      flex-wrap:wrap;\n",
              "      gap: 12px;\n",
              "    }\n",
              "\n",
              "    .colab-df-convert {\n",
              "      background-color: #E8F0FE;\n",
              "      border: none;\n",
              "      border-radius: 50%;\n",
              "      cursor: pointer;\n",
              "      display: none;\n",
              "      fill: #1967D2;\n",
              "      height: 32px;\n",
              "      padding: 0 0 0 0;\n",
              "      width: 32px;\n",
              "    }\n",
              "\n",
              "    .colab-df-convert:hover {\n",
              "      background-color: #E2EBFA;\n",
              "      box-shadow: 0px 1px 2px rgba(60, 64, 67, 0.3), 0px 1px 3px 1px rgba(60, 64, 67, 0.15);\n",
              "      fill: #174EA6;\n",
              "    }\n",
              "\n",
              "    [theme=dark] .colab-df-convert {\n",
              "      background-color: #3B4455;\n",
              "      fill: #D2E3FC;\n",
              "    }\n",
              "\n",
              "    [theme=dark] .colab-df-convert:hover {\n",
              "      background-color: #434B5C;\n",
              "      box-shadow: 0px 1px 3px 1px rgba(0, 0, 0, 0.15);\n",
              "      filter: drop-shadow(0px 1px 2px rgba(0, 0, 0, 0.3));\n",
              "      fill: #FFFFFF;\n",
              "    }\n",
              "  </style>\n",
              "\n",
              "      <script>\n",
              "        const buttonEl =\n",
              "          document.querySelector('#df-8c88ac76-0d30-4e3b-a0fb-0c4b270bbe03 button.colab-df-convert');\n",
              "        buttonEl.style.display =\n",
              "          google.colab.kernel.accessAllowed ? 'block' : 'none';\n",
              "\n",
              "        async function convertToInteractive(key) {\n",
              "          const element = document.querySelector('#df-8c88ac76-0d30-4e3b-a0fb-0c4b270bbe03');\n",
              "          const dataTable =\n",
              "            await google.colab.kernel.invokeFunction('convertToInteractive',\n",
              "                                                     [key], {});\n",
              "          if (!dataTable) return;\n",
              "\n",
              "          const docLinkHtml = 'Like what you see? Visit the ' +\n",
              "            '<a target=\"_blank\" href=https://colab.research.google.com/notebooks/data_table.ipynb>data table notebook</a>'\n",
              "            + ' to learn more about interactive tables.';\n",
              "          element.innerHTML = '';\n",
              "          dataTable['output_type'] = 'display_data';\n",
              "          await google.colab.output.renderOutput(dataTable, element);\n",
              "          const docLink = document.createElement('div');\n",
              "          docLink.innerHTML = docLinkHtml;\n",
              "          element.appendChild(docLink);\n",
              "        }\n",
              "      </script>\n",
              "    </div>\n",
              "  </div>\n",
              "  "
            ]
          },
          "metadata": {},
          "execution_count": 41
        }
      ]
    },
    {
      "cell_type": "markdown",
      "metadata": {
        "id": "B5L8g4tdfDgz"
      },
      "source": [
        "<font color='blue'>As it can be seen from above that there are some incorrect entries in Year-Of-Publication field. It looks like Publisher names 'DK Publishing Inc' and 'Gallimard' have been incorrectly loaded as Year-Of-Publication in dataset due to some errors in csv file "
      ]
    },
    {
      "cell_type": "code",
      "metadata": {
        "colab": {
          "base_uri": "https://localhost:8080/",
          "height": 419
        },
        "id": "gYox7oYWZcOF",
        "outputId": "0d95c5a9-6d70-4c06-ff06-d091d80079d9"
      },
      "source": [
        "#From above, it is seen that bookAuthor is incorrectly loaded with bookTitle, hence making required corrections\n",
        "#ISBN '0789466953'\n",
        "books.loc[books.ISBN == '0789466953','Year-Of-Publication'] = 2000\n",
        "books.loc[books.ISBN == '0789466953','Book-Author'] = \"James Buckley\"\n",
        "books.loc[books.ISBN == '0789466953','Publisher'] = \"DK Publishing Inc\"\n",
        "books.loc[books.ISBN == '0789466953','Book-Title'] = \"DK Readers: Creating the X-Men, How Comic Books Come to Life (Level 4: Proficient Readers)\"\n",
        "\n",
        "#ISBN '078946697X'\n",
        "books.loc[books.ISBN == '078946697X','Year-Of-Publication'] = 2000\n",
        "books.loc[books.ISBN == '078946697X','Book-Author'] = \"Michael Teitelbaum\"\n",
        "books.loc[books.ISBN == '078946697X','Publisher'] = \"DK Publishing Inc\"\n",
        "books.loc[books.ISBN == '078946697X','Book-Title'] = \"DK Readers: Creating the X-Men, How It All Began (Level 4: Proficient Readers)\"\n",
        "\n",
        "#rechecking\n",
        "books.loc[(books.ISBN == '0789466953') | (books.ISBN == '078946697X'),:]\n",
        "#corrections done"
      ],
      "execution_count": 42,
      "outputs": [
        {
          "output_type": "execute_result",
          "data": {
            "text/plain": [
              "              ISBN                                         Book-Title  \\\n",
              "209538  078946697X  DK Readers: Creating the X-Men, How It All Beg...   \n",
              "221678  0789466953  DK Readers: Creating the X-Men, How Comic Book...   \n",
              "\n",
              "               Book-Author Year-Of-Publication          Publisher  \\\n",
              "209538  Michael Teitelbaum                2000  DK Publishing Inc   \n",
              "221678       James Buckley                2000  DK Publishing Inc   \n",
              "\n",
              "                                              Image-URL-S  \\\n",
              "209538  http://images.amazon.com/images/P/078946697X.0...   \n",
              "221678  http://images.amazon.com/images/P/0789466953.0...   \n",
              "\n",
              "                                              Image-URL-M Image-URL-L  \n",
              "209538  http://images.amazon.com/images/P/078946697X.0...         NaN  \n",
              "221678  http://images.amazon.com/images/P/0789466953.0...         NaN  "
            ],
            "text/html": [
              "\n",
              "  <div id=\"df-e273b0df-52c7-407c-a924-cea25c2afa01\">\n",
              "    <div class=\"colab-df-container\">\n",
              "      <div>\n",
              "<style scoped>\n",
              "    .dataframe tbody tr th:only-of-type {\n",
              "        vertical-align: middle;\n",
              "    }\n",
              "\n",
              "    .dataframe tbody tr th {\n",
              "        vertical-align: top;\n",
              "    }\n",
              "\n",
              "    .dataframe thead th {\n",
              "        text-align: right;\n",
              "    }\n",
              "</style>\n",
              "<table border=\"1\" class=\"dataframe\">\n",
              "  <thead>\n",
              "    <tr style=\"text-align: right;\">\n",
              "      <th></th>\n",
              "      <th>ISBN</th>\n",
              "      <th>Book-Title</th>\n",
              "      <th>Book-Author</th>\n",
              "      <th>Year-Of-Publication</th>\n",
              "      <th>Publisher</th>\n",
              "      <th>Image-URL-S</th>\n",
              "      <th>Image-URL-M</th>\n",
              "      <th>Image-URL-L</th>\n",
              "    </tr>\n",
              "  </thead>\n",
              "  <tbody>\n",
              "    <tr>\n",
              "      <th>209538</th>\n",
              "      <td>078946697X</td>\n",
              "      <td>DK Readers: Creating the X-Men, How It All Beg...</td>\n",
              "      <td>Michael Teitelbaum</td>\n",
              "      <td>2000</td>\n",
              "      <td>DK Publishing Inc</td>\n",
              "      <td>http://images.amazon.com/images/P/078946697X.0...</td>\n",
              "      <td>http://images.amazon.com/images/P/078946697X.0...</td>\n",
              "      <td>NaN</td>\n",
              "    </tr>\n",
              "    <tr>\n",
              "      <th>221678</th>\n",
              "      <td>0789466953</td>\n",
              "      <td>DK Readers: Creating the X-Men, How Comic Book...</td>\n",
              "      <td>James Buckley</td>\n",
              "      <td>2000</td>\n",
              "      <td>DK Publishing Inc</td>\n",
              "      <td>http://images.amazon.com/images/P/0789466953.0...</td>\n",
              "      <td>http://images.amazon.com/images/P/0789466953.0...</td>\n",
              "      <td>NaN</td>\n",
              "    </tr>\n",
              "  </tbody>\n",
              "</table>\n",
              "</div>\n",
              "      <button class=\"colab-df-convert\" onclick=\"convertToInteractive('df-e273b0df-52c7-407c-a924-cea25c2afa01')\"\n",
              "              title=\"Convert this dataframe to an interactive table.\"\n",
              "              style=\"display:none;\">\n",
              "        \n",
              "  <svg xmlns=\"http://www.w3.org/2000/svg\" height=\"24px\"viewBox=\"0 0 24 24\"\n",
              "       width=\"24px\">\n",
              "    <path d=\"M0 0h24v24H0V0z\" fill=\"none\"/>\n",
              "    <path d=\"M18.56 5.44l.94 2.06.94-2.06 2.06-.94-2.06-.94-.94-2.06-.94 2.06-2.06.94zm-11 1L8.5 8.5l.94-2.06 2.06-.94-2.06-.94L8.5 2.5l-.94 2.06-2.06.94zm10 10l.94 2.06.94-2.06 2.06-.94-2.06-.94-.94-2.06-.94 2.06-2.06.94z\"/><path d=\"M17.41 7.96l-1.37-1.37c-.4-.4-.92-.59-1.43-.59-.52 0-1.04.2-1.43.59L10.3 9.45l-7.72 7.72c-.78.78-.78 2.05 0 2.83L4 21.41c.39.39.9.59 1.41.59.51 0 1.02-.2 1.41-.59l7.78-7.78 2.81-2.81c.8-.78.8-2.07 0-2.86zM5.41 20L4 18.59l7.72-7.72 1.47 1.35L5.41 20z\"/>\n",
              "  </svg>\n",
              "      </button>\n",
              "      \n",
              "  <style>\n",
              "    .colab-df-container {\n",
              "      display:flex;\n",
              "      flex-wrap:wrap;\n",
              "      gap: 12px;\n",
              "    }\n",
              "\n",
              "    .colab-df-convert {\n",
              "      background-color: #E8F0FE;\n",
              "      border: none;\n",
              "      border-radius: 50%;\n",
              "      cursor: pointer;\n",
              "      display: none;\n",
              "      fill: #1967D2;\n",
              "      height: 32px;\n",
              "      padding: 0 0 0 0;\n",
              "      width: 32px;\n",
              "    }\n",
              "\n",
              "    .colab-df-convert:hover {\n",
              "      background-color: #E2EBFA;\n",
              "      box-shadow: 0px 1px 2px rgba(60, 64, 67, 0.3), 0px 1px 3px 1px rgba(60, 64, 67, 0.15);\n",
              "      fill: #174EA6;\n",
              "    }\n",
              "\n",
              "    [theme=dark] .colab-df-convert {\n",
              "      background-color: #3B4455;\n",
              "      fill: #D2E3FC;\n",
              "    }\n",
              "\n",
              "    [theme=dark] .colab-df-convert:hover {\n",
              "      background-color: #434B5C;\n",
              "      box-shadow: 0px 1px 3px 1px rgba(0, 0, 0, 0.15);\n",
              "      filter: drop-shadow(0px 1px 2px rgba(0, 0, 0, 0.3));\n",
              "      fill: #FFFFFF;\n",
              "    }\n",
              "  </style>\n",
              "\n",
              "      <script>\n",
              "        const buttonEl =\n",
              "          document.querySelector('#df-e273b0df-52c7-407c-a924-cea25c2afa01 button.colab-df-convert');\n",
              "        buttonEl.style.display =\n",
              "          google.colab.kernel.accessAllowed ? 'block' : 'none';\n",
              "\n",
              "        async function convertToInteractive(key) {\n",
              "          const element = document.querySelector('#df-e273b0df-52c7-407c-a924-cea25c2afa01');\n",
              "          const dataTable =\n",
              "            await google.colab.kernel.invokeFunction('convertToInteractive',\n",
              "                                                     [key], {});\n",
              "          if (!dataTable) return;\n",
              "\n",
              "          const docLinkHtml = 'Like what you see? Visit the ' +\n",
              "            '<a target=\"_blank\" href=https://colab.research.google.com/notebooks/data_table.ipynb>data table notebook</a>'\n",
              "            + ' to learn more about interactive tables.';\n",
              "          element.innerHTML = '';\n",
              "          dataTable['output_type'] = 'display_data';\n",
              "          await google.colab.output.renderOutput(dataTable, element);\n",
              "          const docLink = document.createElement('div');\n",
              "          docLink.innerHTML = docLinkHtml;\n",
              "          element.appendChild(docLink);\n",
              "        }\n",
              "      </script>\n",
              "    </div>\n",
              "  </div>\n",
              "  "
            ]
          },
          "metadata": {},
          "execution_count": 42
        }
      ]
    },
    {
      "cell_type": "code",
      "metadata": {
        "colab": {
          "base_uri": "https://localhost:8080/",
          "height": 214
        },
        "id": "bsR1uhZ_hJQC",
        "outputId": "318dd973-f915-45ac-e2b5-aee01f9558e0"
      },
      "source": [
        "#investigating the rows having 'Gallimard' as yearOfPublication\n",
        "books.loc[books['Year-Of-Publication'] == 'Gallimard',:]"
      ],
      "execution_count": 43,
      "outputs": [
        {
          "output_type": "execute_result",
          "data": {
            "text/plain": [
              "              ISBN                                         Book-Title  \\\n",
              "220731  2070426769  Peuple du ciel, suivi de 'Les Bergers\\\";Jean-M...   \n",
              "\n",
              "       Book-Author Year-Of-Publication  \\\n",
              "220731        2003           Gallimard   \n",
              "\n",
              "                                                Publisher  \\\n",
              "220731  http://images.amazon.com/images/P/2070426769.0...   \n",
              "\n",
              "                                              Image-URL-S  \\\n",
              "220731  http://images.amazon.com/images/P/2070426769.0...   \n",
              "\n",
              "                                              Image-URL-M Image-URL-L  \n",
              "220731  http://images.amazon.com/images/P/2070426769.0...         NaN  "
            ],
            "text/html": [
              "\n",
              "  <div id=\"df-ec85fafc-5bf8-471e-b4b8-13034fa237a5\">\n",
              "    <div class=\"colab-df-container\">\n",
              "      <div>\n",
              "<style scoped>\n",
              "    .dataframe tbody tr th:only-of-type {\n",
              "        vertical-align: middle;\n",
              "    }\n",
              "\n",
              "    .dataframe tbody tr th {\n",
              "        vertical-align: top;\n",
              "    }\n",
              "\n",
              "    .dataframe thead th {\n",
              "        text-align: right;\n",
              "    }\n",
              "</style>\n",
              "<table border=\"1\" class=\"dataframe\">\n",
              "  <thead>\n",
              "    <tr style=\"text-align: right;\">\n",
              "      <th></th>\n",
              "      <th>ISBN</th>\n",
              "      <th>Book-Title</th>\n",
              "      <th>Book-Author</th>\n",
              "      <th>Year-Of-Publication</th>\n",
              "      <th>Publisher</th>\n",
              "      <th>Image-URL-S</th>\n",
              "      <th>Image-URL-M</th>\n",
              "      <th>Image-URL-L</th>\n",
              "    </tr>\n",
              "  </thead>\n",
              "  <tbody>\n",
              "    <tr>\n",
              "      <th>220731</th>\n",
              "      <td>2070426769</td>\n",
              "      <td>Peuple du ciel, suivi de 'Les Bergers\\\";Jean-M...</td>\n",
              "      <td>2003</td>\n",
              "      <td>Gallimard</td>\n",
              "      <td>http://images.amazon.com/images/P/2070426769.0...</td>\n",
              "      <td>http://images.amazon.com/images/P/2070426769.0...</td>\n",
              "      <td>http://images.amazon.com/images/P/2070426769.0...</td>\n",
              "      <td>NaN</td>\n",
              "    </tr>\n",
              "  </tbody>\n",
              "</table>\n",
              "</div>\n",
              "      <button class=\"colab-df-convert\" onclick=\"convertToInteractive('df-ec85fafc-5bf8-471e-b4b8-13034fa237a5')\"\n",
              "              title=\"Convert this dataframe to an interactive table.\"\n",
              "              style=\"display:none;\">\n",
              "        \n",
              "  <svg xmlns=\"http://www.w3.org/2000/svg\" height=\"24px\"viewBox=\"0 0 24 24\"\n",
              "       width=\"24px\">\n",
              "    <path d=\"M0 0h24v24H0V0z\" fill=\"none\"/>\n",
              "    <path d=\"M18.56 5.44l.94 2.06.94-2.06 2.06-.94-2.06-.94-.94-2.06-.94 2.06-2.06.94zm-11 1L8.5 8.5l.94-2.06 2.06-.94-2.06-.94L8.5 2.5l-.94 2.06-2.06.94zm10 10l.94 2.06.94-2.06 2.06-.94-2.06-.94-.94-2.06-.94 2.06-2.06.94z\"/><path d=\"M17.41 7.96l-1.37-1.37c-.4-.4-.92-.59-1.43-.59-.52 0-1.04.2-1.43.59L10.3 9.45l-7.72 7.72c-.78.78-.78 2.05 0 2.83L4 21.41c.39.39.9.59 1.41.59.51 0 1.02-.2 1.41-.59l7.78-7.78 2.81-2.81c.8-.78.8-2.07 0-2.86zM5.41 20L4 18.59l7.72-7.72 1.47 1.35L5.41 20z\"/>\n",
              "  </svg>\n",
              "      </button>\n",
              "      \n",
              "  <style>\n",
              "    .colab-df-container {\n",
              "      display:flex;\n",
              "      flex-wrap:wrap;\n",
              "      gap: 12px;\n",
              "    }\n",
              "\n",
              "    .colab-df-convert {\n",
              "      background-color: #E8F0FE;\n",
              "      border: none;\n",
              "      border-radius: 50%;\n",
              "      cursor: pointer;\n",
              "      display: none;\n",
              "      fill: #1967D2;\n",
              "      height: 32px;\n",
              "      padding: 0 0 0 0;\n",
              "      width: 32px;\n",
              "    }\n",
              "\n",
              "    .colab-df-convert:hover {\n",
              "      background-color: #E2EBFA;\n",
              "      box-shadow: 0px 1px 2px rgba(60, 64, 67, 0.3), 0px 1px 3px 1px rgba(60, 64, 67, 0.15);\n",
              "      fill: #174EA6;\n",
              "    }\n",
              "\n",
              "    [theme=dark] .colab-df-convert {\n",
              "      background-color: #3B4455;\n",
              "      fill: #D2E3FC;\n",
              "    }\n",
              "\n",
              "    [theme=dark] .colab-df-convert:hover {\n",
              "      background-color: #434B5C;\n",
              "      box-shadow: 0px 1px 3px 1px rgba(0, 0, 0, 0.15);\n",
              "      filter: drop-shadow(0px 1px 2px rgba(0, 0, 0, 0.3));\n",
              "      fill: #FFFFFF;\n",
              "    }\n",
              "  </style>\n",
              "\n",
              "      <script>\n",
              "        const buttonEl =\n",
              "          document.querySelector('#df-ec85fafc-5bf8-471e-b4b8-13034fa237a5 button.colab-df-convert');\n",
              "        buttonEl.style.display =\n",
              "          google.colab.kernel.accessAllowed ? 'block' : 'none';\n",
              "\n",
              "        async function convertToInteractive(key) {\n",
              "          const element = document.querySelector('#df-ec85fafc-5bf8-471e-b4b8-13034fa237a5');\n",
              "          const dataTable =\n",
              "            await google.colab.kernel.invokeFunction('convertToInteractive',\n",
              "                                                     [key], {});\n",
              "          if (!dataTable) return;\n",
              "\n",
              "          const docLinkHtml = 'Like what you see? Visit the ' +\n",
              "            '<a target=\"_blank\" href=https://colab.research.google.com/notebooks/data_table.ipynb>data table notebook</a>'\n",
              "            + ' to learn more about interactive tables.';\n",
              "          element.innerHTML = '';\n",
              "          dataTable['output_type'] = 'display_data';\n",
              "          await google.colab.output.renderOutput(dataTable, element);\n",
              "          const docLink = document.createElement('div');\n",
              "          docLink.innerHTML = docLinkHtml;\n",
              "          element.appendChild(docLink);\n",
              "        }\n",
              "      </script>\n",
              "    </div>\n",
              "  </div>\n",
              "  "
            ]
          },
          "metadata": {},
          "execution_count": 43
        }
      ]
    },
    {
      "cell_type": "code",
      "metadata": {
        "colab": {
          "base_uri": "https://localhost:8080/",
          "height": 232
        },
        "id": "XXRqgejwh235",
        "outputId": "81fa8ec9-3894-464e-acb8-ec3aafebc58c"
      },
      "source": [
        "#making required corrections as above, keeping other fields intact\n",
        "books.loc[books.ISBN == '2070426769','Year-Of-Publication'] = 2003\n",
        "books.loc[books.ISBN == '2070426769','Book-Author'] = \"Jean-Marie Gustave Le ClÃ?Â©zio\"\n",
        "books.loc[books.ISBN == '2070426769','Publisher'] = \"Gallimard\"\n",
        "books.loc[books.ISBN == '2070426769','Book-Title'] = \"Peuple du ciel, suivi de 'Les Bergers\"\n",
        "\n",
        "\n",
        "books.loc[books.ISBN == '2070426769',:]"
      ],
      "execution_count": 44,
      "outputs": [
        {
          "output_type": "execute_result",
          "data": {
            "text/plain": [
              "              ISBN                             Book-Title  \\\n",
              "220731  2070426769  Peuple du ciel, suivi de 'Les Bergers   \n",
              "\n",
              "                            Book-Author Year-Of-Publication  Publisher  \\\n",
              "220731  Jean-Marie Gustave Le ClÃ?Â©zio                2003  Gallimard   \n",
              "\n",
              "                                              Image-URL-S  \\\n",
              "220731  http://images.amazon.com/images/P/2070426769.0...   \n",
              "\n",
              "                                              Image-URL-M Image-URL-L  \n",
              "220731  http://images.amazon.com/images/P/2070426769.0...         NaN  "
            ],
            "text/html": [
              "\n",
              "  <div id=\"df-c85d55dd-3a56-4774-98be-8245463dc19b\">\n",
              "    <div class=\"colab-df-container\">\n",
              "      <div>\n",
              "<style scoped>\n",
              "    .dataframe tbody tr th:only-of-type {\n",
              "        vertical-align: middle;\n",
              "    }\n",
              "\n",
              "    .dataframe tbody tr th {\n",
              "        vertical-align: top;\n",
              "    }\n",
              "\n",
              "    .dataframe thead th {\n",
              "        text-align: right;\n",
              "    }\n",
              "</style>\n",
              "<table border=\"1\" class=\"dataframe\">\n",
              "  <thead>\n",
              "    <tr style=\"text-align: right;\">\n",
              "      <th></th>\n",
              "      <th>ISBN</th>\n",
              "      <th>Book-Title</th>\n",
              "      <th>Book-Author</th>\n",
              "      <th>Year-Of-Publication</th>\n",
              "      <th>Publisher</th>\n",
              "      <th>Image-URL-S</th>\n",
              "      <th>Image-URL-M</th>\n",
              "      <th>Image-URL-L</th>\n",
              "    </tr>\n",
              "  </thead>\n",
              "  <tbody>\n",
              "    <tr>\n",
              "      <th>220731</th>\n",
              "      <td>2070426769</td>\n",
              "      <td>Peuple du ciel, suivi de 'Les Bergers</td>\n",
              "      <td>Jean-Marie Gustave Le ClÃ?Â©zio</td>\n",
              "      <td>2003</td>\n",
              "      <td>Gallimard</td>\n",
              "      <td>http://images.amazon.com/images/P/2070426769.0...</td>\n",
              "      <td>http://images.amazon.com/images/P/2070426769.0...</td>\n",
              "      <td>NaN</td>\n",
              "    </tr>\n",
              "  </tbody>\n",
              "</table>\n",
              "</div>\n",
              "      <button class=\"colab-df-convert\" onclick=\"convertToInteractive('df-c85d55dd-3a56-4774-98be-8245463dc19b')\"\n",
              "              title=\"Convert this dataframe to an interactive table.\"\n",
              "              style=\"display:none;\">\n",
              "        \n",
              "  <svg xmlns=\"http://www.w3.org/2000/svg\" height=\"24px\"viewBox=\"0 0 24 24\"\n",
              "       width=\"24px\">\n",
              "    <path d=\"M0 0h24v24H0V0z\" fill=\"none\"/>\n",
              "    <path d=\"M18.56 5.44l.94 2.06.94-2.06 2.06-.94-2.06-.94-.94-2.06-.94 2.06-2.06.94zm-11 1L8.5 8.5l.94-2.06 2.06-.94-2.06-.94L8.5 2.5l-.94 2.06-2.06.94zm10 10l.94 2.06.94-2.06 2.06-.94-2.06-.94-.94-2.06-.94 2.06-2.06.94z\"/><path d=\"M17.41 7.96l-1.37-1.37c-.4-.4-.92-.59-1.43-.59-.52 0-1.04.2-1.43.59L10.3 9.45l-7.72 7.72c-.78.78-.78 2.05 0 2.83L4 21.41c.39.39.9.59 1.41.59.51 0 1.02-.2 1.41-.59l7.78-7.78 2.81-2.81c.8-.78.8-2.07 0-2.86zM5.41 20L4 18.59l7.72-7.72 1.47 1.35L5.41 20z\"/>\n",
              "  </svg>\n",
              "      </button>\n",
              "      \n",
              "  <style>\n",
              "    .colab-df-container {\n",
              "      display:flex;\n",
              "      flex-wrap:wrap;\n",
              "      gap: 12px;\n",
              "    }\n",
              "\n",
              "    .colab-df-convert {\n",
              "      background-color: #E8F0FE;\n",
              "      border: none;\n",
              "      border-radius: 50%;\n",
              "      cursor: pointer;\n",
              "      display: none;\n",
              "      fill: #1967D2;\n",
              "      height: 32px;\n",
              "      padding: 0 0 0 0;\n",
              "      width: 32px;\n",
              "    }\n",
              "\n",
              "    .colab-df-convert:hover {\n",
              "      background-color: #E2EBFA;\n",
              "      box-shadow: 0px 1px 2px rgba(60, 64, 67, 0.3), 0px 1px 3px 1px rgba(60, 64, 67, 0.15);\n",
              "      fill: #174EA6;\n",
              "    }\n",
              "\n",
              "    [theme=dark] .colab-df-convert {\n",
              "      background-color: #3B4455;\n",
              "      fill: #D2E3FC;\n",
              "    }\n",
              "\n",
              "    [theme=dark] .colab-df-convert:hover {\n",
              "      background-color: #434B5C;\n",
              "      box-shadow: 0px 1px 3px 1px rgba(0, 0, 0, 0.15);\n",
              "      filter: drop-shadow(0px 1px 2px rgba(0, 0, 0, 0.3));\n",
              "      fill: #FFFFFF;\n",
              "    }\n",
              "  </style>\n",
              "\n",
              "      <script>\n",
              "        const buttonEl =\n",
              "          document.querySelector('#df-c85d55dd-3a56-4774-98be-8245463dc19b button.colab-df-convert');\n",
              "        buttonEl.style.display =\n",
              "          google.colab.kernel.accessAllowed ? 'block' : 'none';\n",
              "\n",
              "        async function convertToInteractive(key) {\n",
              "          const element = document.querySelector('#df-c85d55dd-3a56-4774-98be-8245463dc19b');\n",
              "          const dataTable =\n",
              "            await google.colab.kernel.invokeFunction('convertToInteractive',\n",
              "                                                     [key], {});\n",
              "          if (!dataTable) return;\n",
              "\n",
              "          const docLinkHtml = 'Like what you see? Visit the ' +\n",
              "            '<a target=\"_blank\" href=https://colab.research.google.com/notebooks/data_table.ipynb>data table notebook</a>'\n",
              "            + ' to learn more about interactive tables.';\n",
              "          element.innerHTML = '';\n",
              "          dataTable['output_type'] = 'display_data';\n",
              "          await google.colab.output.renderOutput(dataTable, element);\n",
              "          const docLink = document.createElement('div');\n",
              "          docLink.innerHTML = docLinkHtml;\n",
              "          element.appendChild(docLink);\n",
              "        }\n",
              "      </script>\n",
              "    </div>\n",
              "  </div>\n",
              "  "
            ]
          },
          "metadata": {},
          "execution_count": 44
        }
      ]
    },
    {
      "cell_type": "code",
      "metadata": {
        "colab": {
          "base_uri": "https://localhost:8080/"
        },
        "id": "KLadyjMKiL9h",
        "outputId": "6d26c39a-9084-4fec-d084-7daf9f2d4f5c"
      },
      "source": [
        "books['Year-Of-Publication']=pd.to_numeric(books['Year-Of-Publication'], errors='coerce')\n",
        "\n",
        "print(sorted(books['Year-Of-Publication'].unique()))\n",
        "#Now it can be seen that yearOfPublication has all values as integers"
      ],
      "execution_count": 45,
      "outputs": [
        {
          "output_type": "stream",
          "name": "stdout",
          "text": [
            "[0, 1376, 1378, 1806, 1897, 1900, 1901, 1902, 1904, 1906, 1908, 1909, 1910, 1911, 1914, 1917, 1919, 1920, 1921, 1922, 1923, 1924, 1925, 1926, 1927, 1928, 1929, 1930, 1931, 1932, 1933, 1934, 1935, 1936, 1937, 1938, 1939, 1940, 1941, 1942, 1943, 1944, 1945, 1946, 1947, 1948, 1949, 1950, 1951, 1952, 1953, 1954, 1955, 1956, 1957, 1958, 1959, 1960, 1961, 1962, 1963, 1964, 1965, 1966, 1967, 1968, 1969, 1970, 1971, 1972, 1973, 1974, 1975, 1976, 1977, 1978, 1979, 1980, 1981, 1982, 1983, 1984, 1985, 1986, 1987, 1988, 1989, 1990, 1991, 1992, 1993, 1994, 1995, 1996, 1997, 1998, 1999, 2000, 2001, 2002, 2003, 2004, 2005, 2006, 2008, 2010, 2011, 2012, 2020, 2021, 2024, 2026, 2030, 2037, 2038, 2050]\n"
          ]
        }
      ]
    },
    {
      "cell_type": "markdown",
      "metadata": {
        "id": "X7iSYsOakxGW"
      },
      "source": [
        "<font color='blue'>The value 0 for Year-Of_Publication is invalid and as this dataset was published in 2004, We have assumed that the years after 2006 to be \n",
        "invalid and setting invalid years as NaN\n",
        "\n",
        "Reference of the fact: http://www2.informatik.uni-freiburg.de/~cziegler/BX/"
      ]
    },
    {
      "cell_type": "code",
      "metadata": {
        "id": "9QyokEaflJ5O"
      },
      "source": [
        "books.loc[(books['Year-Of-Publication'] > 2006) | (books['Year-Of-Publication'] == 0),'Year-Of-Publication'] = np.NAN\n",
        "\n",
        "#replacing NaNs with median value of Year-Of-Publication\n",
        "books['Year-Of-Publication'].fillna(round(books['Year-Of-Publication'].median()), inplace=True)"
      ],
      "execution_count": 46,
      "outputs": []
    },
    {
      "cell_type": "code",
      "metadata": {
        "id": "osjQapzRlyB1"
      },
      "source": [
        "#dropping last three columns containing image URLs which will not be required for analysis\n",
        "books.drop(['Image-URL-S', 'Image-URL-M', 'Image-URL-L'],axis=1,inplace=True)"
      ],
      "execution_count": 47,
      "outputs": []
    },
    {
      "cell_type": "code",
      "metadata": {
        "colab": {
          "base_uri": "https://localhost:8080/"
        },
        "id": "TfLifixPlx_D",
        "outputId": "7aeda6b1-12a9-4341-b4fc-7f3106adbb81"
      },
      "source": [
        "books.isna().sum()"
      ],
      "execution_count": 48,
      "outputs": [
        {
          "output_type": "execute_result",
          "data": {
            "text/plain": [
              "ISBN                   0\n",
              "Book-Title             0\n",
              "Book-Author            1\n",
              "Year-Of-Publication    0\n",
              "Publisher              2\n",
              "dtype: int64"
            ]
          },
          "metadata": {},
          "execution_count": 48
        }
      ]
    },
    {
      "cell_type": "code",
      "metadata": {
        "colab": {
          "base_uri": "https://localhost:8080/",
          "height": 112
        },
        "id": "qb_ZEgE5lx8y",
        "outputId": "a919a24f-874d-486b-a4c5-bcb9456a2191"
      },
      "source": [
        "#exploring 'publisher' column\n",
        "books.loc[books.Publisher.isnull(),:]\n",
        "#two NaNs"
      ],
      "execution_count": 49,
      "outputs": [
        {
          "output_type": "execute_result",
          "data": {
            "text/plain": [
              "              ISBN       Book-Title      Book-Author  Year-Of-Publication  \\\n",
              "128890  193169656X      Tyrant Moon  Elaine Corvidae               2002.0   \n",
              "129037  1931696993  Finders Keepers  Linnea Sinclair               2001.0   \n",
              "\n",
              "       Publisher  \n",
              "128890       NaN  \n",
              "129037       NaN  "
            ],
            "text/html": [
              "\n",
              "  <div id=\"df-059d4e28-2b16-4a86-814c-af856e528053\">\n",
              "    <div class=\"colab-df-container\">\n",
              "      <div>\n",
              "<style scoped>\n",
              "    .dataframe tbody tr th:only-of-type {\n",
              "        vertical-align: middle;\n",
              "    }\n",
              "\n",
              "    .dataframe tbody tr th {\n",
              "        vertical-align: top;\n",
              "    }\n",
              "\n",
              "    .dataframe thead th {\n",
              "        text-align: right;\n",
              "    }\n",
              "</style>\n",
              "<table border=\"1\" class=\"dataframe\">\n",
              "  <thead>\n",
              "    <tr style=\"text-align: right;\">\n",
              "      <th></th>\n",
              "      <th>ISBN</th>\n",
              "      <th>Book-Title</th>\n",
              "      <th>Book-Author</th>\n",
              "      <th>Year-Of-Publication</th>\n",
              "      <th>Publisher</th>\n",
              "    </tr>\n",
              "  </thead>\n",
              "  <tbody>\n",
              "    <tr>\n",
              "      <th>128890</th>\n",
              "      <td>193169656X</td>\n",
              "      <td>Tyrant Moon</td>\n",
              "      <td>Elaine Corvidae</td>\n",
              "      <td>2002.0</td>\n",
              "      <td>NaN</td>\n",
              "    </tr>\n",
              "    <tr>\n",
              "      <th>129037</th>\n",
              "      <td>1931696993</td>\n",
              "      <td>Finders Keepers</td>\n",
              "      <td>Linnea Sinclair</td>\n",
              "      <td>2001.0</td>\n",
              "      <td>NaN</td>\n",
              "    </tr>\n",
              "  </tbody>\n",
              "</table>\n",
              "</div>\n",
              "      <button class=\"colab-df-convert\" onclick=\"convertToInteractive('df-059d4e28-2b16-4a86-814c-af856e528053')\"\n",
              "              title=\"Convert this dataframe to an interactive table.\"\n",
              "              style=\"display:none;\">\n",
              "        \n",
              "  <svg xmlns=\"http://www.w3.org/2000/svg\" height=\"24px\"viewBox=\"0 0 24 24\"\n",
              "       width=\"24px\">\n",
              "    <path d=\"M0 0h24v24H0V0z\" fill=\"none\"/>\n",
              "    <path d=\"M18.56 5.44l.94 2.06.94-2.06 2.06-.94-2.06-.94-.94-2.06-.94 2.06-2.06.94zm-11 1L8.5 8.5l.94-2.06 2.06-.94-2.06-.94L8.5 2.5l-.94 2.06-2.06.94zm10 10l.94 2.06.94-2.06 2.06-.94-2.06-.94-.94-2.06-.94 2.06-2.06.94z\"/><path d=\"M17.41 7.96l-1.37-1.37c-.4-.4-.92-.59-1.43-.59-.52 0-1.04.2-1.43.59L10.3 9.45l-7.72 7.72c-.78.78-.78 2.05 0 2.83L4 21.41c.39.39.9.59 1.41.59.51 0 1.02-.2 1.41-.59l7.78-7.78 2.81-2.81c.8-.78.8-2.07 0-2.86zM5.41 20L4 18.59l7.72-7.72 1.47 1.35L5.41 20z\"/>\n",
              "  </svg>\n",
              "      </button>\n",
              "      \n",
              "  <style>\n",
              "    .colab-df-container {\n",
              "      display:flex;\n",
              "      flex-wrap:wrap;\n",
              "      gap: 12px;\n",
              "    }\n",
              "\n",
              "    .colab-df-convert {\n",
              "      background-color: #E8F0FE;\n",
              "      border: none;\n",
              "      border-radius: 50%;\n",
              "      cursor: pointer;\n",
              "      display: none;\n",
              "      fill: #1967D2;\n",
              "      height: 32px;\n",
              "      padding: 0 0 0 0;\n",
              "      width: 32px;\n",
              "    }\n",
              "\n",
              "    .colab-df-convert:hover {\n",
              "      background-color: #E2EBFA;\n",
              "      box-shadow: 0px 1px 2px rgba(60, 64, 67, 0.3), 0px 1px 3px 1px rgba(60, 64, 67, 0.15);\n",
              "      fill: #174EA6;\n",
              "    }\n",
              "\n",
              "    [theme=dark] .colab-df-convert {\n",
              "      background-color: #3B4455;\n",
              "      fill: #D2E3FC;\n",
              "    }\n",
              "\n",
              "    [theme=dark] .colab-df-convert:hover {\n",
              "      background-color: #434B5C;\n",
              "      box-shadow: 0px 1px 3px 1px rgba(0, 0, 0, 0.15);\n",
              "      filter: drop-shadow(0px 1px 2px rgba(0, 0, 0, 0.3));\n",
              "      fill: #FFFFFF;\n",
              "    }\n",
              "  </style>\n",
              "\n",
              "      <script>\n",
              "        const buttonEl =\n",
              "          document.querySelector('#df-059d4e28-2b16-4a86-814c-af856e528053 button.colab-df-convert');\n",
              "        buttonEl.style.display =\n",
              "          google.colab.kernel.accessAllowed ? 'block' : 'none';\n",
              "\n",
              "        async function convertToInteractive(key) {\n",
              "          const element = document.querySelector('#df-059d4e28-2b16-4a86-814c-af856e528053');\n",
              "          const dataTable =\n",
              "            await google.colab.kernel.invokeFunction('convertToInteractive',\n",
              "                                                     [key], {});\n",
              "          if (!dataTable) return;\n",
              "\n",
              "          const docLinkHtml = 'Like what you see? Visit the ' +\n",
              "            '<a target=\"_blank\" href=https://colab.research.google.com/notebooks/data_table.ipynb>data table notebook</a>'\n",
              "            + ' to learn more about interactive tables.';\n",
              "          element.innerHTML = '';\n",
              "          dataTable['output_type'] = 'display_data';\n",
              "          await google.colab.output.renderOutput(dataTable, element);\n",
              "          const docLink = document.createElement('div');\n",
              "          docLink.innerHTML = docLinkHtml;\n",
              "          element.appendChild(docLink);\n",
              "        }\n",
              "      </script>\n",
              "    </div>\n",
              "  </div>\n",
              "  "
            ]
          },
          "metadata": {},
          "execution_count": 49
        }
      ]
    },
    {
      "cell_type": "code",
      "metadata": {
        "id": "9QzBOqE3lx6J"
      },
      "source": [
        "#Filling Nan of Publisher with others\n",
        "books.Publisher.fillna('other',inplace=True)"
      ],
      "execution_count": 50,
      "outputs": []
    },
    {
      "cell_type": "code",
      "metadata": {
        "colab": {
          "base_uri": "https://localhost:8080/",
          "height": 159
        },
        "id": "mgpSdzD_lx2T",
        "outputId": "3af26ecf-66e2-4a0e-80b5-f2705b363d2f"
      },
      "source": [
        "#exploring 'Book-Author' column\n",
        "books.loc[books['Book-Author'].isnull(),:]"
      ],
      "execution_count": 51,
      "outputs": [
        {
          "output_type": "execute_result",
          "data": {
            "text/plain": [
              "              ISBN                                         Book-Title  \\\n",
              "187689  9627982032  The Credit Suisse Guide to Managing Your Perso...   \n",
              "\n",
              "       Book-Author  Year-Of-Publication                       Publisher  \n",
              "187689         NaN               1995.0  Edinburgh Financial Publishing  "
            ],
            "text/html": [
              "\n",
              "  <div id=\"df-bcac2764-7926-41a5-9350-19104c64853e\">\n",
              "    <div class=\"colab-df-container\">\n",
              "      <div>\n",
              "<style scoped>\n",
              "    .dataframe tbody tr th:only-of-type {\n",
              "        vertical-align: middle;\n",
              "    }\n",
              "\n",
              "    .dataframe tbody tr th {\n",
              "        vertical-align: top;\n",
              "    }\n",
              "\n",
              "    .dataframe thead th {\n",
              "        text-align: right;\n",
              "    }\n",
              "</style>\n",
              "<table border=\"1\" class=\"dataframe\">\n",
              "  <thead>\n",
              "    <tr style=\"text-align: right;\">\n",
              "      <th></th>\n",
              "      <th>ISBN</th>\n",
              "      <th>Book-Title</th>\n",
              "      <th>Book-Author</th>\n",
              "      <th>Year-Of-Publication</th>\n",
              "      <th>Publisher</th>\n",
              "    </tr>\n",
              "  </thead>\n",
              "  <tbody>\n",
              "    <tr>\n",
              "      <th>187689</th>\n",
              "      <td>9627982032</td>\n",
              "      <td>The Credit Suisse Guide to Managing Your Perso...</td>\n",
              "      <td>NaN</td>\n",
              "      <td>1995.0</td>\n",
              "      <td>Edinburgh Financial Publishing</td>\n",
              "    </tr>\n",
              "  </tbody>\n",
              "</table>\n",
              "</div>\n",
              "      <button class=\"colab-df-convert\" onclick=\"convertToInteractive('df-bcac2764-7926-41a5-9350-19104c64853e')\"\n",
              "              title=\"Convert this dataframe to an interactive table.\"\n",
              "              style=\"display:none;\">\n",
              "        \n",
              "  <svg xmlns=\"http://www.w3.org/2000/svg\" height=\"24px\"viewBox=\"0 0 24 24\"\n",
              "       width=\"24px\">\n",
              "    <path d=\"M0 0h24v24H0V0z\" fill=\"none\"/>\n",
              "    <path d=\"M18.56 5.44l.94 2.06.94-2.06 2.06-.94-2.06-.94-.94-2.06-.94 2.06-2.06.94zm-11 1L8.5 8.5l.94-2.06 2.06-.94-2.06-.94L8.5 2.5l-.94 2.06-2.06.94zm10 10l.94 2.06.94-2.06 2.06-.94-2.06-.94-.94-2.06-.94 2.06-2.06.94z\"/><path d=\"M17.41 7.96l-1.37-1.37c-.4-.4-.92-.59-1.43-.59-.52 0-1.04.2-1.43.59L10.3 9.45l-7.72 7.72c-.78.78-.78 2.05 0 2.83L4 21.41c.39.39.9.59 1.41.59.51 0 1.02-.2 1.41-.59l7.78-7.78 2.81-2.81c.8-.78.8-2.07 0-2.86zM5.41 20L4 18.59l7.72-7.72 1.47 1.35L5.41 20z\"/>\n",
              "  </svg>\n",
              "      </button>\n",
              "      \n",
              "  <style>\n",
              "    .colab-df-container {\n",
              "      display:flex;\n",
              "      flex-wrap:wrap;\n",
              "      gap: 12px;\n",
              "    }\n",
              "\n",
              "    .colab-df-convert {\n",
              "      background-color: #E8F0FE;\n",
              "      border: none;\n",
              "      border-radius: 50%;\n",
              "      cursor: pointer;\n",
              "      display: none;\n",
              "      fill: #1967D2;\n",
              "      height: 32px;\n",
              "      padding: 0 0 0 0;\n",
              "      width: 32px;\n",
              "    }\n",
              "\n",
              "    .colab-df-convert:hover {\n",
              "      background-color: #E2EBFA;\n",
              "      box-shadow: 0px 1px 2px rgba(60, 64, 67, 0.3), 0px 1px 3px 1px rgba(60, 64, 67, 0.15);\n",
              "      fill: #174EA6;\n",
              "    }\n",
              "\n",
              "    [theme=dark] .colab-df-convert {\n",
              "      background-color: #3B4455;\n",
              "      fill: #D2E3FC;\n",
              "    }\n",
              "\n",
              "    [theme=dark] .colab-df-convert:hover {\n",
              "      background-color: #434B5C;\n",
              "      box-shadow: 0px 1px 3px 1px rgba(0, 0, 0, 0.15);\n",
              "      filter: drop-shadow(0px 1px 2px rgba(0, 0, 0, 0.3));\n",
              "      fill: #FFFFFF;\n",
              "    }\n",
              "  </style>\n",
              "\n",
              "      <script>\n",
              "        const buttonEl =\n",
              "          document.querySelector('#df-bcac2764-7926-41a5-9350-19104c64853e button.colab-df-convert');\n",
              "        buttonEl.style.display =\n",
              "          google.colab.kernel.accessAllowed ? 'block' : 'none';\n",
              "\n",
              "        async function convertToInteractive(key) {\n",
              "          const element = document.querySelector('#df-bcac2764-7926-41a5-9350-19104c64853e');\n",
              "          const dataTable =\n",
              "            await google.colab.kernel.invokeFunction('convertToInteractive',\n",
              "                                                     [key], {});\n",
              "          if (!dataTable) return;\n",
              "\n",
              "          const docLinkHtml = 'Like what you see? Visit the ' +\n",
              "            '<a target=\"_blank\" href=https://colab.research.google.com/notebooks/data_table.ipynb>data table notebook</a>'\n",
              "            + ' to learn more about interactive tables.';\n",
              "          element.innerHTML = '';\n",
              "          dataTable['output_type'] = 'display_data';\n",
              "          await google.colab.output.renderOutput(dataTable, element);\n",
              "          const docLink = document.createElement('div');\n",
              "          docLink.innerHTML = docLinkHtml;\n",
              "          element.appendChild(docLink);\n",
              "        }\n",
              "      </script>\n",
              "    </div>\n",
              "  </div>\n",
              "  "
            ]
          },
          "metadata": {},
          "execution_count": 51
        }
      ]
    },
    {
      "cell_type": "code",
      "metadata": {
        "id": "vkecS4zmlxw5"
      },
      "source": [
        "#Filling Nan of Book-Author with others\n",
        "books['Book-Author'].fillna('other',inplace=True)"
      ],
      "execution_count": 52,
      "outputs": []
    },
    {
      "cell_type": "code",
      "metadata": {
        "colab": {
          "base_uri": "https://localhost:8080/"
        },
        "id": "c11vvozulxtn",
        "outputId": "3ef40a6c-b800-45c4-c99d-952372735659"
      },
      "source": [
        "books.isna().sum()"
      ],
      "execution_count": 53,
      "outputs": [
        {
          "output_type": "execute_result",
          "data": {
            "text/plain": [
              "ISBN                   0\n",
              "Book-Title             0\n",
              "Book-Author            0\n",
              "Year-Of-Publication    0\n",
              "Publisher              0\n",
              "dtype: int64"
            ]
          },
          "metadata": {},
          "execution_count": 53
        }
      ]
    },
    {
      "cell_type": "markdown",
      "metadata": {
        "id": "ytU_9Zf5EFVu"
      },
      "source": [
        "#<font color='blue'>**3.)Ratings_Dataset**"
      ]
    },
    {
      "cell_type": "code",
      "metadata": {
        "colab": {
          "base_uri": "https://localhost:8080/",
          "height": 112
        },
        "id": "WoMdnzySEXIn",
        "outputId": "09e3499c-67f3-4fcf-b795-af4a0fe4806a"
      },
      "source": [
        "ratings.head(2)"
      ],
      "execution_count": 54,
      "outputs": [
        {
          "output_type": "execute_result",
          "data": {
            "text/plain": [
              "   User-ID        ISBN  Book-Rating\n",
              "0   276725  034545104X            0\n",
              "1   276726   155061224            5"
            ],
            "text/html": [
              "\n",
              "  <div id=\"df-53240ce5-cbf5-4320-858e-ee0685d11966\">\n",
              "    <div class=\"colab-df-container\">\n",
              "      <div>\n",
              "<style scoped>\n",
              "    .dataframe tbody tr th:only-of-type {\n",
              "        vertical-align: middle;\n",
              "    }\n",
              "\n",
              "    .dataframe tbody tr th {\n",
              "        vertical-align: top;\n",
              "    }\n",
              "\n",
              "    .dataframe thead th {\n",
              "        text-align: right;\n",
              "    }\n",
              "</style>\n",
              "<table border=\"1\" class=\"dataframe\">\n",
              "  <thead>\n",
              "    <tr style=\"text-align: right;\">\n",
              "      <th></th>\n",
              "      <th>User-ID</th>\n",
              "      <th>ISBN</th>\n",
              "      <th>Book-Rating</th>\n",
              "    </tr>\n",
              "  </thead>\n",
              "  <tbody>\n",
              "    <tr>\n",
              "      <th>0</th>\n",
              "      <td>276725</td>\n",
              "      <td>034545104X</td>\n",
              "      <td>0</td>\n",
              "    </tr>\n",
              "    <tr>\n",
              "      <th>1</th>\n",
              "      <td>276726</td>\n",
              "      <td>155061224</td>\n",
              "      <td>5</td>\n",
              "    </tr>\n",
              "  </tbody>\n",
              "</table>\n",
              "</div>\n",
              "      <button class=\"colab-df-convert\" onclick=\"convertToInteractive('df-53240ce5-cbf5-4320-858e-ee0685d11966')\"\n",
              "              title=\"Convert this dataframe to an interactive table.\"\n",
              "              style=\"display:none;\">\n",
              "        \n",
              "  <svg xmlns=\"http://www.w3.org/2000/svg\" height=\"24px\"viewBox=\"0 0 24 24\"\n",
              "       width=\"24px\">\n",
              "    <path d=\"M0 0h24v24H0V0z\" fill=\"none\"/>\n",
              "    <path d=\"M18.56 5.44l.94 2.06.94-2.06 2.06-.94-2.06-.94-.94-2.06-.94 2.06-2.06.94zm-11 1L8.5 8.5l.94-2.06 2.06-.94-2.06-.94L8.5 2.5l-.94 2.06-2.06.94zm10 10l.94 2.06.94-2.06 2.06-.94-2.06-.94-.94-2.06-.94 2.06-2.06.94z\"/><path d=\"M17.41 7.96l-1.37-1.37c-.4-.4-.92-.59-1.43-.59-.52 0-1.04.2-1.43.59L10.3 9.45l-7.72 7.72c-.78.78-.78 2.05 0 2.83L4 21.41c.39.39.9.59 1.41.59.51 0 1.02-.2 1.41-.59l7.78-7.78 2.81-2.81c.8-.78.8-2.07 0-2.86zM5.41 20L4 18.59l7.72-7.72 1.47 1.35L5.41 20z\"/>\n",
              "  </svg>\n",
              "      </button>\n",
              "      \n",
              "  <style>\n",
              "    .colab-df-container {\n",
              "      display:flex;\n",
              "      flex-wrap:wrap;\n",
              "      gap: 12px;\n",
              "    }\n",
              "\n",
              "    .colab-df-convert {\n",
              "      background-color: #E8F0FE;\n",
              "      border: none;\n",
              "      border-radius: 50%;\n",
              "      cursor: pointer;\n",
              "      display: none;\n",
              "      fill: #1967D2;\n",
              "      height: 32px;\n",
              "      padding: 0 0 0 0;\n",
              "      width: 32px;\n",
              "    }\n",
              "\n",
              "    .colab-df-convert:hover {\n",
              "      background-color: #E2EBFA;\n",
              "      box-shadow: 0px 1px 2px rgba(60, 64, 67, 0.3), 0px 1px 3px 1px rgba(60, 64, 67, 0.15);\n",
              "      fill: #174EA6;\n",
              "    }\n",
              "\n",
              "    [theme=dark] .colab-df-convert {\n",
              "      background-color: #3B4455;\n",
              "      fill: #D2E3FC;\n",
              "    }\n",
              "\n",
              "    [theme=dark] .colab-df-convert:hover {\n",
              "      background-color: #434B5C;\n",
              "      box-shadow: 0px 1px 3px 1px rgba(0, 0, 0, 0.15);\n",
              "      filter: drop-shadow(0px 1px 2px rgba(0, 0, 0, 0.3));\n",
              "      fill: #FFFFFF;\n",
              "    }\n",
              "  </style>\n",
              "\n",
              "      <script>\n",
              "        const buttonEl =\n",
              "          document.querySelector('#df-53240ce5-cbf5-4320-858e-ee0685d11966 button.colab-df-convert');\n",
              "        buttonEl.style.display =\n",
              "          google.colab.kernel.accessAllowed ? 'block' : 'none';\n",
              "\n",
              "        async function convertToInteractive(key) {\n",
              "          const element = document.querySelector('#df-53240ce5-cbf5-4320-858e-ee0685d11966');\n",
              "          const dataTable =\n",
              "            await google.colab.kernel.invokeFunction('convertToInteractive',\n",
              "                                                     [key], {});\n",
              "          if (!dataTable) return;\n",
              "\n",
              "          const docLinkHtml = 'Like what you see? Visit the ' +\n",
              "            '<a target=\"_blank\" href=https://colab.research.google.com/notebooks/data_table.ipynb>data table notebook</a>'\n",
              "            + ' to learn more about interactive tables.';\n",
              "          element.innerHTML = '';\n",
              "          dataTable['output_type'] = 'display_data';\n",
              "          await google.colab.output.renderOutput(dataTable, element);\n",
              "          const docLink = document.createElement('div');\n",
              "          docLink.innerHTML = docLinkHtml;\n",
              "          element.appendChild(docLink);\n",
              "        }\n",
              "      </script>\n",
              "    </div>\n",
              "  </div>\n",
              "  "
            ]
          },
          "metadata": {},
          "execution_count": 54
        }
      ]
    },
    {
      "cell_type": "markdown",
      "metadata": {
        "id": "4MNNf5WDGCRg"
      },
      "source": [
        "<font color='blue'>Ratings dataset should have books only which exist in our books dataset\n"
      ]
    },
    {
      "cell_type": "code",
      "metadata": {
        "colab": {
          "base_uri": "https://localhost:8080/"
        },
        "id": "zMoyBujZF2T6",
        "outputId": "e7eba9ae-f7d9-43c9-a595-06b176985335"
      },
      "source": [
        "ratings_new = ratings[ratings.ISBN.isin(books.ISBN)]\n",
        "ratings.shape,ratings_new.shape"
      ],
      "execution_count": 55,
      "outputs": [
        {
          "output_type": "execute_result",
          "data": {
            "text/plain": [
              "((1048575, 3), (179091, 3))"
            ]
          },
          "metadata": {},
          "execution_count": 55
        }
      ]
    },
    {
      "cell_type": "markdown",
      "metadata": {
        "id": "nVTmV38zGQDI"
      },
      "source": [
        "<font color='blue'>It can be seen that many rows having book ISBN not part of books dataset got dropped off"
      ]
    },
    {
      "cell_type": "markdown",
      "metadata": {
        "id": "anC0KA07GXtN"
      },
      "source": [
        "<font color=blue>Ratings dataset should have ratings from users which exist in users dataset.\n",
        "\n",
        "\n",
        "\n",
        "\n"
      ]
    },
    {
      "cell_type": "code",
      "metadata": {
        "colab": {
          "base_uri": "https://localhost:8080/"
        },
        "id": "7EQiTZnuF2RM",
        "outputId": "c64c7395-79fa-486f-a5af-eff0250908d9"
      },
      "source": [
        "print(\"Shape of dataset before dropping\",ratings_new.shape)\n",
        "ratings_new = ratings_new[ratings_new['User-ID'].isin(users['User-ID'])]\n",
        "print(\"shape of dataset after dropping\",ratings_new.shape)"
      ],
      "execution_count": 56,
      "outputs": [
        {
          "output_type": "stream",
          "name": "stdout",
          "text": [
            "Shape of dataset before dropping (179091, 3)\n",
            "shape of dataset after dropping (179091, 3)\n"
          ]
        }
      ]
    },
    {
      "cell_type": "markdown",
      "metadata": {
        "id": "94ou5dtuHcaC"
      },
      "source": [
        "<font color='blue'>It can be seen that no new user was there in ratings dataset."
      ]
    },
    {
      "cell_type": "markdown",
      "metadata": {
        "id": "FKakd-v2OCQ2"
      },
      "source": [
        "<font color='blue'>Let's see how the ratings are distributed"
      ]
    },
    {
      "cell_type": "code",
      "metadata": {
        "colab": {
          "base_uri": "https://localhost:8080/",
          "height": 334
        },
        "id": "5pWV7Qt_7NnY",
        "outputId": "5e749ebb-1581-4801-abf1-1a7c413cd484"
      },
      "source": [
        "plt.rc(\"font\", size=15)\n",
        "ratings_new['Book-Rating'].value_counts(sort=False).plot(kind='bar')\n",
        "plt.title('Rating Distribution\\n')\n",
        "plt.xlabel('Rating')\n",
        "plt.ylabel('Count')\n",
        "plt.show()"
      ],
      "execution_count": 57,
      "outputs": [
        {
          "output_type": "display_data",
          "data": {
            "text/plain": [
              "<Figure size 432x288 with 1 Axes>"
            ],
            "image/png": "[encoded data removed]"
          },
          "metadata": {
            "needs_background": "light"
          }
        }
      ]
    },
    {
      "cell_type": "markdown",
      "metadata": {
        "id": "kwiQ3ffuOsaK"
      },
      "source": [
        "<font color='blue'>The ratings are very unevenly distributed, and the vast majority of ratings are 0 .As quoted in the description of the dataset - BX-Book-Ratings contains the book rating information. Ratings are either explicit, expressed on a scale from 1-10 higher values denoting higher appreciation, or implicit, expressed by 0.Hence segragating implicit and explict ratings datasets"
      ]
    },
    {
      "cell_type": "code",
      "metadata": {
        "id": "SFmSfkTkH13T"
      },
      "source": [
        "#Hence segragating implicit and explict ratings datasets\n",
        "ratings_explicit = ratings_new[ratings_new['Book-Rating'] != 0]\n",
        "ratings_implicit = ratings_new[ratings_new['Book-Rating'] == 0]"
      ],
      "execution_count": 58,
      "outputs": []
    },
    {
      "cell_type": "code",
      "metadata": {
        "colab": {
          "base_uri": "https://localhost:8080/"
        },
        "id": "8M0OmJbOIG-K",
        "outputId": "454b0a8a-3aae-47d9-a578-a864105db9b1"
      },
      "source": [
        "print('ratings_explicit dataset shape',ratings_explicit.shape)\n",
        "print('ratings_implicit dataset',ratings_implicit.shape)"
      ],
      "execution_count": 59,
      "outputs": [
        {
          "output_type": "stream",
          "name": "stdout",
          "text": [
            "ratings_explicit dataset shape (73770, 3)\n",
            "ratings_implicit dataset (105321, 3)\n"
          ]
        }
      ]
    },
    {
      "cell_type": "code",
      "metadata": {
        "colab": {
          "base_uri": "https://localhost:8080/",
          "height": 554
        },
        "id": "JxKBrL2IIB4Z",
        "outputId": "3748d8db-3d51-4ee4-99c6-7a0c4c079e5e"
      },
      "source": [
        "plt.style.use('fivethirtyeight')\n",
        "plt.figure(figsize=(12, 8))\n",
        "sns.countplot(data=ratings_explicit , x='Book-Rating', palette='rocket_r')"
      ],
      "execution_count": 60,
      "outputs": [
        {
          "output_type": "execute_result",
          "data": {
            "text/plain": [
              "<matplotlib.axes._subplots.AxesSubplot at 0x7f7b38767e80>"
            ]
          },
          "metadata": {},
          "execution_count": 60
        },
        {
          "output_type": "display_data",
          "data": {
            "text/plain": [
              "<Figure size 864x576 with 1 Axes>"
            ],
            "image/png": "[encoded data removed]"
          },
          "metadata": {}
        }
      ]
    },
    {
      "cell_type": "markdown",
      "metadata": {
        "id": "PymNn2_aIklF"
      },
      "source": [
        "<font color='blue'>It can be observe that higher ratings are more common amongst users and rating 8 has been rated highest number of times"
      ]
    },
    {
      "cell_type": "markdown",
      "metadata": {
        "id": "kD-F8ZwkQ7Ep"
      },
      "source": [
        "<font color= 'blue'>Let's find the top 5 books which are rated by most number of users."
      ]
    },
    {
      "cell_type": "code",
      "metadata": {
        "colab": {
          "base_uri": "https://localhost:8080/",
          "height": 238
        },
        "id": "iZqU0NbxP0VS",
        "outputId": "f5e904d8-5fdb-41c8-93d2-539bb98ff94e"
      },
      "source": [
        "rating_count = pd.DataFrame(ratings_explicit.groupby('ISBN')['Book-Rating'].count())\n",
        "rating_count.sort_values('Book-Rating', ascending=False).head()"
      ],
      "execution_count": 61,
      "outputs": [
        {
          "output_type": "execute_result",
          "data": {
            "text/plain": [
              "            Book-Rating\n",
              "ISBN                   \n",
              "059035342X          285\n",
              "044023722X          259\n",
              "067976402X          232\n",
              "044021145X          197\n",
              "043935806X          189"
            ],
            "text/html": [
              "\n",
              "  <div id=\"df-8e35f340-5d3e-4c50-b3f9-968e34d9008e\">\n",
              "    <div class=\"colab-df-container\">\n",
              "      <div>\n",
              "<style scoped>\n",
              "    .dataframe tbody tr th:only-of-type {\n",
              "        vertical-align: middle;\n",
              "    }\n",
              "\n",
              "    .dataframe tbody tr th {\n",
              "        vertical-align: top;\n",
              "    }\n",
              "\n",
              "    .dataframe thead th {\n",
              "        text-align: right;\n",
              "    }\n",
              "</style>\n",
              "<table border=\"1\" class=\"dataframe\">\n",
              "  <thead>\n",
              "    <tr style=\"text-align: right;\">\n",
              "      <th></th>\n",
              "      <th>Book-Rating</th>\n",
              "    </tr>\n",
              "    <tr>\n",
              "      <th>ISBN</th>\n",
              "      <th></th>\n",
              "    </tr>\n",
              "  </thead>\n",
              "  <tbody>\n",
              "    <tr>\n",
              "      <th>059035342X</th>\n",
              "      <td>285</td>\n",
              "    </tr>\n",
              "    <tr>\n",
              "      <th>044023722X</th>\n",
              "      <td>259</td>\n",
              "    </tr>\n",
              "    <tr>\n",
              "      <th>067976402X</th>\n",
              "      <td>232</td>\n",
              "    </tr>\n",
              "    <tr>\n",
              "      <th>044021145X</th>\n",
              "      <td>197</td>\n",
              "    </tr>\n",
              "    <tr>\n",
              "      <th>043935806X</th>\n",
              "      <td>189</td>\n",
              "    </tr>\n",
              "  </tbody>\n",
              "</table>\n",
              "</div>\n",
              "      <button class=\"colab-df-convert\" onclick=\"convertToInteractive('df-8e35f340-5d3e-4c50-b3f9-968e34d9008e')\"\n",
              "              title=\"Convert this dataframe to an interactive table.\"\n",
              "              style=\"display:none;\">\n",
              "        \n",
              "  <svg xmlns=\"http://www.w3.org/2000/svg\" height=\"24px\"viewBox=\"0 0 24 24\"\n",
              "       width=\"24px\">\n",
              "    <path d=\"M0 0h24v24H0V0z\" fill=\"none\"/>\n",
              "    <path d=\"M18.56 5.44l.94 2.06.94-2.06 2.06-.94-2.06-.94-.94-2.06-.94 2.06-2.06.94zm-11 1L8.5 8.5l.94-2.06 2.06-.94-2.06-.94L8.5 2.5l-.94 2.06-2.06.94zm10 10l.94 2.06.94-2.06 2.06-.94-2.06-.94-.94-2.06-.94 2.06-2.06.94z\"/><path d=\"M17.41 7.96l-1.37-1.37c-.4-.4-.92-.59-1.43-.59-.52 0-1.04.2-1.43.59L10.3 9.45l-7.72 7.72c-.78.78-.78 2.05 0 2.83L4 21.41c.39.39.9.59 1.41.59.51 0 1.02-.2 1.41-.59l7.78-7.78 2.81-2.81c.8-.78.8-2.07 0-2.86zM5.41 20L4 18.59l7.72-7.72 1.47 1.35L5.41 20z\"/>\n",
              "  </svg>\n",
              "      </button>\n",
              "      \n",
              "  <style>\n",
              "    .colab-df-container {\n",
              "      display:flex;\n",
              "      flex-wrap:wrap;\n",
              "      gap: 12px;\n",
              "    }\n",
              "\n",
              "    .colab-df-convert {\n",
              "      background-color: #E8F0FE;\n",
              "      border: none;\n",
              "      border-radius: 50%;\n",
              "      cursor: pointer;\n",
              "      display: none;\n",
              "      fill: #1967D2;\n",
              "      height: 32px;\n",
              "      padding: 0 0 0 0;\n",
              "      width: 32px;\n",
              "    }\n",
              "\n",
              "    .colab-df-convert:hover {\n",
              "      background-color: #E2EBFA;\n",
              "      box-shadow: 0px 1px 2px rgba(60, 64, 67, 0.3), 0px 1px 3px 1px rgba(60, 64, 67, 0.15);\n",
              "      fill: #174EA6;\n",
              "    }\n",
              "\n",
              "    [theme=dark] .colab-df-convert {\n",
              "      background-color: #3B4455;\n",
              "      fill: #D2E3FC;\n",
              "    }\n",
              "\n",
              "    [theme=dark] .colab-df-convert:hover {\n",
              "      background-color: #434B5C;\n",
              "      box-shadow: 0px 1px 3px 1px rgba(0, 0, 0, 0.15);\n",
              "      filter: drop-shadow(0px 1px 2px rgba(0, 0, 0, 0.3));\n",
              "      fill: #FFFFFF;\n",
              "    }\n",
              "  </style>\n",
              "\n",
              "      <script>\n",
              "        const buttonEl =\n",
              "          document.querySelector('#df-8e35f340-5d3e-4c50-b3f9-968e34d9008e button.colab-df-convert');\n",
              "        buttonEl.style.display =\n",
              "          google.colab.kernel.accessAllowed ? 'block' : 'none';\n",
              "\n",
              "        async function convertToInteractive(key) {\n",
              "          const element = document.querySelector('#df-8e35f340-5d3e-4c50-b3f9-968e34d9008e');\n",
              "          const dataTable =\n",
              "            await google.colab.kernel.invokeFunction('convertToInteractive',\n",
              "                                                     [key], {});\n",
              "          if (!dataTable) return;\n",
              "\n",
              "          const docLinkHtml = 'Like what you see? Visit the ' +\n",
              "            '<a target=\"_blank\" href=https://colab.research.google.com/notebooks/data_table.ipynb>data table notebook</a>'\n",
              "            + ' to learn more about interactive tables.';\n",
              "          element.innerHTML = '';\n",
              "          dataTable['output_type'] = 'display_data';\n",
              "          await google.colab.output.renderOutput(dataTable, element);\n",
              "          const docLink = document.createElement('div');\n",
              "          docLink.innerHTML = docLinkHtml;\n",
              "          element.appendChild(docLink);\n",
              "        }\n",
              "      </script>\n",
              "    </div>\n",
              "  </div>\n",
              "  "
            ]
          },
          "metadata": {},
          "execution_count": 61
        }
      ]
    },
    {
      "cell_type": "markdown",
      "metadata": {
        "id": "wbV4o2fpRoc-"
      },
      "source": [
        "<font color= 'blue'>The book with ISBN '0316666343' received the most rating counts. Let’s find out what book it is, and what books are in the top 5."
      ]
    },
    {
      "cell_type": "code",
      "metadata": {
        "colab": {
          "base_uri": "https://localhost:8080/",
          "height": 206
        },
        "id": "PrkG35vhRa6A",
        "outputId": "b2d02093-122f-409f-c712-046d96522fa0"
      },
      "source": [
        "most_rated_books = pd.DataFrame(['0316666343', '0971880107', '0385504209', '0312195516', '0060928336'], index=np.arange(5), columns = ['ISBN'])\n",
        "most_rated_books_summary = pd.merge(most_rated_books, books, on='ISBN')\n",
        "most_rated_books_summary"
      ],
      "execution_count": 62,
      "outputs": [
        {
          "output_type": "execute_result",
          "data": {
            "text/plain": [
              "         ISBN                                       Book-Title    Book-Author  \\\n",
              "0  0316666343                        The Lovely Bones: A Novel   Alice Sebold   \n",
              "1  0971880107                                      Wild Animus   Rich Shapero   \n",
              "2  0385504209                                The Da Vinci Code      Dan Brown   \n",
              "3  0312195516              The Red Tent (Bestselling Backlist)  Anita Diamant   \n",
              "4  0060928336  Divine Secrets of the Ya-Ya Sisterhood: A Novel  Rebecca Wells   \n",
              "\n",
              "   Year-Of-Publication      Publisher  \n",
              "0               2002.0  Little, Brown  \n",
              "1               2004.0        Too Far  \n",
              "2               2003.0      Doubleday  \n",
              "3               1998.0    Picador USA  \n",
              "4               1997.0      Perennial  "
            ],
            "text/html": [
              "\n",
              "  <div id=\"df-19978dcb-8077-4bb3-9312-643a8d61150a\">\n",
              "    <div class=\"colab-df-container\">\n",
              "      <div>\n",
              "<style scoped>\n",
              "    .dataframe tbody tr th:only-of-type {\n",
              "        vertical-align: middle;\n",
              "    }\n",
              "\n",
              "    .dataframe tbody tr th {\n",
              "        vertical-align: top;\n",
              "    }\n",
              "\n",
              "    .dataframe thead th {\n",
              "        text-align: right;\n",
              "    }\n",
              "</style>\n",
              "<table border=\"1\" class=\"dataframe\">\n",
              "  <thead>\n",
              "    <tr style=\"text-align: right;\">\n",
              "      <th></th>\n",
              "      <th>ISBN</th>\n",
              "      <th>Book-Title</th>\n",
              "      <th>Book-Author</th>\n",
              "      <th>Year-Of-Publication</th>\n",
              "      <th>Publisher</th>\n",
              "    </tr>\n",
              "  </thead>\n",
              "  <tbody>\n",
              "    <tr>\n",
              "      <th>0</th>\n",
              "      <td>0316666343</td>\n",
              "      <td>The Lovely Bones: A Novel</td>\n",
              "      <td>Alice Sebold</td>\n",
              "      <td>2002.0</td>\n",
              "      <td>Little, Brown</td>\n",
              "    </tr>\n",
              "    <tr>\n",
              "      <th>1</th>\n",
              "      <td>0971880107</td>\n",
              "      <td>Wild Animus</td>\n",
              "      <td>Rich Shapero</td>\n",
              "      <td>2004.0</td>\n",
              "      <td>Too Far</td>\n",
              "    </tr>\n",
              "    <tr>\n",
              "      <th>2</th>\n",
              "      <td>0385504209</td>\n",
              "      <td>The Da Vinci Code</td>\n",
              "      <td>Dan Brown</td>\n",
              "      <td>2003.0</td>\n",
              "      <td>Doubleday</td>\n",
              "    </tr>\n",
              "    <tr>\n",
              "      <th>3</th>\n",
              "      <td>0312195516</td>\n",
              "      <td>The Red Tent (Bestselling Backlist)</td>\n",
              "      <td>Anita Diamant</td>\n",
              "      <td>1998.0</td>\n",
              "      <td>Picador USA</td>\n",
              "    </tr>\n",
              "    <tr>\n",
              "      <th>4</th>\n",
              "      <td>0060928336</td>\n",
              "      <td>Divine Secrets of the Ya-Ya Sisterhood: A Novel</td>\n",
              "      <td>Rebecca Wells</td>\n",
              "      <td>1997.0</td>\n",
              "      <td>Perennial</td>\n",
              "    </tr>\n",
              "  </tbody>\n",
              "</table>\n",
              "</div>\n",
              "      <button class=\"colab-df-convert\" onclick=\"convertToInteractive('df-19978dcb-8077-4bb3-9312-643a8d61150a')\"\n",
              "              title=\"Convert this dataframe to an interactive table.\"\n",
              "              style=\"display:none;\">\n",
              "        \n",
              "  <svg xmlns=\"http://www.w3.org/2000/svg\" height=\"24px\"viewBox=\"0 0 24 24\"\n",
              "       width=\"24px\">\n",
              "    <path d=\"M0 0h24v24H0V0z\" fill=\"none\"/>\n",
              "    <path d=\"M18.56 5.44l.94 2.06.94-2.06 2.06-.94-2.06-.94-.94-2.06-.94 2.06-2.06.94zm-11 1L8.5 8.5l.94-2.06 2.06-.94-2.06-.94L8.5 2.5l-.94 2.06-2.06.94zm10 10l.94 2.06.94-2.06 2.06-.94-2.06-.94-.94-2.06-.94 2.06-2.06.94z\"/><path d=\"M17.41 7.96l-1.37-1.37c-.4-.4-.92-.59-1.43-.59-.52 0-1.04.2-1.43.59L10.3 9.45l-7.72 7.72c-.78.78-.78 2.05 0 2.83L4 21.41c.39.39.9.59 1.41.59.51 0 1.02-.2 1.41-.59l7.78-7.78 2.81-2.81c.8-.78.8-2.07 0-2.86zM5.41 20L4 18.59l7.72-7.72 1.47 1.35L5.41 20z\"/>\n",
              "  </svg>\n",
              "      </button>\n",
              "      \n",
              "  <style>\n",
              "    .colab-df-container {\n",
              "      display:flex;\n",
              "      flex-wrap:wrap;\n",
              "      gap: 12px;\n",
              "    }\n",
              "\n",
              "    .colab-df-convert {\n",
              "      background-color: #E8F0FE;\n",
              "      border: none;\n",
              "      border-radius: 50%;\n",
              "      cursor: pointer;\n",
              "      display: none;\n",
              "      fill: #1967D2;\n",
              "      height: 32px;\n",
              "      padding: 0 0 0 0;\n",
              "      width: 32px;\n",
              "    }\n",
              "\n",
              "    .colab-df-convert:hover {\n",
              "      background-color: #E2EBFA;\n",
              "      box-shadow: 0px 1px 2px rgba(60, 64, 67, 0.3), 0px 1px 3px 1px rgba(60, 64, 67, 0.15);\n",
              "      fill: #174EA6;\n",
              "    }\n",
              "\n",
              "    [theme=dark] .colab-df-convert {\n",
              "      background-color: #3B4455;\n",
              "      fill: #D2E3FC;\n",
              "    }\n",
              "\n",
              "    [theme=dark] .colab-df-convert:hover {\n",
              "      background-color: #434B5C;\n",
              "      box-shadow: 0px 1px 3px 1px rgba(0, 0, 0, 0.15);\n",
              "      filter: drop-shadow(0px 1px 2px rgba(0, 0, 0, 0.3));\n",
              "      fill: #FFFFFF;\n",
              "    }\n",
              "  </style>\n",
              "\n",
              "      <script>\n",
              "        const buttonEl =\n",
              "          document.querySelector('#df-19978dcb-8077-4bb3-9312-643a8d61150a button.colab-df-convert');\n",
              "        buttonEl.style.display =\n",
              "          google.colab.kernel.accessAllowed ? 'block' : 'none';\n",
              "\n",
              "        async function convertToInteractive(key) {\n",
              "          const element = document.querySelector('#df-19978dcb-8077-4bb3-9312-643a8d61150a');\n",
              "          const dataTable =\n",
              "            await google.colab.kernel.invokeFunction('convertToInteractive',\n",
              "                                                     [key], {});\n",
              "          if (!dataTable) return;\n",
              "\n",
              "          const docLinkHtml = 'Like what you see? Visit the ' +\n",
              "            '<a target=\"_blank\" href=https://colab.research.google.com/notebooks/data_table.ipynb>data table notebook</a>'\n",
              "            + ' to learn more about interactive tables.';\n",
              "          element.innerHTML = '';\n",
              "          dataTable['output_type'] = 'display_data';\n",
              "          await google.colab.output.renderOutput(dataTable, element);\n",
              "          const docLink = document.createElement('div');\n",
              "          docLink.innerHTML = docLinkHtml;\n",
              "          element.appendChild(docLink);\n",
              "        }\n",
              "      </script>\n",
              "    </div>\n",
              "  </div>\n",
              "  "
            ]
          },
          "metadata": {},
          "execution_count": 62
        }
      ]
    },
    {
      "cell_type": "markdown",
      "metadata": {
        "id": "gFtohgsdSEdF"
      },
      "source": [
        "<font color= 'blue'>The book that received the most rating counts in this data set is Rich Shapero’s “Wild Animus”. And there is something in common among these five books that received the most rating counts — they are all novels. So it is conclusive that novels are popular and likely receive more ratings. "
      ]
    },
    {
      "cell_type": "code",
      "metadata": {
        "id": "oddq5J1BPr_0"
      },
      "source": [
        "# Create column Rating average \n",
        "ratings_explicit['Avg_Rating']=ratings_explicit.groupby('ISBN')['Book-Rating'].transform('mean')\n",
        "# Create column Rating sum\n",
        "ratings_explicit['Total_No_Of_Users_Rated']=ratings_explicit.groupby('ISBN')['Book-Rating'].transform('count')"
      ],
      "execution_count": 63,
      "outputs": []
    },
    {
      "cell_type": "code",
      "metadata": {
        "colab": {
          "base_uri": "https://localhost:8080/",
          "height": 206
        },
        "id": "S9M5T3_sVHm9",
        "outputId": "4e1a2f8e-5ea5-462a-8678-69c371f1402f"
      },
      "source": [
        "ratings_explicit.head()"
      ],
      "execution_count": 64,
      "outputs": [
        {
          "output_type": "execute_result",
          "data": {
            "text/plain": [
              "    User-ID        ISBN  Book-Rating  Avg_Rating  Total_No_Of_Users_Rated\n",
              "3    276729  052165615X            3    3.000000                        1\n",
              "8    276744  038550120X            7    7.541667                       72\n",
              "23   276747  1885408226            7    7.000000                        1\n",
              "27   276751  3596218098            8    8.000000                        1\n",
              "44   276762  3453092007            8    8.000000                        3"
            ],
            "text/html": [
              "\n",
              "  <div id=\"df-46d5b9e8-0002-441e-8aaa-51ddd50e925f\">\n",
              "    <div class=\"colab-df-container\">\n",
              "      <div>\n",
              "<style scoped>\n",
              "    .dataframe tbody tr th:only-of-type {\n",
              "        vertical-align: middle;\n",
              "    }\n",
              "\n",
              "    .dataframe tbody tr th {\n",
              "        vertical-align: top;\n",
              "    }\n",
              "\n",
              "    .dataframe thead th {\n",
              "        text-align: right;\n",
              "    }\n",
              "</style>\n",
              "<table border=\"1\" class=\"dataframe\">\n",
              "  <thead>\n",
              "    <tr style=\"text-align: right;\">\n",
              "      <th></th>\n",
              "      <th>User-ID</th>\n",
              "      <th>ISBN</th>\n",
              "      <th>Book-Rating</th>\n",
              "      <th>Avg_Rating</th>\n",
              "      <th>Total_No_Of_Users_Rated</th>\n",
              "    </tr>\n",
              "  </thead>\n",
              "  <tbody>\n",
              "    <tr>\n",
              "      <th>3</th>\n",
              "      <td>276729</td>\n",
              "      <td>052165615X</td>\n",
              "      <td>3</td>\n",
              "      <td>3.000000</td>\n",
              "      <td>1</td>\n",
              "    </tr>\n",
              "    <tr>\n",
              "      <th>8</th>\n",
              "      <td>276744</td>\n",
              "      <td>038550120X</td>\n",
              "      <td>7</td>\n",
              "      <td>7.541667</td>\n",
              "      <td>72</td>\n",
              "    </tr>\n",
              "    <tr>\n",
              "      <th>23</th>\n",
              "      <td>276747</td>\n",
              "      <td>1885408226</td>\n",
              "      <td>7</td>\n",
              "      <td>7.000000</td>\n",
              "      <td>1</td>\n",
              "    </tr>\n",
              "    <tr>\n",
              "      <th>27</th>\n",
              "      <td>276751</td>\n",
              "      <td>3596218098</td>\n",
              "      <td>8</td>\n",
              "      <td>8.000000</td>\n",
              "      <td>1</td>\n",
              "    </tr>\n",
              "    <tr>\n",
              "      <th>44</th>\n",
              "      <td>276762</td>\n",
              "      <td>3453092007</td>\n",
              "      <td>8</td>\n",
              "      <td>8.000000</td>\n",
              "      <td>3</td>\n",
              "    </tr>\n",
              "  </tbody>\n",
              "</table>\n",
              "</div>\n",
              "      <button class=\"colab-df-convert\" onclick=\"convertToInteractive('df-46d5b9e8-0002-441e-8aaa-51ddd50e925f')\"\n",
              "              title=\"Convert this dataframe to an interactive table.\"\n",
              "              style=\"display:none;\">\n",
              "        \n",
              "  <svg xmlns=\"http://www.w3.org/2000/svg\" height=\"24px\"viewBox=\"0 0 24 24\"\n",
              "       width=\"24px\">\n",
              "    <path d=\"M0 0h24v24H0V0z\" fill=\"none\"/>\n",
              "    <path d=\"M18.56 5.44l.94 2.06.94-2.06 2.06-.94-2.06-.94-.94-2.06-.94 2.06-2.06.94zm-11 1L8.5 8.5l.94-2.06 2.06-.94-2.06-.94L8.5 2.5l-.94 2.06-2.06.94zm10 10l.94 2.06.94-2.06 2.06-.94-2.06-.94-.94-2.06-.94 2.06-2.06.94z\"/><path d=\"M17.41 7.96l-1.37-1.37c-.4-.4-.92-.59-1.43-.59-.52 0-1.04.2-1.43.59L10.3 9.45l-7.72 7.72c-.78.78-.78 2.05 0 2.83L4 21.41c.39.39.9.59 1.41.59.51 0 1.02-.2 1.41-.59l7.78-7.78 2.81-2.81c.8-.78.8-2.07 0-2.86zM5.41 20L4 18.59l7.72-7.72 1.47 1.35L5.41 20z\"/>\n",
              "  </svg>\n",
              "      </button>\n",
              "      \n",
              "  <style>\n",
              "    .colab-df-container {\n",
              "      display:flex;\n",
              "      flex-wrap:wrap;\n",
              "      gap: 12px;\n",
              "    }\n",
              "\n",
              "    .colab-df-convert {\n",
              "      background-color: #E8F0FE;\n",
              "      border: none;\n",
              "      border-radius: 50%;\n",
              "      cursor: pointer;\n",
              "      display: none;\n",
              "      fill: #1967D2;\n",
              "      height: 32px;\n",
              "      padding: 0 0 0 0;\n",
              "      width: 32px;\n",
              "    }\n",
              "\n",
              "    .colab-df-convert:hover {\n",
              "      background-color: #E2EBFA;\n",
              "      box-shadow: 0px 1px 2px rgba(60, 64, 67, 0.3), 0px 1px 3px 1px rgba(60, 64, 67, 0.15);\n",
              "      fill: #174EA6;\n",
              "    }\n",
              "\n",
              "    [theme=dark] .colab-df-convert {\n",
              "      background-color: #3B4455;\n",
              "      fill: #D2E3FC;\n",
              "    }\n",
              "\n",
              "    [theme=dark] .colab-df-convert:hover {\n",
              "      background-color: #434B5C;\n",
              "      box-shadow: 0px 1px 3px 1px rgba(0, 0, 0, 0.15);\n",
              "      filter: drop-shadow(0px 1px 2px rgba(0, 0, 0, 0.3));\n",
              "      fill: #FFFFFF;\n",
              "    }\n",
              "  </style>\n",
              "\n",
              "      <script>\n",
              "        const buttonEl =\n",
              "          document.querySelector('#df-46d5b9e8-0002-441e-8aaa-51ddd50e925f button.colab-df-convert');\n",
              "        buttonEl.style.display =\n",
              "          google.colab.kernel.accessAllowed ? 'block' : 'none';\n",
              "\n",
              "        async function convertToInteractive(key) {\n",
              "          const element = document.querySelector('#df-46d5b9e8-0002-441e-8aaa-51ddd50e925f');\n",
              "          const dataTable =\n",
              "            await google.colab.kernel.invokeFunction('convertToInteractive',\n",
              "                                                     [key], {});\n",
              "          if (!dataTable) return;\n",
              "\n",
              "          const docLinkHtml = 'Like what you see? Visit the ' +\n",
              "            '<a target=\"_blank\" href=https://colab.research.google.com/notebooks/data_table.ipynb>data table notebook</a>'\n",
              "            + ' to learn more about interactive tables.';\n",
              "          element.innerHTML = '';\n",
              "          dataTable['output_type'] = 'display_data';\n",
              "          await google.colab.output.renderOutput(dataTable, element);\n",
              "          const docLink = document.createElement('div');\n",
              "          docLink.innerHTML = docLinkHtml;\n",
              "          element.appendChild(docLink);\n",
              "        }\n",
              "      </script>\n",
              "    </div>\n",
              "  </div>\n",
              "  "
            ]
          },
          "metadata": {},
          "execution_count": 64
        }
      ]
    },
    {
      "cell_type": "markdown",
      "metadata": {
        "id": "CUiTUHu02X92"
      },
      "source": [
        "####<font color='blue'>**Merging All Dataset.**"
      ]
    },
    {
      "cell_type": "code",
      "metadata": {
        "id": "H2M_3V7aVKKP"
      },
      "source": [
        "Final_Dataset=users.copy()\n",
        "Final_Dataset=pd.merge(Final_Dataset,ratings_explicit,on='User-ID')\n",
        "Final_Dataset=pd.merge(Final_Dataset,books,on='ISBN')"
      ],
      "execution_count": 65,
      "outputs": []
    },
    {
      "cell_type": "code",
      "metadata": {
        "colab": {
          "base_uri": "https://localhost:8080/",
          "height": 583
        },
        "id": "PR32GncBV6Jx",
        "outputId": "fa21ae17-cba8-41f7-bbb6-9d00010188c0"
      },
      "source": [
        "Final_Dataset.head()"
      ],
      "execution_count": 66,
      "outputs": [
        {
          "output_type": "execute_result",
          "data": {
            "text/plain": [
              "   User-ID   Age Country        ISBN  Book-Rating  Avg_Rating  \\\n",
              "0        8  33.0  canada  074322678X            5         5.0   \n",
              "1        8  33.0  canada  1552041778            5         5.0   \n",
              "2        8  33.0  canada  1567407781            6         6.0   \n",
              "3        8  33.0  canada  1575663937            6         6.0   \n",
              "4        8  33.0  canada  1881320189            7         7.0   \n",
              "\n",
              "   Total_No_Of_Users_Rated                                         Book-Title  \\\n",
              "0                        1            Where You'll Find Me: And Other Stories   \n",
              "1                        1                                           Jane Doe   \n",
              "2                        1       The Witchfinder (Amos Walker Mystery Series)   \n",
              "3                        1  More Cunning Than Man: A Social History of Rat...   \n",
              "4                        2                      Goodbye to the Buttermilk Sky   \n",
              "\n",
              "          Book-Author  Year-Of-Publication                    Publisher  \n",
              "0         Ann Beattie               2002.0                     Scribner  \n",
              "1        R. J. Kaiser               1999.0                   Mira Books  \n",
              "2   Loren D. Estleman               1998.0     Brilliance Audio - Trade  \n",
              "3  Robert Hendrickson               1999.0  Kensington Publishing Corp.  \n",
              "4        Julia Oliver               1994.0               River City Pub  "
            ],
            "text/html": [
              "\n",
              "  <div id=\"df-b604103d-4e3e-45eb-9526-263dc4941e5d\">\n",
              "    <div class=\"colab-df-container\">\n",
              "      <div>\n",
              "<style scoped>\n",
              "    .dataframe tbody tr th:only-of-type {\n",
              "        vertical-align: middle;\n",
              "    }\n",
              "\n",
              "    .dataframe tbody tr th {\n",
              "        vertical-align: top;\n",
              "    }\n",
              "\n",
              "    .dataframe thead th {\n",
              "        text-align: right;\n",
              "    }\n",
              "</style>\n",
              "<table border=\"1\" class=\"dataframe\">\n",
              "  <thead>\n",
              "    <tr style=\"text-align: right;\">\n",
              "      <th></th>\n",
              "      <th>User-ID</th>\n",
              "      <th>Age</th>\n",
              "      <th>Country</th>\n",
              "      <th>ISBN</th>\n",
              "      <th>Book-Rating</th>\n",
              "      <th>Avg_Rating</th>\n",
              "      <th>Total_No_Of_Users_Rated</th>\n",
              "      <th>Book-Title</th>\n",
              "      <th>Book-Author</th>\n",
              "      <th>Year-Of-Publication</th>\n",
              "      <th>Publisher</th>\n",
              "    </tr>\n",
              "  </thead>\n",
              "  <tbody>\n",
              "    <tr>\n",
              "      <th>0</th>\n",
              "      <td>8</td>\n",
              "      <td>33.0</td>\n",
              "      <td>canada</td>\n",
              "      <td>074322678X</td>\n",
              "      <td>5</td>\n",
              "      <td>5.0</td>\n",
              "      <td>1</td>\n",
              "      <td>Where You'll Find Me: And Other Stories</td>\n",
              "      <td>Ann Beattie</td>\n",
              "      <td>2002.0</td>\n",
              "      <td>Scribner</td>\n",
              "    </tr>\n",
              "    <tr>\n",
              "      <th>1</th>\n",
              "      <td>8</td>\n",
              "      <td>33.0</td>\n",
              "      <td>canada</td>\n",
              "      <td>1552041778</td>\n",
              "      <td>5</td>\n",
              "      <td>5.0</td>\n",
              "      <td>1</td>\n",
              "      <td>Jane Doe</td>\n",
              "      <td>R. J. Kaiser</td>\n",
              "      <td>1999.0</td>\n",
              "      <td>Mira Books</td>\n",
              "    </tr>\n",
              "    <tr>\n",
              "      <th>2</th>\n",
              "      <td>8</td>\n",
              "      <td>33.0</td>\n",
              "      <td>canada</td>\n",
              "      <td>1567407781</td>\n",
              "      <td>6</td>\n",
              "      <td>6.0</td>\n",
              "      <td>1</td>\n",
              "      <td>The Witchfinder (Amos Walker Mystery Series)</td>\n",
              "      <td>Loren D. Estleman</td>\n",
              "      <td>1998.0</td>\n",
              "      <td>Brilliance Audio - Trade</td>\n",
              "    </tr>\n",
              "    <tr>\n",
              "      <th>3</th>\n",
              "      <td>8</td>\n",
              "      <td>33.0</td>\n",
              "      <td>canada</td>\n",
              "      <td>1575663937</td>\n",
              "      <td>6</td>\n",
              "      <td>6.0</td>\n",
              "      <td>1</td>\n",
              "      <td>More Cunning Than Man: A Social History of Rat...</td>\n",
              "      <td>Robert Hendrickson</td>\n",
              "      <td>1999.0</td>\n",
              "      <td>Kensington Publishing Corp.</td>\n",
              "    </tr>\n",
              "    <tr>\n",
              "      <th>4</th>\n",
              "      <td>8</td>\n",
              "      <td>33.0</td>\n",
              "      <td>canada</td>\n",
              "      <td>1881320189</td>\n",
              "      <td>7</td>\n",
              "      <td>7.0</td>\n",
              "      <td>2</td>\n",
              "      <td>Goodbye to the Buttermilk Sky</td>\n",
              "      <td>Julia Oliver</td>\n",
              "      <td>1994.0</td>\n",
              "      <td>River City Pub</td>\n",
              "    </tr>\n",
              "  </tbody>\n",
              "</table>\n",
              "</div>\n",
              "      <button class=\"colab-df-convert\" onclick=\"convertToInteractive('df-b604103d-4e3e-45eb-9526-263dc4941e5d')\"\n",
              "              title=\"Convert this dataframe to an interactive table.\"\n",
              "              style=\"display:none;\">\n",
              "        \n",
              "  <svg xmlns=\"http://www.w3.org/2000/svg\" height=\"24px\"viewBox=\"0 0 24 24\"\n",
              "       width=\"24px\">\n",
              "    <path d=\"M0 0h24v24H0V0z\" fill=\"none\"/>\n",
              "    <path d=\"M18.56 5.44l.94 2.06.94-2.06 2.06-.94-2.06-.94-.94-2.06-.94 2.06-2.06.94zm-11 1L8.5 8.5l.94-2.06 2.06-.94-2.06-.94L8.5 2.5l-.94 2.06-2.06.94zm10 10l.94 2.06.94-2.06 2.06-.94-2.06-.94-.94-2.06-.94 2.06-2.06.94z\"/><path d=\"M17.41 7.96l-1.37-1.37c-.4-.4-.92-.59-1.43-.59-.52 0-1.04.2-1.43.59L10.3 9.45l-7.72 7.72c-.78.78-.78 2.05 0 2.83L4 21.41c.39.39.9.59 1.41.59.51 0 1.02-.2 1.41-.59l7.78-7.78 2.81-2.81c.8-.78.8-2.07 0-2.86zM5.41 20L4 18.59l7.72-7.72 1.47 1.35L5.41 20z\"/>\n",
              "  </svg>\n",
              "      </button>\n",
              "      \n",
              "  <style>\n",
              "    .colab-df-container {\n",
              "      display:flex;\n",
              "      flex-wrap:wrap;\n",
              "      gap: 12px;\n",
              "    }\n",
              "\n",
              "    .colab-df-convert {\n",
              "      background-color: #E8F0FE;\n",
              "      border: none;\n",
              "      border-radius: 50%;\n",
              "      cursor: pointer;\n",
              "      display: none;\n",
              "      fill: #1967D2;\n",
              "      height: 32px;\n",
              "      padding: 0 0 0 0;\n",
              "      width: 32px;\n",
              "    }\n",
              "\n",
              "    .colab-df-convert:hover {\n",
              "      background-color: #E2EBFA;\n",
              "      box-shadow: 0px 1px 2px rgba(60, 64, 67, 0.3), 0px 1px 3px 1px rgba(60, 64, 67, 0.15);\n",
              "      fill: #174EA6;\n",
              "    }\n",
              "\n",
              "    [theme=dark] .colab-df-convert {\n",
              "      background-color: #3B4455;\n",
              "      fill: #D2E3FC;\n",
              "    }\n",
              "\n",
              "    [theme=dark] .colab-df-convert:hover {\n",
              "      background-color: #434B5C;\n",
              "      box-shadow: 0px 1px 3px 1px rgba(0, 0, 0, 0.15);\n",
              "      filter: drop-shadow(0px 1px 2px rgba(0, 0, 0, 0.3));\n",
              "      fill: #FFFFFF;\n",
              "    }\n",
              "  </style>\n",
              "\n",
              "      <script>\n",
              "        const buttonEl =\n",
              "          document.querySelector('#df-b604103d-4e3e-45eb-9526-263dc4941e5d button.colab-df-convert');\n",
              "        buttonEl.style.display =\n",
              "          google.colab.kernel.accessAllowed ? 'block' : 'none';\n",
              "\n",
              "        async function convertToInteractive(key) {\n",
              "          const element = document.querySelector('#df-b604103d-4e3e-45eb-9526-263dc4941e5d');\n",
              "          const dataTable =\n",
              "            await google.colab.kernel.invokeFunction('convertToInteractive',\n",
              "                                                     [key], {});\n",
              "          if (!dataTable) return;\n",
              "\n",
              "          const docLinkHtml = 'Like what you see? Visit the ' +\n",
              "            '<a target=\"_blank\" href=https://colab.research.google.com/notebooks/data_table.ipynb>data table notebook</a>'\n",
              "            + ' to learn more about interactive tables.';\n",
              "          element.innerHTML = '';\n",
              "          dataTable['output_type'] = 'display_data';\n",
              "          await google.colab.output.renderOutput(dataTable, element);\n",
              "          const docLink = document.createElement('div');\n",
              "          docLink.innerHTML = docLinkHtml;\n",
              "          element.appendChild(docLink);\n",
              "        }\n",
              "      </script>\n",
              "    </div>\n",
              "  </div>\n",
              "  "
            ]
          },
          "metadata": {},
          "execution_count": 66
        }
      ]
    },
    {
      "cell_type": "code",
      "metadata": {
        "colab": {
          "base_uri": "https://localhost:8080/",
          "height": 394
        },
        "id": "A4-iV-E8WIKB",
        "outputId": "afb6586c-471a-48e7-dd70-fe406e04a01f"
      },
      "source": [
        "missing_values(Final_Dataset)"
      ],
      "execution_count": 67,
      "outputs": [
        {
          "output_type": "execute_result",
          "data": {
            "text/plain": [
              "                      index  Missing Values  % of Total Values Data_type\n",
              "0                   User-ID               0                0.0     int64\n",
              "1                       Age               0                0.0   float64\n",
              "2                   Country               0                0.0    object\n",
              "3                      ISBN               0                0.0    object\n",
              "4               Book-Rating               0                0.0     int64\n",
              "5                Avg_Rating               0                0.0   float64\n",
              "6   Total_No_Of_Users_Rated               0                0.0     int64\n",
              "7                Book-Title               0                0.0    object\n",
              "8               Book-Author               0                0.0    object\n",
              "9       Year-Of-Publication               0                0.0   float64\n",
              "10                Publisher               0                0.0    object"
            ],
            "text/html": [
              "\n",
              "  <div id=\"df-451db3c2-a49c-4e10-810e-1d93e2c418bc\">\n",
              "    <div class=\"colab-df-container\">\n",
              "      <div>\n",
              "<style scoped>\n",
              "    .dataframe tbody tr th:only-of-type {\n",
              "        vertical-align: middle;\n",
              "    }\n",
              "\n",
              "    .dataframe tbody tr th {\n",
              "        vertical-align: top;\n",
              "    }\n",
              "\n",
              "    .dataframe thead th {\n",
              "        text-align: right;\n",
              "    }\n",
              "</style>\n",
              "<table border=\"1\" class=\"dataframe\">\n",
              "  <thead>\n",
              "    <tr style=\"text-align: right;\">\n",
              "      <th></th>\n",
              "      <th>index</th>\n",
              "      <th>Missing Values</th>\n",
              "      <th>% of Total Values</th>\n",
              "      <th>Data_type</th>\n",
              "    </tr>\n",
              "  </thead>\n",
              "  <tbody>\n",
              "    <tr>\n",
              "      <th>0</th>\n",
              "      <td>User-ID</td>\n",
              "      <td>0</td>\n",
              "      <td>0.0</td>\n",
              "      <td>int64</td>\n",
              "    </tr>\n",
              "    <tr>\n",
              "      <th>1</th>\n",
              "      <td>Age</td>\n",
              "      <td>0</td>\n",
              "      <td>0.0</td>\n",
              "      <td>float64</td>\n",
              "    </tr>\n",
              "    <tr>\n",
              "      <th>2</th>\n",
              "      <td>Country</td>\n",
              "      <td>0</td>\n",
              "      <td>0.0</td>\n",
              "      <td>object</td>\n",
              "    </tr>\n",
              "    <tr>\n",
              "      <th>3</th>\n",
              "      <td>ISBN</td>\n",
              "      <td>0</td>\n",
              "      <td>0.0</td>\n",
              "      <td>object</td>\n",
              "    </tr>\n",
              "    <tr>\n",
              "      <th>4</th>\n",
              "      <td>Book-Rating</td>\n",
              "      <td>0</td>\n",
              "      <td>0.0</td>\n",
              "      <td>int64</td>\n",
              "    </tr>\n",
              "    <tr>\n",
              "      <th>5</th>\n",
              "      <td>Avg_Rating</td>\n",
              "      <td>0</td>\n",
              "      <td>0.0</td>\n",
              "      <td>float64</td>\n",
              "    </tr>\n",
              "    <tr>\n",
              "      <th>6</th>\n",
              "      <td>Total_No_Of_Users_Rated</td>\n",
              "      <td>0</td>\n",
              "      <td>0.0</td>\n",
              "      <td>int64</td>\n",
              "    </tr>\n",
              "    <tr>\n",
              "      <th>7</th>\n",
              "      <td>Book-Title</td>\n",
              "      <td>0</td>\n",
              "      <td>0.0</td>\n",
              "      <td>object</td>\n",
              "    </tr>\n",
              "    <tr>\n",
              "      <th>8</th>\n",
              "      <td>Book-Author</td>\n",
              "      <td>0</td>\n",
              "      <td>0.0</td>\n",
              "      <td>object</td>\n",
              "    </tr>\n",
              "    <tr>\n",
              "      <th>9</th>\n",
              "      <td>Year-Of-Publication</td>\n",
              "      <td>0</td>\n",
              "      <td>0.0</td>\n",
              "      <td>float64</td>\n",
              "    </tr>\n",
              "    <tr>\n",
              "      <th>10</th>\n",
              "      <td>Publisher</td>\n",
              "      <td>0</td>\n",
              "      <td>0.0</td>\n",
              "      <td>object</td>\n",
              "    </tr>\n",
              "  </tbody>\n",
              "</table>\n",
              "</div>\n",
              "      <button class=\"colab-df-convert\" onclick=\"convertToInteractive('df-451db3c2-a49c-4e10-810e-1d93e2c418bc')\"\n",
              "              title=\"Convert this dataframe to an interactive table.\"\n",
              "              style=\"display:none;\">\n",
              "        \n",
              "  <svg xmlns=\"http://www.w3.org/2000/svg\" height=\"24px\"viewBox=\"0 0 24 24\"\n",
              "       width=\"24px\">\n",
              "    <path d=\"M0 0h24v24H0V0z\" fill=\"none\"/>\n",
              "    <path d=\"M18.56 5.44l.94 2.06.94-2.06 2.06-.94-2.06-.94-.94-2.06-.94 2.06-2.06.94zm-11 1L8.5 8.5l.94-2.06 2.06-.94-2.06-.94L8.5 2.5l-.94 2.06-2.06.94zm10 10l.94 2.06.94-2.06 2.06-.94-2.06-.94-.94-2.06-.94 2.06-2.06.94z\"/><path d=\"M17.41 7.96l-1.37-1.37c-.4-.4-.92-.59-1.43-.59-.52 0-1.04.2-1.43.59L10.3 9.45l-7.72 7.72c-.78.78-.78 2.05 0 2.83L4 21.41c.39.39.9.59 1.41.59.51 0 1.02-.2 1.41-.59l7.78-7.78 2.81-2.81c.8-.78.8-2.07 0-2.86zM5.41 20L4 18.59l7.72-7.72 1.47 1.35L5.41 20z\"/>\n",
              "  </svg>\n",
              "      </button>\n",
              "      \n",
              "  <style>\n",
              "    .colab-df-container {\n",
              "      display:flex;\n",
              "      flex-wrap:wrap;\n",
              "      gap: 12px;\n",
              "    }\n",
              "\n",
              "    .colab-df-convert {\n",
              "      background-color: #E8F0FE;\n",
              "      border: none;\n",
              "      border-radius: 50%;\n",
              "      cursor: pointer;\n",
              "      display: none;\n",
              "      fill: #1967D2;\n",
              "      height: 32px;\n",
              "      padding: 0 0 0 0;\n",
              "      width: 32px;\n",
              "    }\n",
              "\n",
              "    .colab-df-convert:hover {\n",
              "      background-color: #E2EBFA;\n",
              "      box-shadow: 0px 1px 2px rgba(60, 64, 67, 0.3), 0px 1px 3px 1px rgba(60, 64, 67, 0.15);\n",
              "      fill: #174EA6;\n",
              "    }\n",
              "\n",
              "    [theme=dark] .colab-df-convert {\n",
              "      background-color: #3B4455;\n",
              "      fill: #D2E3FC;\n",
              "    }\n",
              "\n",
              "    [theme=dark] .colab-df-convert:hover {\n",
              "      background-color: #434B5C;\n",
              "      box-shadow: 0px 1px 3px 1px rgba(0, 0, 0, 0.15);\n",
              "      filter: drop-shadow(0px 1px 2px rgba(0, 0, 0, 0.3));\n",
              "      fill: #FFFFFF;\n",
              "    }\n",
              "  </style>\n",
              "\n",
              "      <script>\n",
              "        const buttonEl =\n",
              "          document.querySelector('#df-451db3c2-a49c-4e10-810e-1d93e2c418bc button.colab-df-convert');\n",
              "        buttonEl.style.display =\n",
              "          google.colab.kernel.accessAllowed ? 'block' : 'none';\n",
              "\n",
              "        async function convertToInteractive(key) {\n",
              "          const element = document.querySelector('#df-451db3c2-a49c-4e10-810e-1d93e2c418bc');\n",
              "          const dataTable =\n",
              "            await google.colab.kernel.invokeFunction('convertToInteractive',\n",
              "                                                     [key], {});\n",
              "          if (!dataTable) return;\n",
              "\n",
              "          const docLinkHtml = 'Like what you see? Visit the ' +\n",
              "            '<a target=\"_blank\" href=https://colab.research.google.com/notebooks/data_table.ipynb>data table notebook</a>'\n",
              "            + ' to learn more about interactive tables.';\n",
              "          element.innerHTML = '';\n",
              "          dataTable['output_type'] = 'display_data';\n",
              "          await google.colab.output.renderOutput(dataTable, element);\n",
              "          const docLink = document.createElement('div');\n",
              "          docLink.innerHTML = docLinkHtml;\n",
              "          element.appendChild(docLink);\n",
              "        }\n",
              "      </script>\n",
              "    </div>\n",
              "  </div>\n",
              "  "
            ]
          },
          "metadata": {},
          "execution_count": 67
        }
      ]
    },
    {
      "cell_type": "code",
      "metadata": {
        "colab": {
          "base_uri": "https://localhost:8080/"
        },
        "id": "d6ZbASwIPnt8",
        "outputId": "c268e0cb-8afe-45e3-8c22-8ed4c0db4eac"
      },
      "source": [
        "Final_Dataset.shape"
      ],
      "execution_count": 68,
      "outputs": [
        {
          "output_type": "execute_result",
          "data": {
            "text/plain": [
              "(73770, 11)"
            ]
          },
          "metadata": {},
          "execution_count": 68
        }
      ]
    },
    {
      "cell_type": "markdown",
      "metadata": {
        "id": "PG4DPgGxao3w"
      },
      "source": [
        "<font color='blue'>As the name suggests Popularity based recommendation system works with the trend. It basically uses the items which are in trend right now. For example, if any book which is usually bought by every new user then there are chances that it may suggest that book to the user who just signed up.<br>\n",
        "Book weighted avg formula:<br>\n",
        "Weighted Rating(WR)=[vR/(v+m)]+[mC/(v+m)]<br>\n",
        "where,<br>\n",
        "v is the number of votes for the books;<br>\n",
        "m is the minimum votes required to be listed in the chart;<br>\n",
        "R is the average rating of the book; and<br>\n",
        "C is the mean vote across the whole report.<br>\n",
        "Now we find the values of v,m,R,C."
      ]
    },
    {
      "cell_type": "code",
      "metadata": {
        "colab": {
          "base_uri": "https://localhost:8080/"
        },
        "id": "oyz-uPOyaPv6",
        "outputId": "b8fef271-7705-4fd6-acde-53551124f1a2"
      },
      "source": [
        "C= Final_Dataset['Avg_Rating'].mean()\n",
        "m= Final_Dataset['Total_No_Of_Users_Rated'].quantile(0.90)\n",
        "Top_Books = Final_Dataset.loc[Final_Dataset['Total_No_Of_Users_Rated'] >= m]\n",
        "print(f'C={C} , m={m}')\n",
        "Top_Books.shape"
      ],
      "execution_count": 69,
      "outputs": [
        {
          "output_type": "stream",
          "name": "stdout",
          "text": [
            "C=7.593588179476752 , m=30.0\n"
          ]
        },
        {
          "output_type": "execute_result",
          "data": {
            "text/plain": [
              "(7423, 11)"
            ]
          },
          "metadata": {},
          "execution_count": 69
        }
      ]
    },
    {
      "cell_type": "markdown",
      "metadata": {
        "id": "B0EZx3plbeWe"
      },
      "source": [
        "<font color='blue'>Here we used 90th percentile as our cutoff. In other words, for a book to feature in the charts, it must have more votes than at least 90% of the books in the list.<br>\n",
        "We see that there are 38570 books which qualify to be in this list. Now, we need to calculate our metric for each qualified book. To do this, we will define a function, weighted_rating() and define a new feature score, of which we’ll calculate the value by applying this function to our DataFrame of qualified books:\n"
      ]
    },
    {
      "cell_type": "code",
      "metadata": {
        "id": "2dswN92ROrB4"
      },
      "source": [
        "def weighted_rating(x, m=m, C=C):\n",
        "    v = x['Total_No_Of_Users_Rated']\n",
        "    R = x['Avg_Rating']\n",
        "    return (v/(v+m) * R) + (m/(m+v) * C)\n",
        "    \n",
        " \n",
        "Top_Books['Score'] = Top_Books.apply(weighted_rating,axis=1)\n",
        " \n",
        " \n",
        "#Sorting books based on score calculated above\n",
        "Top_Books = Top_Books.sort_values('Score', ascending=False)"
      ],
      "execution_count": 70,
      "outputs": []
    },
    {
      "cell_type": "code",
      "metadata": {
        "colab": {
          "base_uri": "https://localhost:8080/",
          "height": 677
        },
        "id": "ND1JhMTsSXGj",
        "outputId": "b35b28d9-2eef-4d40-cbe7-49558bcd4ea6"
      },
      "source": [
        "#Keeping only one entry of each book\n",
        "Top_Books=Top_Books.sort_values('Score', ascending=False).drop_duplicates('ISBN').sort_index()\n",
        "cm=sns.light_palette('yellow',as_cmap=True)\n",
        "#Sorting books based on score calculated above\n",
        "Top_Books = Top_Books.sort_values('Score', ascending=False)\n",
        "\n",
        "#Printing the top 20 books\n",
        "Top_Books[['Book-Title', 'Total_No_Of_Users_Rated', 'Avg_Rating', 'Score']].reset_index(drop=True).head(20).style.background_gradient(cmap=cm)"
      ],
      "execution_count": 71,
      "outputs": [
        {
          "output_type": "execute_result",
          "data": {
            "text/plain": [
              "<pandas.io.formats.style.Styler at 0x7f7b37d95790>"
            ],
            "text/html": [
              "<style type=\"text/css\">\n",
              "#T_89785_row0_col1 {\n",
              "  background-color: #fafa53;\n",
              "  color: #000000;\n",
              "}\n",
              "#T_89785_row0_col2 {\n",
              "  background-color: #fcfc36;\n",
              "  color: #000000;\n",
              "}\n",
              "#T_89785_row0_col3, #T_89785_row1_col1, #T_89785_row2_col2 {\n",
              "  background-color: #ffff00;\n",
              "  color: #000000;\n",
              "}\n",
              "#T_89785_row1_col2 {\n",
              "  background-color: #fbfb49;\n",
              "  color: #000000;\n",
              "}\n",
              "#T_89785_row1_col3 {\n",
              "  background-color: #ffff04;\n",
              "  color: #000000;\n",
              "}\n",
              "#T_89785_row2_col1, #T_89785_row7_col1 {\n",
              "  background-color: #f3f3d0;\n",
              "  color: #000000;\n",
              "}\n",
              "#T_89785_row2_col3 {\n",
              "  background-color: #fbfb45;\n",
              "  color: #000000;\n",
              "}\n",
              "#T_89785_row3_col1, #T_89785_row11_col1 {\n",
              "  background-color: #f3f3cb;\n",
              "  color: #000000;\n",
              "}\n",
              "#T_89785_row3_col2 {\n",
              "  background-color: #fafa51;\n",
              "  color: #000000;\n",
              "}\n",
              "#T_89785_row3_col3 {\n",
              "  background-color: #f8f876;\n",
              "  color: #000000;\n",
              "}\n",
              "#T_89785_row4_col1, #T_89785_row9_col1, #T_89785_row17_col2, #T_89785_row19_col1, #T_89785_row19_col3 {\n",
              "  background-color: #f2f2dd;\n",
              "  color: #000000;\n",
              "}\n",
              "#T_89785_row4_col2 {\n",
              "  background-color: #fefe0a;\n",
              "  color: #000000;\n",
              "}\n",
              "#T_89785_row4_col3 {\n",
              "  background-color: #f8f87c;\n",
              "  color: #000000;\n",
              "}\n",
              "#T_89785_row5_col1, #T_89785_row6_col1, #T_89785_row18_col3 {\n",
              "  background-color: #f2f2db;\n",
              "  color: #000000;\n",
              "}\n",
              "#T_89785_row5_col2 {\n",
              "  background-color: #fbfb48;\n",
              "  color: #000000;\n",
              "}\n",
              "#T_89785_row5_col3 {\n",
              "  background-color: #f6f699;\n",
              "  color: #000000;\n",
              "}\n",
              "#T_89785_row6_col2 {\n",
              "  background-color: #fafa56;\n",
              "  color: #000000;\n",
              "}\n",
              "#T_89785_row6_col3 {\n",
              "  background-color: #f5f5a2;\n",
              "  color: #000000;\n",
              "}\n",
              "#T_89785_row7_col2 {\n",
              "  background-color: #f7f783;\n",
              "  color: #000000;\n",
              "}\n",
              "#T_89785_row7_col3 {\n",
              "  background-color: #f5f5a7;\n",
              "  color: #000000;\n",
              "}\n",
              "#T_89785_row8_col1, #T_89785_row8_col3 {\n",
              "  background-color: #f5f5ad;\n",
              "  color: #000000;\n",
              "}\n",
              "#T_89785_row8_col2, #T_89785_row11_col3, #T_89785_row14_col1 {\n",
              "  background-color: #f4f4bb;\n",
              "  color: #000000;\n",
              "}\n",
              "#T_89785_row9_col2 {\n",
              "  background-color: #f9f961;\n",
              "  color: #000000;\n",
              "}\n",
              "#T_89785_row9_col3, #T_89785_row10_col3 {\n",
              "  background-color: #f5f5b2;\n",
              "  color: #000000;\n",
              "}\n",
              "#T_89785_row10_col1 {\n",
              "  background-color: #f3f3d5;\n",
              "  color: #000000;\n",
              "}\n",
              "#T_89785_row10_col2 {\n",
              "  background-color: #f7f786;\n",
              "  color: #000000;\n",
              "}\n",
              "#T_89785_row11_col2 {\n",
              "  background-color: #f5f5a9;\n",
              "  color: #000000;\n",
              "}\n",
              "#T_89785_row12_col1 {\n",
              "  background-color: #f3f3cf;\n",
              "  color: #000000;\n",
              "}\n",
              "#T_89785_row12_col2 {\n",
              "  background-color: #f5f5a6;\n",
              "  color: #000000;\n",
              "}\n",
              "#T_89785_row12_col3 {\n",
              "  background-color: #f4f4bf;\n",
              "  color: #000000;\n",
              "}\n",
              "#T_89785_row13_col1, #T_89785_row16_col2 {\n",
              "  background-color: #f2f2d8;\n",
              "  color: #000000;\n",
              "}\n",
              "#T_89785_row13_col2 {\n",
              "  background-color: #f6f695;\n",
              "  color: #000000;\n",
              "}\n",
              "#T_89785_row13_col3, #T_89785_row15_col1 {\n",
              "  background-color: #f3f3c5;\n",
              "  color: #000000;\n",
              "}\n",
              "#T_89785_row14_col2, #T_89785_row18_col1, #T_89785_row18_col2 {\n",
              "  background-color: #f3f3ce;\n",
              "  color: #000000;\n",
              "}\n",
              "#T_89785_row14_col3 {\n",
              "  background-color: #f3f3c8;\n",
              "  color: #000000;\n",
              "}\n",
              "#T_89785_row15_col2 {\n",
              "  background-color: #f3f3c4;\n",
              "  color: #000000;\n",
              "}\n",
              "#T_89785_row15_col3, #T_89785_row16_col3 {\n",
              "  background-color: #f3f3c9;\n",
              "  color: #000000;\n",
              "}\n",
              "#T_89785_row16_col1 {\n",
              "  background-color: #f5f5b0;\n",
              "  color: #000000;\n",
              "}\n",
              "#T_89785_row17_col1 {\n",
              "  background-color: #f5f5ab;\n",
              "  color: #000000;\n",
              "}\n",
              "#T_89785_row17_col3 {\n",
              "  background-color: #f3f3cc;\n",
              "  color: #000000;\n",
              "}\n",
              "#T_89785_row19_col2 {\n",
              "  background-color: #f5f5a8;\n",
              "  color: #000000;\n",
              "}\n",
              "</style>\n",
              "<table id=\"T_89785_\" class=\"dataframe\">\n",
              "  <thead>\n",
              "    <tr>\n",
              "      <th class=\"blank level0\" >&nbsp;</th>\n",
              "      <th class=\"col_heading level0 col0\" >Book-Title</th>\n",
              "      <th class=\"col_heading level0 col1\" >Total_No_Of_Users_Rated</th>\n",
              "      <th class=\"col_heading level0 col2\" >Avg_Rating</th>\n",
              "      <th class=\"col_heading level0 col3\" >Score</th>\n",
              "    </tr>\n",
              "  </thead>\n",
              "  <tbody>\n",
              "    <tr>\n",
              "      <th id=\"T_89785_level0_row0\" class=\"row_heading level0 row0\" >0</th>\n",
              "      <td id=\"T_89785_row0_col0\" class=\"data row0 col0\" >Harry Potter and the Order of the Phoenix (Book 5)</td>\n",
              "      <td id=\"T_89785_row0_col1\" class=\"data row0 col1\" >189</td>\n",
              "      <td id=\"T_89785_row0_col2\" class=\"data row0 col2\" >9.015873</td>\n",
              "      <td id=\"T_89785_row0_col3\" class=\"data row0 col3\" >8.821039</td>\n",
              "    </tr>\n",
              "    <tr>\n",
              "      <th id=\"T_89785_level0_row1\" class=\"row_heading level0 row1\" >1</th>\n",
              "      <td id=\"T_89785_row1_col0\" class=\"data row1 col0\" >Harry Potter and the Sorcerer's Stone (Harry Potter (Paperback))</td>\n",
              "      <td id=\"T_89785_row1_col1\" class=\"data row1 col1\" >285</td>\n",
              "      <td id=\"T_89785_row1_col2\" class=\"data row1 col2\" >8.933333</td>\n",
              "      <td id=\"T_89785_row1_col3\" class=\"data row1 col3\" >8.805739</td>\n",
              "    </tr>\n",
              "    <tr>\n",
              "      <th id=\"T_89785_level0_row2\" class=\"row_heading level0 row2\" >2</th>\n",
              "      <td id=\"T_89785_row2_col0\" class=\"data row2 col0\" >Harry Potter and the Sorcerer's Stone (Book 1)</td>\n",
              "      <td id=\"T_89785_row2_col1\" class=\"data row2 col1\" >45</td>\n",
              "      <td id=\"T_89785_row2_col2\" class=\"data row2 col2\" >9.244444</td>\n",
              "      <td id=\"T_89785_row2_col3\" class=\"data row2 col3\" >8.584102</td>\n",
              "    </tr>\n",
              "    <tr>\n",
              "      <th id=\"T_89785_level0_row3\" class=\"row_heading level0 row3\" >3</th>\n",
              "      <td id=\"T_89785_row3_col0\" class=\"data row3 col0\" >Anne of Green Gables (Anne of Green Gables Novels (Paperback))</td>\n",
              "      <td id=\"T_89785_row3_col1\" class=\"data row3 col1\" >51</td>\n",
              "      <td id=\"T_89785_row3_col2\" class=\"data row3 col2\" >8.901961</td>\n",
              "      <td id=\"T_89785_row3_col3\" class=\"data row3 col3\" >8.417378</td>\n",
              "    </tr>\n",
              "    <tr>\n",
              "      <th id=\"T_89785_level0_row4\" class=\"row_heading level0 row4\" >4</th>\n",
              "      <td id=\"T_89785_row4_col0\" class=\"data row4 col0\" >Lonesome Dove</td>\n",
              "      <td id=\"T_89785_row4_col1\" class=\"data row4 col1\" >30</td>\n",
              "      <td id=\"T_89785_row4_col2\" class=\"data row4 col2\" >9.200000</td>\n",
              "      <td id=\"T_89785_row4_col3\" class=\"data row4 col3\" >8.396794</td>\n",
              "    </tr>\n",
              "    <tr>\n",
              "      <th id=\"T_89785_level0_row5\" class=\"row_heading level0 row5\" >5</th>\n",
              "      <td id=\"T_89785_row5_col0\" class=\"data row5 col0\" >A Tree Grows in Brooklyn</td>\n",
              "      <td id=\"T_89785_row5_col1\" class=\"data row5 col1\" >33</td>\n",
              "      <td id=\"T_89785_row5_col2\" class=\"data row5 col2\" >8.939394</td>\n",
              "      <td id=\"T_89785_row5_col3\" class=\"data row5 col3\" >8.298534</td>\n",
              "    </tr>\n",
              "    <tr>\n",
              "      <th id=\"T_89785_level0_row6\" class=\"row_heading level0 row6\" >6</th>\n",
              "      <td id=\"T_89785_row6_col0\" class=\"data row6 col0\" >Sister of My Heart</td>\n",
              "      <td id=\"T_89785_row6_col1\" class=\"data row6 col1\" >33</td>\n",
              "      <td id=\"T_89785_row6_col2\" class=\"data row6 col2\" >8.878788</td>\n",
              "      <td id=\"T_89785_row6_col3\" class=\"data row6 col3\" >8.266788</td>\n",
              "    </tr>\n",
              "    <tr>\n",
              "      <th id=\"T_89785_level0_row7\" class=\"row_heading level0 row7\" >7</th>\n",
              "      <td id=\"T_89785_row7_col0\" class=\"data row7 col0\" >Free</td>\n",
              "      <td id=\"T_89785_row7_col1\" class=\"data row7 col1\" >45</td>\n",
              "      <td id=\"T_89785_row7_col2\" class=\"data row7 col2\" >8.688889</td>\n",
              "      <td id=\"T_89785_row7_col3\" class=\"data row7 col3\" >8.250769</td>\n",
              "    </tr>\n",
              "    <tr>\n",
              "      <th id=\"T_89785_level0_row8\" class=\"row_heading level0 row8\" >8</th>\n",
              "      <td id=\"T_89785_row8_col0\" class=\"data row8 col0\" >Tears of the Giraffe (No.1 Ladies Detective Agency)</td>\n",
              "      <td id=\"T_89785_row8_col1\" class=\"data row8 col1\" >86</td>\n",
              "      <td id=\"T_89785_row8_col2\" class=\"data row8 col2\" >8.453488</td>\n",
              "      <td id=\"T_89785_row8_col3\" class=\"data row8 col3\" >8.231100</td>\n",
              "    </tr>\n",
              "    <tr>\n",
              "      <th id=\"T_89785_level0_row9\" class=\"row_heading level0 row9\" >9</th>\n",
              "      <td id=\"T_89785_row9_col0\" class=\"data row9 col0\" >Drums of Autumn</td>\n",
              "      <td id=\"T_89785_row9_col1\" class=\"data row9 col1\" >30</td>\n",
              "      <td id=\"T_89785_row9_col2\" class=\"data row9 col2\" >8.833333</td>\n",
              "      <td id=\"T_89785_row9_col3\" class=\"data row9 col3\" >8.213461</td>\n",
              "    </tr>\n",
              "    <tr>\n",
              "      <th id=\"T_89785_level0_row10\" class=\"row_heading level0 row10\" >10</th>\n",
              "      <td id=\"T_89785_row10_col0\" class=\"data row10 col0\" >Tuesdays with Morrie: An Old Man, a Young Man, and Life's Greatest Lesson</td>\n",
              "      <td id=\"T_89785_row10_col1\" class=\"data row10 col1\" >40</td>\n",
              "      <td id=\"T_89785_row10_col2\" class=\"data row10 col2\" >8.675000</td>\n",
              "      <td id=\"T_89785_row10_col3\" class=\"data row10 col3\" >8.211538</td>\n",
              "    </tr>\n",
              "    <tr>\n",
              "      <th id=\"T_89785_level0_row11\" class=\"row_heading level0 row11\" >11</th>\n",
              "      <td id=\"T_89785_row11_col0\" class=\"data row11 col0\" >Eats, Shoots &amp; Leaves: The Zero Tolerance Approach to Punctuation</td>\n",
              "      <td id=\"T_89785_row11_col1\" class=\"data row11 col1\" >51</td>\n",
              "      <td id=\"T_89785_row11_col2\" class=\"data row11 col2\" >8.529412</td>\n",
              "      <td id=\"T_89785_row11_col3\" class=\"data row11 col3\" >8.182810</td>\n",
              "    </tr>\n",
              "    <tr>\n",
              "      <th id=\"T_89785_level0_row12\" class=\"row_heading level0 row12\" >12</th>\n",
              "      <td id=\"T_89785_row12_col0\" class=\"data row12 col0\" >The Curious Incident of the Dog in the Night-Time (Vintage Contemporaries)</td>\n",
              "      <td id=\"T_89785_row12_col1\" class=\"data row12 col1\" >46</td>\n",
              "      <td id=\"T_89785_row12_col2\" class=\"data row12 col2\" >8.543478</td>\n",
              "      <td id=\"T_89785_row12_col3\" class=\"data row12 col3\" >8.168522</td>\n",
              "    </tr>\n",
              "    <tr>\n",
              "      <th id=\"T_89785_level0_row13\" class=\"row_heading level0 row13\" >13</th>\n",
              "      <td id=\"T_89785_row13_col0\" class=\"data row13 col0\" >Beach House</td>\n",
              "      <td id=\"T_89785_row13_col1\" class=\"data row13 col1\" >36</td>\n",
              "      <td id=\"T_89785_row13_col2\" class=\"data row13 col2\" >8.611111</td>\n",
              "      <td id=\"T_89785_row13_col3\" class=\"data row13 col3\" >8.148601</td>\n",
              "    </tr>\n",
              "    <tr>\n",
              "      <th id=\"T_89785_level0_row14\" class=\"row_heading level0 row14\" >14</th>\n",
              "      <td id=\"T_89785_row14_col0\" class=\"data row14 col0\" >Interpreter of Maladies</td>\n",
              "      <td id=\"T_89785_row14_col1\" class=\"data row14 col1\" >70</td>\n",
              "      <td id=\"T_89785_row14_col2\" class=\"data row14 col2\" >8.371429</td>\n",
              "      <td id=\"T_89785_row14_col3\" class=\"data row14 col3\" >8.138076</td>\n",
              "    </tr>\n",
              "    <tr>\n",
              "      <th id=\"T_89785_level0_row15\" class=\"row_heading level0 row15\" >15</th>\n",
              "      <td id=\"T_89785_row15_col0\" class=\"data row15 col0\" >The Handmaid's Tale : A Novel</td>\n",
              "      <td id=\"T_89785_row15_col1\" class=\"data row15 col1\" >58</td>\n",
              "      <td id=\"T_89785_row15_col2\" class=\"data row15 col2\" >8.413793</td>\n",
              "      <td id=\"T_89785_row15_col3\" class=\"data row15 col3\" >8.134178</td>\n",
              "    </tr>\n",
              "    <tr>\n",
              "      <th id=\"T_89785_level0_row16\" class=\"row_heading level0 row16\" >16</th>\n",
              "      <td id=\"T_89785_row16_col0\" class=\"data row16 col0\" >The Color of Water: A Black Man's Tribute to His White Mother</td>\n",
              "      <td id=\"T_89785_row16_col1\" class=\"data row16 col1\" >82</td>\n",
              "      <td id=\"T_89785_row16_col2\" class=\"data row16 col2\" >8.329268</td>\n",
              "      <td id=\"T_89785_row16_col3\" class=\"data row16 col3\" >8.132211</td>\n",
              "    </tr>\n",
              "    <tr>\n",
              "      <th id=\"T_89785_level0_row17\" class=\"row_heading level0 row17\" >17</th>\n",
              "      <td id=\"T_89785_row17_col0\" class=\"data row17 col0\" >Angela's Ashes: A Memoir</td>\n",
              "      <td id=\"T_89785_row17_col1\" class=\"data row17 col1\" >88</td>\n",
              "      <td id=\"T_89785_row17_col2\" class=\"data row17 col2\" >8.306818</td>\n",
              "      <td id=\"T_89785_row17_col3\" class=\"data row17 col3\" >8.125489</td>\n",
              "    </tr>\n",
              "    <tr>\n",
              "      <th id=\"T_89785_level0_row18\" class=\"row_heading level0 row18\" >18</th>\n",
              "      <td id=\"T_89785_row18_col0\" class=\"data row18 col0\" >High Fidelity</td>\n",
              "      <td id=\"T_89785_row18_col1\" class=\"data row18 col1\" >48</td>\n",
              "      <td id=\"T_89785_row18_col2\" class=\"data row18 col2\" >8.375000</td>\n",
              "      <td id=\"T_89785_row18_col3\" class=\"data row18 col3\" >8.074457</td>\n",
              "    </tr>\n",
              "    <tr>\n",
              "      <th id=\"T_89785_level0_row19\" class=\"row_heading level0 row19\" >19</th>\n",
              "      <td id=\"T_89785_row19_col0\" class=\"data row19 col0\" >Girl With a Pearl Earring</td>\n",
              "      <td id=\"T_89785_row19_col1\" class=\"data row19 col1\" >30</td>\n",
              "      <td id=\"T_89785_row19_col2\" class=\"data row19 col2\" >8.533333</td>\n",
              "      <td id=\"T_89785_row19_col3\" class=\"data row19 col3\" >8.063461</td>\n",
              "    </tr>\n",
              "  </tbody>\n",
              "</table>\n"
            ]
          },
          "metadata": {},
          "execution_count": 71
        }
      ]
    },
    {
      "cell_type": "markdown",
      "metadata": {
        "id": "fZvv7iAtgWiQ"
      },
      "source": [
        "<font color='blue'>The Popularity based recommender provide a general chart of recommended books to all the users. They are not sensitive to the interests and tastes of a particular user."
      ]
    },
    {
      "cell_type": "markdown",
      "metadata": {
        "id": "7JvGR4cm5L0G"
      },
      "source": [
        "#<font color='blue'>**Model Based Collaborative Filtering Recommender**\n",
        "<font color='blue'>The goal of the recommender system is to predict user preference for a set of items based on the past experience. Two the most popular approaches are Content-Based and Collaborative Filtering.\n",
        "<br>Collaborative filtering is a technique used by websites like Amazon, YouTube, and Netflix. It filters out items that a user might like on the basis of reactions of similar users. There are two categories of collaborative filtering algorithms: memory based and model based.\n",
        "<br>\n",
        "Model based approach involves building machine learning algorithms to predict user's ratings. They involve dimensionality reduction methods that reduce high dimensional matrix containing abundant number of missing values with a much smaller matrix in lower-dimensional space.\n",
        "<br>\n",
        "The goal of this section is to compare SVD and NMF algorithms, try different configurations of parameters and explore obtained results."
      ]
    },
    {
      "cell_type": "code",
      "metadata": {
        "id": "hfzIXezz6e8O"
      },
      "source": [
        "import scipy\n",
        "import math\n",
        "import sklearn\n",
        "from nltk.corpus import stopwords\n",
        "from sklearn.model_selection import train_test_split\n",
        "from sklearn.feature_extraction.text import TfidfVectorizer\n",
        "from sklearn.metrics.pairwise import cosine_similarity\n",
        "from scipy.sparse.linalg import svds\n",
        "import matplotlib.pyplot as plt"
      ],
      "execution_count": 72,
      "outputs": []
    },
    {
      "cell_type": "markdown",
      "metadata": {
        "id": "hDKR-qVE6rPm"
      },
      "source": [
        "<font color='blue'>This analysis will focus on book recommendations based on Book-Crossing dataset. To reduce the dimensionality of the dataset and avoid running into memory error we will focus on users with at least 3 ratings and top 10% most frequently rated books. \n",
        "<br>\n",
        "The recommender systems will be built using surprise package (Matrix Factorization - based models)."
      ]
    },
    {
      "cell_type": "code",
      "metadata": {
        "id": "YdHejqsAY3xe"
      },
      "source": [
        "ratings_explicit.rename(columns = {'User-ID':'user_id' ,'ISBN':'isbn' ,'Book-Rating':'book_rating'},inplace=True)"
      ],
      "execution_count": 73,
      "outputs": []
    },
    {
      "cell_type": "code",
      "metadata": {
        "colab": {
          "base_uri": "https://localhost:8080/"
        },
        "id": "VL3dbmYDY3uD",
        "outputId": "a1247be1-026b-4e67-88f0-c1c1955ba7c0"
      },
      "source": [
        "user_ratings_threshold = 3\n",
        "\n",
        "filter_users = ratings_explicit['user_id'].value_counts()\n",
        "filter_users_list = filter_users[filter_users >= user_ratings_threshold].index.to_list()\n",
        "\n",
        "df_ratings_top = ratings_explicit[ratings_explicit['user_id'].isin(filter_users_list)]\n",
        "\n",
        "print('Filter: users with at least %d ratings\\nNumber of records: %d' % (user_ratings_threshold, len(df_ratings_top)))"
      ],
      "execution_count": 74,
      "outputs": [
        {
          "output_type": "stream",
          "name": "stdout",
          "text": [
            "Filter: users with at least 3 ratings\n",
            "Number of records: 51432\n"
          ]
        }
      ]
    },
    {
      "cell_type": "code",
      "metadata": {
        "colab": {
          "base_uri": "https://localhost:8080/"
        },
        "id": "flCZg72xY3nj",
        "outputId": "02981ac9-c970-4ded-950d-26dbdf17f0ff"
      },
      "source": [
        "book_ratings_threshold_perc = 0.1\n",
        "book_ratings_threshold = len(df_ratings_top['isbn'].unique()) * book_ratings_threshold_perc\n",
        "\n",
        "filter_books_list = df_ratings_top['isbn'].value_counts().head(int(book_ratings_threshold)).index.to_list()\n",
        "df_ratings_top = df_ratings_top[df_ratings_top['isbn'].isin(filter_books_list)]\n",
        "\n",
        "print('Filter: top %d%% most frequently rated books\\nNumber of records: %d' % (book_ratings_threshold_perc*100, len(df_ratings_top)))"
      ],
      "execution_count": 75,
      "outputs": [
        {
          "output_type": "stream",
          "name": "stdout",
          "text": [
            "Filter: top 10% most frequently rated books\n",
            "Number of records: 19110\n"
          ]
        }
      ]
    },
    {
      "cell_type": "markdown",
      "metadata": {
        "id": "_qfRBBg97uzy"
      },
      "source": [
        "<font color='blue'>SVD and NMF models comparison<br>\n",
        "Singular Value Decomposition (SVD) and Non-negative Matrix Factorization (NMF) are matrix factorization techniques used for dimensionality reduction. Surprise package provides implementation of those algorithms.\n"
      ]
    },
    {
      "cell_type": "code",
      "metadata": {
        "colab": {
          "base_uri": "https://localhost:8080/"
        },
        "id": "0vXuL3C9RWBw",
        "outputId": "a41bce7d-a300-4931-8225-8c830aad7f98"
      },
      "source": [
        "pip install surprise"
      ],
      "execution_count": 76,
      "outputs": [
        {
          "output_type": "stream",
          "name": "stdout",
          "text": [
            "Looking in indexes: https://pypi.org/simple, https://us-python.pkg.dev/colab-wheels/public/simple/\n",
            "Collecting surprise\n",
            "  Downloading surprise-0.1-py2.py3-none-any.whl (1.8 kB)\n",
            "Collecting scikit-surprise\n",
            "  Downloading scikit-surprise-1.1.3.tar.gz (771 kB)\n",
            "\u001b[2K     \u001b[90m━━━━━━━━━━━━━━━━━━━━━━━━━━━━━━━━━━━━━━\u001b[0m \u001b[32m772.0/772.0 KB\u001b[0m \u001b[31m14.0 MB/s\u001b[0m eta \u001b[36m0:00:00\u001b[0m\n",
            "\u001b[?25h  Preparing metadata (setup.py) ... \u001b[?25l\u001b[?25hdone\n",
            "Requirement already satisfied: joblib>=1.0.0 in /usr/local/lib/python3.8/dist-packages (from scikit-surprise->surprise) (1.2.0)\n",
            "Requirement already satisfied: numpy>=1.17.3 in /usr/local/lib/python3.8/dist-packages (from scikit-surprise->surprise) (1.21.6)\n",
            "Requirement already satisfied: scipy>=1.3.2 in /usr/local/lib/python3.8/dist-packages (from scikit-surprise->surprise) (1.7.3)\n",
            "Building wheels for collected packages: scikit-surprise\n",
            "  Building wheel for scikit-surprise (setup.py) ... \u001b[?25l\u001b[?25hdone\n",
            "  Created wheel for scikit-surprise: filename=scikit_surprise-1.1.3-cp38-cp38-linux_x86_64.whl size=2626462 sha256=c4f44ee7d81a8a6f043d72a83ca95b3dfd9bd0c1500b22752d1ed63beb72e4bb\n",
            "  Stored in directory: /root/.cache/pip/wheels/af/db/86/2c18183a80ba05da35bf0fb7417aac5cddbd93bcb1b92fd3ea\n",
            "Successfully built scikit-surprise\n",
            "Installing collected packages: scikit-surprise, surprise\n",
            "Successfully installed scikit-surprise-1.1.3 surprise-0.1\n"
          ]
        }
      ]
    },
    {
      "cell_type": "code",
      "metadata": {
        "id": "nU9i3PziRWEH"
      },
      "source": [
        "from surprise import Dataset, Reader\n",
        "from surprise import SVD, NMF\n",
        "from surprise.model_selection import cross_validate, train_test_split, GridSearchCV"
      ],
      "execution_count": 77,
      "outputs": []
    },
    {
      "cell_type": "code",
      "metadata": {
        "id": "J4vhH0-FRV-5"
      },
      "source": [
        "df=df_ratings_top.copy()\n",
        "reader = Reader(rating_scale=(1, 10))\n",
        "data = Dataset.load_from_df(df[['user_id', 'isbn', 'book_rating']], reader)"
      ],
      "execution_count": 78,
      "outputs": []
    },
    {
      "cell_type": "code",
      "metadata": {
        "colab": {
          "base_uri": "https://localhost:8080/"
        },
        "id": "Ty60HiULVuGt",
        "outputId": "21bd6abd-3755-4343-b35b-404480125bb5"
      },
      "source": [
        "model_svd = SVD()\n",
        "cv_results_svd = cross_validate(model_svd, data, cv=3)\n",
        "pd.DataFrame(cv_results_svd).mean()"
      ],
      "execution_count": 79,
      "outputs": [
        {
          "output_type": "execute_result",
          "data": {
            "text/plain": [
              "test_rmse    1.705626\n",
              "test_mae     1.331254\n",
              "fit_time     0.623431\n",
              "test_time    0.109637\n",
              "dtype: float64"
            ]
          },
          "metadata": {},
          "execution_count": 79
        }
      ]
    },
    {
      "cell_type": "code",
      "metadata": {
        "colab": {
          "base_uri": "https://localhost:8080/"
        },
        "id": "s9Z2XE0RWCLv",
        "outputId": "292254e4-6784-47fc-aa67-1793d05f22f7"
      },
      "source": [
        "model_nmf = NMF()\n",
        "cv_results_nmf = cross_validate(model_nmf, data, cv=3)\n",
        "pd.DataFrame(cv_results_nmf).mean()"
      ],
      "execution_count": 80,
      "outputs": [
        {
          "output_type": "execute_result",
          "data": {
            "text/plain": [
              "test_rmse    2.911515\n",
              "test_mae     2.480789\n",
              "fit_time     1.712334\n",
              "test_time    0.140754\n",
              "dtype: float64"
            ]
          },
          "metadata": {},
          "execution_count": 80
        }
      ]
    },
    {
      "cell_type": "markdown",
      "metadata": {
        "id": "IgQi0aJhL8zS"
      },
      "source": [
        "<font color='blue'>\n",
        "It's clear that for the given dataset much better results can be obtained with SVD approach - both in terms of accuracy and training / testing time."
      ]
    },
    {
      "cell_type": "markdown",
      "metadata": {
        "id": "4SQwntNC8UPa"
      },
      "source": [
        "##<font color='blue'>**Optimisation of SVD algorithm**<br>\n",
        "<font color='blue'>Grid Search Cross Validation computes accuracy metrics for an algorithm on various combinations of parameters, over a cross-validation procedure. It's useful for finding the best configuration of parameters.\n",
        "<br>\n",
        "It is used to find the best setting of parameters:\n",
        "<br>\n",
        "n_factors - the number of factors<br>\n",
        "n_epochs - the number of iteration of the SGD procedure<br>\n",
        "lr_all - the learning rate for all parameters<br>\n",
        "reg_all - the regularization term for all parameters<br>\n",
        "As a result, regarding the majority of parameters, the default setting is the most optimal one. The improvement obtained with Grid Search is very small."
      ]
    },
    {
      "cell_type": "code",
      "metadata": {
        "colab": {
          "base_uri": "https://localhost:8080/"
        },
        "id": "F0N0x73VWZXU",
        "outputId": "c034c494-c25b-47d4-8811-c328b3707fa9"
      },
      "source": [
        "param_grid = {'n_factors': [80,100],\n",
        "              'n_epochs': [5, 20],\n",
        "              'lr_all': [0.002, 0.005],\n",
        "              'reg_all': [0.2, 0.4]}\n",
        "\n",
        "gs = GridSearchCV(SVD, param_grid, measures=['rmse', 'mae'], cv=3)\n",
        "gs.fit(data)\n",
        "\n",
        "print(gs.best_score['rmse'])\n",
        "print(gs.best_params['rmse'])"
      ],
      "execution_count": null,
      "outputs": [
        {
          "output_type": "stream",
          "text": [
            "1.5949373387237173\n",
            "{'n_factors': 80, 'n_epochs': 20, 'lr_all': 0.005, 'reg_all': 0.2}\n"
          ],
          "name": "stdout"
        }
      ]
    },
    {
      "cell_type": "markdown",
      "metadata": {
        "id": "DV2BIk4A881O"
      },
      "source": [
        "\n",
        "#<font color='blue'>Analysis of Collaborative Filtering model results\n",
        "<font color='blue'>In this part, let's examine in detail the results obtained by the SVD model that provided the best RMSE score."
      ]
    },
    {
      "cell_type": "code",
      "metadata": {
        "id": "2apZo8CkW1p7"
      },
      "source": [
        "trainset, testset = train_test_split(data, test_size=0.2)\n",
        "\n",
        "model = SVD(n_factors=80, n_epochs=20, lr_all=0.005, reg_all=0.2)\n",
        "model.fit(trainset)\n",
        "predictions = model.test(testset)"
      ],
      "execution_count": 81,
      "outputs": []
    },
    {
      "cell_type": "code",
      "metadata": {
        "colab": {
          "base_uri": "https://localhost:8080/",
          "height": 206
        },
        "id": "eBQ6xFOlfenD",
        "outputId": "0d283865-2e2b-4087-bbc8-8dc536a2e694"
      },
      "source": [
        "df_pred = pd.DataFrame(predictions, columns=['user_id', 'isbn', 'actual_rating', 'pred_rating', 'details'])\n",
        "df_pred['impossible'] = df_pred['details'].apply(lambda x: x['was_impossible'])\n",
        "df_pred['pred_rating_round'] = df_pred['pred_rating'].round()\n",
        "df_pred['abs_err'] = abs(df_pred['pred_rating'] - df_pred['actual_rating'])\n",
        "df_pred.drop(['details'], axis=1, inplace=True)\n",
        "df_pred.sample(5)"
      ],
      "execution_count": 82,
      "outputs": [
        {
          "output_type": "execute_result",
          "data": {
            "text/plain": [
              "      user_id        isbn  actual_rating  pred_rating  impossible  \\\n",
              "2287   157018  155874262X            5.0     7.927062       False   \n",
              "1350   237962  3453213432            7.0     7.271828       False   \n",
              "3450   209160  044021145X            6.0     7.864061       False   \n",
              "2841    67358  1560760699            9.0     7.352796       False   \n",
              "456    238889  014028009X            1.0     8.263019       False   \n",
              "\n",
              "      pred_rating_round   abs_err  \n",
              "2287                8.0  2.927062  \n",
              "1350                7.0  0.271828  \n",
              "3450                8.0  1.864061  \n",
              "2841                7.0  1.647204  \n",
              "456                 8.0  7.263019  "
            ],
            "text/html": [
              "\n",
              "  <div id=\"df-fee52417-2c46-46b2-833f-aa9374ca7b74\">\n",
              "    <div class=\"colab-df-container\">\n",
              "      <div>\n",
              "<style scoped>\n",
              "    .dataframe tbody tr th:only-of-type {\n",
              "        vertical-align: middle;\n",
              "    }\n",
              "\n",
              "    .dataframe tbody tr th {\n",
              "        vertical-align: top;\n",
              "    }\n",
              "\n",
              "    .dataframe thead th {\n",
              "        text-align: right;\n",
              "    }\n",
              "</style>\n",
              "<table border=\"1\" class=\"dataframe\">\n",
              "  <thead>\n",
              "    <tr style=\"text-align: right;\">\n",
              "      <th></th>\n",
              "      <th>user_id</th>\n",
              "      <th>isbn</th>\n",
              "      <th>actual_rating</th>\n",
              "      <th>pred_rating</th>\n",
              "      <th>impossible</th>\n",
              "      <th>pred_rating_round</th>\n",
              "      <th>abs_err</th>\n",
              "    </tr>\n",
              "  </thead>\n",
              "  <tbody>\n",
              "    <tr>\n",
              "      <th>2287</th>\n",
              "      <td>157018</td>\n",
              "      <td>155874262X</td>\n",
              "      <td>5.0</td>\n",
              "      <td>7.927062</td>\n",
              "      <td>False</td>\n",
              "      <td>8.0</td>\n",
              "      <td>2.927062</td>\n",
              "    </tr>\n",
              "    <tr>\n",
              "      <th>1350</th>\n",
              "      <td>237962</td>\n",
              "      <td>3453213432</td>\n",
              "      <td>7.0</td>\n",
              "      <td>7.271828</td>\n",
              "      <td>False</td>\n",
              "      <td>7.0</td>\n",
              "      <td>0.271828</td>\n",
              "    </tr>\n",
              "    <tr>\n",
              "      <th>3450</th>\n",
              "      <td>209160</td>\n",
              "      <td>044021145X</td>\n",
              "      <td>6.0</td>\n",
              "      <td>7.864061</td>\n",
              "      <td>False</td>\n",
              "      <td>8.0</td>\n",
              "      <td>1.864061</td>\n",
              "    </tr>\n",
              "    <tr>\n",
              "      <th>2841</th>\n",
              "      <td>67358</td>\n",
              "      <td>1560760699</td>\n",
              "      <td>9.0</td>\n",
              "      <td>7.352796</td>\n",
              "      <td>False</td>\n",
              "      <td>7.0</td>\n",
              "      <td>1.647204</td>\n",
              "    </tr>\n",
              "    <tr>\n",
              "      <th>456</th>\n",
              "      <td>238889</td>\n",
              "      <td>014028009X</td>\n",
              "      <td>1.0</td>\n",
              "      <td>8.263019</td>\n",
              "      <td>False</td>\n",
              "      <td>8.0</td>\n",
              "      <td>7.263019</td>\n",
              "    </tr>\n",
              "  </tbody>\n",
              "</table>\n",
              "</div>\n",
              "      <button class=\"colab-df-convert\" onclick=\"convertToInteractive('df-fee52417-2c46-46b2-833f-aa9374ca7b74')\"\n",
              "              title=\"Convert this dataframe to an interactive table.\"\n",
              "              style=\"display:none;\">\n",
              "        \n",
              "  <svg xmlns=\"http://www.w3.org/2000/svg\" height=\"24px\"viewBox=\"0 0 24 24\"\n",
              "       width=\"24px\">\n",
              "    <path d=\"M0 0h24v24H0V0z\" fill=\"none\"/>\n",
              "    <path d=\"M18.56 5.44l.94 2.06.94-2.06 2.06-.94-2.06-.94-.94-2.06-.94 2.06-2.06.94zm-11 1L8.5 8.5l.94-2.06 2.06-.94-2.06-.94L8.5 2.5l-.94 2.06-2.06.94zm10 10l.94 2.06.94-2.06 2.06-.94-2.06-.94-.94-2.06-.94 2.06-2.06.94z\"/><path d=\"M17.41 7.96l-1.37-1.37c-.4-.4-.92-.59-1.43-.59-.52 0-1.04.2-1.43.59L10.3 9.45l-7.72 7.72c-.78.78-.78 2.05 0 2.83L4 21.41c.39.39.9.59 1.41.59.51 0 1.02-.2 1.41-.59l7.78-7.78 2.81-2.81c.8-.78.8-2.07 0-2.86zM5.41 20L4 18.59l7.72-7.72 1.47 1.35L5.41 20z\"/>\n",
              "  </svg>\n",
              "      </button>\n",
              "      \n",
              "  <style>\n",
              "    .colab-df-container {\n",
              "      display:flex;\n",
              "      flex-wrap:wrap;\n",
              "      gap: 12px;\n",
              "    }\n",
              "\n",
              "    .colab-df-convert {\n",
              "      background-color: #E8F0FE;\n",
              "      border: none;\n",
              "      border-radius: 50%;\n",
              "      cursor: pointer;\n",
              "      display: none;\n",
              "      fill: #1967D2;\n",
              "      height: 32px;\n",
              "      padding: 0 0 0 0;\n",
              "      width: 32px;\n",
              "    }\n",
              "\n",
              "    .colab-df-convert:hover {\n",
              "      background-color: #E2EBFA;\n",
              "      box-shadow: 0px 1px 2px rgba(60, 64, 67, 0.3), 0px 1px 3px 1px rgba(60, 64, 67, 0.15);\n",
              "      fill: #174EA6;\n",
              "    }\n",
              "\n",
              "    [theme=dark] .colab-df-convert {\n",
              "      background-color: #3B4455;\n",
              "      fill: #D2E3FC;\n",
              "    }\n",
              "\n",
              "    [theme=dark] .colab-df-convert:hover {\n",
              "      background-color: #434B5C;\n",
              "      box-shadow: 0px 1px 3px 1px rgba(0, 0, 0, 0.15);\n",
              "      filter: drop-shadow(0px 1px 2px rgba(0, 0, 0, 0.3));\n",
              "      fill: #FFFFFF;\n",
              "    }\n",
              "  </style>\n",
              "\n",
              "      <script>\n",
              "        const buttonEl =\n",
              "          document.querySelector('#df-fee52417-2c46-46b2-833f-aa9374ca7b74 button.colab-df-convert');\n",
              "        buttonEl.style.display =\n",
              "          google.colab.kernel.accessAllowed ? 'block' : 'none';\n",
              "\n",
              "        async function convertToInteractive(key) {\n",
              "          const element = document.querySelector('#df-fee52417-2c46-46b2-833f-aa9374ca7b74');\n",
              "          const dataTable =\n",
              "            await google.colab.kernel.invokeFunction('convertToInteractive',\n",
              "                                                     [key], {});\n",
              "          if (!dataTable) return;\n",
              "\n",
              "          const docLinkHtml = 'Like what you see? Visit the ' +\n",
              "            '<a target=\"_blank\" href=https://colab.research.google.com/notebooks/data_table.ipynb>data table notebook</a>'\n",
              "            + ' to learn more about interactive tables.';\n",
              "          element.innerHTML = '';\n",
              "          dataTable['output_type'] = 'display_data';\n",
              "          await google.colab.output.renderOutput(dataTable, element);\n",
              "          const docLink = document.createElement('div');\n",
              "          docLink.innerHTML = docLinkHtml;\n",
              "          element.appendChild(docLink);\n",
              "        }\n",
              "      </script>\n",
              "    </div>\n",
              "  </div>\n",
              "  "
            ]
          },
          "metadata": {},
          "execution_count": 82
        }
      ]
    },
    {
      "cell_type": "markdown",
      "metadata": {
        "id": "Pui-I5LJ9POQ"
      },
      "source": [
        "<font color='blue'>Distribution of actual and predicted ratings in the test set\n",
        "According to the distribution of actual ratings of books in the test set, the biggest part of users give positive scores - between 7 and 10. The mode equals 8 but count of ratings 7, 9, 10 is also noticeable. The distribution of predicted ratings in the test set is visibly different. One more time, 8 is a mode but scores 7, 9 and 10 are clearly less frequent.\n",
        "<br>\n",
        "It shows that the recommender system is not perfect and it cannot reflect the real distribution of book ratings."
      ]
    },
    {
      "cell_type": "code",
      "metadata": {
        "colab": {
          "base_uri": "https://localhost:8080/",
          "height": 283
        },
        "id": "TfKdkITjfr7R",
        "outputId": "89d8d710-6f85-4baa-a1b9-d04f6b91da90"
      },
      "source": [
        "palette = sns.color_palette(\"RdBu\", 10)\n",
        "fig, (ax1, ax2) = plt.subplots(nrows=1, ncols=2, figsize=(14, 4))\n",
        "\n",
        "sns.countplot(x='actual_rating', data=df_pred, palette=palette, ax=ax1)\n",
        "ax1.set_title('Distribution of actual ratings of books in the test set')\n",
        "\n",
        "sns.countplot(x='pred_rating_round', data=df_pred, palette=palette, ax=ax2)\n",
        "ax2.set_title('Distribution of predicted ratings of books in the test set')\n",
        "\n",
        "plt.show()"
      ],
      "execution_count": 83,
      "outputs": [
        {
          "output_type": "display_data",
          "data": {
            "text/plain": [
              "<Figure size 1008x288 with 2 Axes>"
            ],
            "image/png": "[encoded data removed]"
          },
          "metadata": {}
        }
      ]
    },
    {
      "cell_type": "markdown",
      "metadata": {
        "id": "0uE6qph990dI"
      },
      "source": [
        "<font color='blue'>**Absolute error of predicted ratings**<br>\n",
        "The distribution of absolute errors is right-skewed, showing that the majority of errors is small: between 0 and 1. There is a long tail that indicates that there are several observations for which the absolute error was close to 10.\n",
        "<br>\n",
        "How good/bad the model is with predicting certain scores? As expected from the above charts, the model deals very well with predicting score = 8 (the most frequent value). The further the rating from score = 8, the higher the absolute error. The biggest errors happen to observations with scores 1 or 2 which indicates that probably the model is predicting high ratings for those observations."
      ]
    },
    {
      "cell_type": "code",
      "metadata": {
        "colab": {
          "base_uri": "https://localhost:8080/",
          "height": 309
        },
        "id": "9zPy4eb1fykN",
        "outputId": "fe4bda8f-da90-4df6-b679-48313cd817da"
      },
      "source": [
        "df_pred_err = df_pred.groupby('actual_rating')['abs_err'].mean().reset_index()\n",
        "\n",
        "fig, (ax1, ax2) = plt.subplots(nrows=1, ncols=2, figsize=(14, 4))\n",
        "\n",
        "sns.distplot(df_pred['abs_err'], color='#2f6194', ax=ax1)\n",
        "ax1.set_title('Distribution of absolute error in test set')\n",
        "\n",
        "sns.barplot(x='actual_rating', y='abs_err', data=df_pred_err, palette=palette, ax=ax2)\n",
        "ax2.set_title('Mean absolute error for rating in test set')\n",
        "\n",
        "plt.show()"
      ],
      "execution_count": 84,
      "outputs": [
        {
          "output_type": "display_data",
          "data": {
            "text/plain": [
              "<Figure size 1008x288 with 2 Axes>"
            ],
            "image/png": "[encoded data removed]"
          },
          "metadata": {}
        }
      ]
    },
    {
      "cell_type": "markdown",
      "metadata": {
        "id": "MsXaOOvW-IkT"
      },
      "source": [
        "<font color='blue'>\n",
        "Analysis of predicted ratings of a particular user<br>\n",
        "For this part of the analysis, the user with id 193458 was selected. By analyzing book ratings by this user, it can be noted that he/she likes diverse types of readings: English romantic novels (Pride and Prejudice, Sense and Sensibility), fantasy (Narnia) as well as historical novels (Schindler's List). Among the recommended books there are other works from Narnia's series, two historical novels and one romance which correlates with user's previous preferences."
      ]
    },
    {
      "cell_type": "code",
      "metadata": {
        "id": "xvTzeXGff1LX"
      },
      "source": [
        "df_books = books.copy()\n",
        "df_books.rename(columns = {'ISBN':'isbn' ,'Book-Title':'book_title'},inplace=True)\n",
        "df_ext = df.merge(df_books[['isbn', 'book_title']], on='isbn', how='left')\n",
        "df_ext = df_ext.merge(df_pred[['isbn', 'user_id', 'pred_rating']], on=['isbn', 'user_id'], how='left')"
      ],
      "execution_count": 85,
      "outputs": []
    },
    {
      "cell_type": "code",
      "metadata": {
        "colab": {
          "base_uri": "https://localhost:8080/",
          "height": 373
        },
        "id": "ZtN5ouA4mCxw",
        "outputId": "114c5b1b-e16e-4dbe-a472-c8f722fce135"
      },
      "source": [
        "selected_user_id = 193458\n",
        "df_user = df_ext[df_ext['user_id']==selected_user_id]\n",
        "\n",
        "df_user[(df_user['pred_rating'].isna())&(df_user['book_rating']>=9)].sample(10)"
      ],
      "execution_count": 86,
      "outputs": [
        {
          "output_type": "error",
          "ename": "ValueError",
          "evalue": "ignored",
          "traceback": [
            "\u001b[0;31m---------------------------------------------------------------------------\u001b[0m",
            "\u001b[0;31mValueError\u001b[0m                                Traceback (most recent call last)",
            "\u001b[0;32m<ipython-input-86-54eeddfdf9ac>\u001b[0m in \u001b[0;36m<module>\u001b[0;34m\u001b[0m\n\u001b[1;32m      2\u001b[0m \u001b[0mdf_user\u001b[0m \u001b[0;34m=\u001b[0m \u001b[0mdf_ext\u001b[0m\u001b[0;34m[\u001b[0m\u001b[0mdf_ext\u001b[0m\u001b[0;34m[\u001b[0m\u001b[0;34m'user_id'\u001b[0m\u001b[0;34m]\u001b[0m\u001b[0;34m==\u001b[0m\u001b[0mselected_user_id\u001b[0m\u001b[0;34m]\u001b[0m\u001b[0;34m\u001b[0m\u001b[0;34m\u001b[0m\u001b[0m\n\u001b[1;32m      3\u001b[0m \u001b[0;34m\u001b[0m\u001b[0m\n\u001b[0;32m----> 4\u001b[0;31m \u001b[0mdf_user\u001b[0m\u001b[0;34m[\u001b[0m\u001b[0;34m(\u001b[0m\u001b[0mdf_user\u001b[0m\u001b[0;34m[\u001b[0m\u001b[0;34m'pred_rating'\u001b[0m\u001b[0;34m]\u001b[0m\u001b[0;34m.\u001b[0m\u001b[0misna\u001b[0m\u001b[0;34m(\u001b[0m\u001b[0;34m)\u001b[0m\u001b[0;34m)\u001b[0m\u001b[0;34m&\u001b[0m\u001b[0;34m(\u001b[0m\u001b[0mdf_user\u001b[0m\u001b[0;34m[\u001b[0m\u001b[0;34m'book_rating'\u001b[0m\u001b[0;34m]\u001b[0m\u001b[0;34m>=\u001b[0m\u001b[0;36m9\u001b[0m\u001b[0;34m)\u001b[0m\u001b[0;34m]\u001b[0m\u001b[0;34m.\u001b[0m\u001b[0msample\u001b[0m\u001b[0;34m(\u001b[0m\u001b[0;36m10\u001b[0m\u001b[0;34m)\u001b[0m\u001b[0;34m\u001b[0m\u001b[0;34m\u001b[0m\u001b[0m\n\u001b[0m",
            "\u001b[0;32m/usr/local/lib/python3.8/dist-packages/pandas/core/generic.py\u001b[0m in \u001b[0;36msample\u001b[0;34m(self, n, frac, replace, weights, random_state, axis, ignore_index)\u001b[0m\n\u001b[1;32m   5363\u001b[0m             )\n\u001b[1;32m   5364\u001b[0m \u001b[0;34m\u001b[0m\u001b[0m\n\u001b[0;32m-> 5365\u001b[0;31m         \u001b[0mlocs\u001b[0m \u001b[0;34m=\u001b[0m \u001b[0mrs\u001b[0m\u001b[0;34m.\u001b[0m\u001b[0mchoice\u001b[0m\u001b[0;34m(\u001b[0m\u001b[0maxis_length\u001b[0m\u001b[0;34m,\u001b[0m \u001b[0msize\u001b[0m\u001b[0;34m=\u001b[0m\u001b[0mn\u001b[0m\u001b[0;34m,\u001b[0m \u001b[0mreplace\u001b[0m\u001b[0;34m=\u001b[0m\u001b[0mreplace\u001b[0m\u001b[0;34m,\u001b[0m \u001b[0mp\u001b[0m\u001b[0;34m=\u001b[0m\u001b[0mweights\u001b[0m\u001b[0;34m)\u001b[0m\u001b[0;34m\u001b[0m\u001b[0;34m\u001b[0m\u001b[0m\n\u001b[0m\u001b[1;32m   5366\u001b[0m         \u001b[0mresult\u001b[0m \u001b[0;34m=\u001b[0m \u001b[0mself\u001b[0m\u001b[0;34m.\u001b[0m\u001b[0mtake\u001b[0m\u001b[0;34m(\u001b[0m\u001b[0mlocs\u001b[0m\u001b[0;34m,\u001b[0m \u001b[0maxis\u001b[0m\u001b[0;34m=\u001b[0m\u001b[0maxis\u001b[0m\u001b[0;34m)\u001b[0m\u001b[0;34m\u001b[0m\u001b[0;34m\u001b[0m\u001b[0m\n\u001b[1;32m   5367\u001b[0m         \u001b[0;32mif\u001b[0m \u001b[0mignore_index\u001b[0m\u001b[0;34m:\u001b[0m\u001b[0;34m\u001b[0m\u001b[0;34m\u001b[0m\u001b[0m\n",
            "\u001b[0;32mmtrand.pyx\u001b[0m in \u001b[0;36mnumpy.random.mtrand.RandomState.choice\u001b[0;34m()\u001b[0m\n",
            "\u001b[0;31mValueError\u001b[0m: Cannot take a larger sample than population when 'replace=False'"
          ]
        }
      ]
    }
  ]
}